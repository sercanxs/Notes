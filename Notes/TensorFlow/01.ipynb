{
  "nbformat": 4,
  "nbformat_minor": 0,
  "metadata": {
    "colab": {
      "name": "01_neural_network_regression_in_tensorflow_video.ipynb",
      "provenance": []
    },
    "kernelspec": {
      "name": "python3",
      "display_name": "Python 3"
    }
  },
  "cells": [
    {
      "cell_type": "markdown",
      "metadata": {
        "id": "nKarSre47Ahv"
      },
      "source": [
        "# Introduction to Regression with Neural Networks in TensorFlow\n",
        "\n",
        "There are many definitions for a regression problem but in our case, we're going to simplify it: predicting a numerical variable based on some other combination of variables, even shorter... predicting a number.\n",
        "\n",
        "See full course materials on GitHub: https://github.com/mrdbourke/tensorflow-deep-learning/"
      ]
    },
    {
      "cell_type": "code",
      "metadata": {
        "colab": {
          "base_uri": "https://localhost:8080/"
        },
        "id": "3u8MsQmV7hDo",
        "outputId": "ed20d851-3232-4259-8636-eb36139a6bf7"
      },
      "source": [
        "# Import TensorFlow\n",
        "import tf_keras as keras\n",
        "import tensorflow as tf\n",
        "print(tf.__version__)"
      ],
      "execution_count": 1,
      "outputs": [
        {
          "output_type": "stream",
          "name": "stdout",
          "text": [
            "2.18.0\n"
          ]
        }
      ]
    },
    {
      "cell_type": "markdown",
      "metadata": {
        "id": "IalXU1QB7spg"
      },
      "source": [
        "## Creating data to view and fit"
      ]
    },
    {
      "cell_type": "code",
      "metadata": {
        "colab": {
          "base_uri": "https://localhost:8080/",
          "height": 435
        },
        "id": "YQZbzH4O70xl",
        "outputId": "f3c26080-1340-4144-b2c7-f77d1dfe9782"
      },
      "source": [
        "import numpy as np\n",
        "import matplotlib.pyplot as plt\n",
        "\n",
        "# Create features\n",
        "X = np.array([-7.0, -4.0, -1.0, 2.0, 5.0, 8.0, 11.0, 14.0])\n",
        "\n",
        "# Create labels\n",
        "y = np.array([3.0, 6.0, 9.0, 12.0, 15.0, 18.0, 21.0, 24.0])\n",
        "\n",
        "# Visualize it\n",
        "plt.scatter(X, y);"
      ],
      "execution_count": 2,
      "outputs": [
        {
          "output_type": "display_data",
          "data": {
            "text/plain": [
              "<Figure size 640x480 with 1 Axes>"
            ],
            "image/png": "[encoded data removed]"
          },
          "metadata": {}
        }
      ]
    },
    {
      "cell_type": "code",
      "metadata": {
        "colab": {
          "base_uri": "https://localhost:8080/"
        },
        "id": "clux4ncl8TJ8",
        "outputId": "3f70ff9d-eaaa-4818-b8f3-3440df22c06e"
      },
      "source": [
        "y == X + 10"
      ],
      "execution_count": 3,
      "outputs": [
        {
          "output_type": "execute_result",
          "data": {
            "text/plain": [
              "array([ True,  True,  True,  True,  True,  True,  True,  True])"
            ]
          },
          "metadata": {},
          "execution_count": 3
        }
      ]
    },
    {
      "cell_type": "markdown",
      "metadata": {
        "id": "KWmKUOWc8mdz"
      },
      "source": [
        "## Input and output shapes"
      ]
    },
    {
      "cell_type": "code",
      "metadata": {
        "colab": {
          "base_uri": "https://localhost:8080/"
        },
        "id": "zmEIIElh8x1Z",
        "outputId": "dc8758ce-8d6c-4c23-fcad-7768410af8c0"
      },
      "source": [
        "# Create a demo tensor for our housing price prediction problem\n",
        "house_info = tf.constant([\"bedroom\", \"bathroom\", \"garage\"])\n",
        "house_price = tf.constant([939700])\n",
        "house_info, house_price"
      ],
      "execution_count": 4,
      "outputs": [
        {
          "output_type": "execute_result",
          "data": {
            "text/plain": [
              "(<tf.Tensor: shape=(3,), dtype=string, numpy=array([b'bedroom', b'bathroom', b'garage'], dtype=object)>,\n",
              " <tf.Tensor: shape=(1,), dtype=int32, numpy=array([939700], dtype=int32)>)"
            ]
          },
          "metadata": {},
          "execution_count": 4
        }
      ]
    },
    {
      "cell_type": "code",
      "metadata": {
        "colab": {
          "base_uri": "https://localhost:8080/"
        },
        "id": "DExhPoos9gZF",
        "outputId": "ed25b13d-d4cd-46f1-a73b-9c9dfb12088b"
      },
      "source": [
        "X[0], y[0]"
      ],
      "execution_count": 5,
      "outputs": [
        {
          "output_type": "execute_result",
          "data": {
            "text/plain": [
              "(-7.0, 3.0)"
            ]
          },
          "metadata": {},
          "execution_count": 5
        }
      ]
    },
    {
      "cell_type": "code",
      "metadata": {
        "colab": {
          "base_uri": "https://localhost:8080/"
        },
        "id": "Nq-Pb-Z69jxp",
        "outputId": "cc1eccde-2996-47c7-fcf9-4d06c9970675"
      },
      "source": [
        "X[1], y[1]"
      ],
      "execution_count": 6,
      "outputs": [
        {
          "output_type": "execute_result",
          "data": {
            "text/plain": [
              "(-4.0, 6.0)"
            ]
          },
          "metadata": {},
          "execution_count": 6
        }
      ]
    },
    {
      "cell_type": "code",
      "metadata": {
        "colab": {
          "base_uri": "https://localhost:8080/"
        },
        "id": "m-20V_X69OE0",
        "outputId": "4bb2b17f-4bb0-4e2e-b3e8-d4e3973eaafe"
      },
      "source": [
        "input_shape = X[0].shape\n",
        "output_shape = y[0].shape\n",
        "input_shape, output_shape"
      ],
      "execution_count": 7,
      "outputs": [
        {
          "output_type": "execute_result",
          "data": {
            "text/plain": [
              "((), ())"
            ]
          },
          "metadata": {},
          "execution_count": 7
        }
      ]
    },
    {
      "cell_type": "code",
      "metadata": {
        "colab": {
          "base_uri": "https://localhost:8080/"
        },
        "id": "UaOI4HU19bBJ",
        "outputId": "dc17a514-16ea-4d5c-b9da-242da6033227"
      },
      "source": [
        "X[0].ndim"
      ],
      "execution_count": 8,
      "outputs": [
        {
          "output_type": "execute_result",
          "data": {
            "text/plain": [
              "0"
            ]
          },
          "metadata": {},
          "execution_count": 8
        }
      ]
    },
    {
      "cell_type": "code",
      "metadata": {
        "colab": {
          "base_uri": "https://localhost:8080/"
        },
        "id": "iYHpBCXQ93xD",
        "outputId": "ba6eb1e1-d8bd-4e28-a80e-206091f18965"
      },
      "source": [
        "X[0], y[0]"
      ],
      "execution_count": 9,
      "outputs": [
        {
          "output_type": "execute_result",
          "data": {
            "text/plain": [
              "(-7.0, 3.0)"
            ]
          },
          "metadata": {},
          "execution_count": 9
        }
      ]
    },
    {
      "cell_type": "code",
      "metadata": {
        "colab": {
          "base_uri": "https://localhost:8080/"
        },
        "id": "CXXzG3aR97i7",
        "outputId": "0d3ceed5-cadb-4db7-b25f-d5b792488760"
      },
      "source": [
        "# Turn our NumPy arrays into tensors with dtype float32\n",
        "X = tf.cast(tf.constant(X), dtype=tf.float32)\n",
        "y = tf.cast(tf.constant(y), dtype=tf.float32)\n",
        "X, y"
      ],
      "execution_count": 10,
      "outputs": [
        {
          "output_type": "execute_result",
          "data": {
            "text/plain": [
              "(<tf.Tensor: shape=(8,), dtype=float32, numpy=array([-7., -4., -1.,  2.,  5.,  8., 11., 14.], dtype=float32)>,\n",
              " <tf.Tensor: shape=(8,), dtype=float32, numpy=array([ 3.,  6.,  9., 12., 15., 18., 21., 24.], dtype=float32)>)"
            ]
          },
          "metadata": {},
          "execution_count": 10
        }
      ]
    },
    {
      "cell_type": "code",
      "metadata": {
        "colab": {
          "base_uri": "https://localhost:8080/"
        },
        "id": "bTUb3n6d_FrY",
        "outputId": "2f1ff5cf-8183-478f-dac6-c88f77e00f09"
      },
      "source": [
        "input_shape = X[0].shape\n",
        "output_shape = y[0].shape\n",
        "input_shape, output_shape"
      ],
      "execution_count": 11,
      "outputs": [
        {
          "output_type": "execute_result",
          "data": {
            "text/plain": [
              "(TensorShape([]), TensorShape([]))"
            ]
          },
          "metadata": {},
          "execution_count": 11
        }
      ]
    },
    {
      "cell_type": "code",
      "metadata": {
        "colab": {
          "base_uri": "https://localhost:8080/",
          "height": 452
        },
        "id": "NUB3rlwu_OZ5",
        "outputId": "4a229b59-9c91-42ab-a3d0-3dbd9df405ec"
      },
      "source": [
        "plt.scatter(X, y)"
      ],
      "execution_count": 12,
      "outputs": [
        {
          "output_type": "execute_result",
          "data": {
            "text/plain": [
              "<matplotlib.collections.PathCollection at 0x78705ca0e190>"
            ]
          },
          "metadata": {},
          "execution_count": 12
        },
        {
          "output_type": "display_data",
          "data": {
            "text/plain": [
              "<Figure size 640x480 with 1 Axes>"
            ],
            "image/png": "[encoded data removed]"
          },
          "metadata": {}
        }
      ]
    },
    {
      "cell_type": "markdown",
      "metadata": {
        "id": "mu0RYMXr_VC-"
      },
      "source": [
        "## Steps in modelling with TensorFlow\n",
        "\n",
        "1. **Creating a model** - define the input and output layers, as well as the hidden layers of a deep learning model.\n",
        "2. **Compiling a model** - define the loss funtion (in other words, the function which tells our model how wrong it is) and the optimizer (tells our model how to improve the patterns its learning) and evaluation metrics (what we can use to interpret the performance of our model).\n",
        "3. Fitting a model - letting the model try to find patterns between X & y (features and labels)."
      ]
    },
    {
      "cell_type": "code",
      "metadata": {
        "colab": {
          "base_uri": "https://localhost:8080/"
        },
        "id": "V9k5wWQe_aU3",
        "outputId": "ed20bc57-3cc7-4a92-b491-39c391dd0218"
      },
      "source": [
        "# Set random seed\n",
        "tf.random.set_seed(42)\n",
        "\n",
        "# 1. Create a model using the Sequential API\n",
        "model = keras.Sequential([\n",
        "  keras.layers.Dense(1)\n",
        "])\n",
        "\n",
        "# 2. Compile the model\n",
        "model.compile(loss=keras.losses.mae, # mae is short for mean absolute error\n",
        "              optimizer=keras.optimizers.SGD(), # sgd is short for stochasitc gradient descent\n",
        "              metrics=[\"mae\"])\n",
        "\n",
        "# 3. Fit the model\n",
        "model.fit(tf.expand_dims(X, axis=-1), y, epochs=5)"
      ],
      "execution_count": 13,
      "outputs": [
        {
          "output_type": "stream",
          "name": "stdout",
          "text": [
            "Epoch 1/5\n",
            "1/1 [==============================] - 1s 1s/step - loss: 16.9444 - mae: 16.9444\n",
            "Epoch 2/5\n",
            "1/1 [==============================] - 0s 17ms/step - loss: 16.6631 - mae: 16.6631\n",
            "Epoch 3/5\n",
            "1/1 [==============================] - 0s 20ms/step - loss: 16.3819 - mae: 16.3819\n",
            "Epoch 4/5\n",
            "1/1 [==============================] - 0s 17ms/step - loss: 16.1006 - mae: 16.1006\n",
            "Epoch 5/5\n",
            "1/1 [==============================] - 0s 14ms/step - loss: 15.8194 - mae: 15.8194\n"
          ]
        },
        {
          "output_type": "execute_result",
          "data": {
            "text/plain": [
              "<tf_keras.src.callbacks.History at 0x78704ac57450>"
            ]
          },
          "metadata": {},
          "execution_count": 13
        }
      ]
    },
    {
      "cell_type": "code",
      "metadata": {
        "colab": {
          "base_uri": "https://localhost:8080/"
        },
        "id": "sOkNe41hChw-",
        "outputId": "6d869bf5-3e3b-4406-ab61-4c3d2b2ffb09"
      },
      "source": [
        "# Check out X and y\n",
        "X, y"
      ],
      "execution_count": 14,
      "outputs": [
        {
          "output_type": "execute_result",
          "data": {
            "text/plain": [
              "(<tf.Tensor: shape=(8,), dtype=float32, numpy=array([-7., -4., -1.,  2.,  5.,  8., 11., 14.], dtype=float32)>,\n",
              " <tf.Tensor: shape=(8,), dtype=float32, numpy=array([ 3.,  6.,  9., 12., 15., 18., 21., 24.], dtype=float32)>)"
            ]
          },
          "metadata": {},
          "execution_count": 14
        }
      ]
    },
    {
      "cell_type": "code",
      "metadata": {
        "colab": {
          "base_uri": "https://localhost:8080/"
        },
        "id": "_JBE5S-4DQFj",
        "outputId": "1808c29f-47c1-42c6-a0eb-cf4523a668cf"
      },
      "source": [
        "# Try and make a prediction using our model\n",
        "y_pred = model.predict([17.0])\n",
        "y_pred"
      ],
      "execution_count": 15,
      "outputs": [
        {
          "output_type": "stream",
          "name": "stdout",
          "text": [
            "1/1 [==============================] - 0s 190ms/step\n"
          ]
        },
        {
          "output_type": "execute_result",
          "data": {
            "text/plain": [
              "array([[-9.08183]], dtype=float32)"
            ]
          },
          "metadata": {},
          "execution_count": 15
        }
      ]
    },
    {
      "cell_type": "code",
      "metadata": {
        "colab": {
          "base_uri": "https://localhost:8080/"
        },
        "id": "HZm0x_e0DdvS",
        "outputId": "ead5e787-3407-4dbd-c6b4-9f8c7c1368d9"
      },
      "source": [
        "y_pred + 11"
      ],
      "execution_count": 16,
      "outputs": [
        {
          "output_type": "execute_result",
          "data": {
            "text/plain": [
              "array([[1.91817]], dtype=float32)"
            ]
          },
          "metadata": {},
          "execution_count": 16
        }
      ]
    },
    {
      "cell_type": "markdown",
      "metadata": {
        "id": "8RIo2cOiDrHC"
      },
      "source": [
        "## Improving our model\n",
        "\n",
        "We can improve our model, by altering the steps we took to create a model.\n",
        "\n",
        "1. **Creating a model** - here we might add more layers, increase the number of hidden units (all called neurons) within each of the hideen layers, change the activation function of each layer.\n",
        "2. **Compiling a model** - here we might change the optimization function or perhaps the **learning rate** of the optimization function.\n",
        "3. **Fitting a model** - here we might fit a model for more **epochs** (leave it training for longer) or on more data (give the model more examples to learn from)."
      ]
    },
    {
      "cell_type": "code",
      "metadata": {
        "colab": {
          "base_uri": "https://localhost:8080/"
        },
        "id": "Ki4x75jCDwlu",
        "outputId": "a4fecb44-33dd-4bd1-fef0-3f8d17568be1"
      },
      "source": [
        "# Let's rebuild our model\n",
        "\n",
        "# 1. Create the model\n",
        "model = keras.Sequential([\n",
        "  keras.layers.Dense(1)\n",
        "])\n",
        "\n",
        "# 2. Compile the model\n",
        "model.compile(loss=keras.losses.mae,\n",
        "              optimizer=keras.optimizers.SGD(),\n",
        "              metrics=[\"mae\"])\n",
        "\n",
        "# 3. Fit the model (this time we'll train for longer)\n",
        "model.fit(tf.expand_dims(X, axis=-1), y, epochs=100)"
      ],
      "execution_count": 17,
      "outputs": [
        {
          "output_type": "stream",
          "name": "stdout",
          "text": [
            "Epoch 1/100\n",
            "1/1 [==============================] - 1s 693ms/step - loss: 17.8176 - mae: 17.8176\n",
            "Epoch 2/100\n",
            "1/1 [==============================] - 0s 21ms/step - loss: 17.5364 - mae: 17.5364\n",
            "Epoch 3/100\n",
            "1/1 [==============================] - 0s 17ms/step - loss: 17.2551 - mae: 17.2551\n",
            "Epoch 4/100\n",
            "1/1 [==============================] - 0s 17ms/step - loss: 16.9739 - mae: 16.9739\n",
            "Epoch 5/100\n",
            "1/1 [==============================] - 0s 20ms/step - loss: 16.6926 - mae: 16.6926\n",
            "Epoch 6/100\n",
            "1/1 [==============================] - 0s 11ms/step - loss: 16.4114 - mae: 16.4114\n",
            "Epoch 7/100\n",
            "1/1 [==============================] - 0s 18ms/step - loss: 16.1301 - mae: 16.1301\n",
            "Epoch 8/100\n",
            "1/1 [==============================] - 0s 27ms/step - loss: 15.8489 - mae: 15.8489\n",
            "Epoch 9/100\n",
            "1/1 [==============================] - 0s 28ms/step - loss: 15.5676 - mae: 15.5676\n",
            "Epoch 10/100\n",
            "1/1 [==============================] - 0s 12ms/step - loss: 15.2864 - mae: 15.2864\n",
            "Epoch 11/100\n",
            "1/1 [==============================] - 0s 11ms/step - loss: 15.0051 - mae: 15.0051\n",
            "Epoch 12/100\n",
            "1/1 [==============================] - 0s 11ms/step - loss: 14.7747 - mae: 14.7747\n",
            "Epoch 13/100\n",
            "1/1 [==============================] - 0s 18ms/step - loss: 14.6422 - mae: 14.6422\n",
            "Epoch 14/100\n",
            "1/1 [==============================] - 0s 13ms/step - loss: 14.5097 - mae: 14.5097\n",
            "Epoch 15/100\n",
            "1/1 [==============================] - 0s 27ms/step - loss: 14.3772 - mae: 14.3772\n",
            "Epoch 16/100\n",
            "1/1 [==============================] - 0s 26ms/step - loss: 14.2447 - mae: 14.2447\n",
            "Epoch 17/100\n",
            "1/1 [==============================] - 0s 16ms/step - loss: 14.1122 - mae: 14.1122\n",
            "Epoch 18/100\n",
            "1/1 [==============================] - 0s 14ms/step - loss: 13.9797 - mae: 13.9797\n",
            "Epoch 19/100\n",
            "1/1 [==============================] - 0s 26ms/step - loss: 13.8472 - mae: 13.8472\n",
            "Epoch 20/100\n",
            "1/1 [==============================] - 0s 14ms/step - loss: 13.7147 - mae: 13.7147\n",
            "Epoch 21/100\n",
            "1/1 [==============================] - 0s 13ms/step - loss: 13.5822 - mae: 13.5822\n",
            "Epoch 22/100\n",
            "1/1 [==============================] - 0s 13ms/step - loss: 13.4497 - mae: 13.4497\n",
            "Epoch 23/100\n",
            "1/1 [==============================] - 0s 22ms/step - loss: 13.3172 - mae: 13.3172\n",
            "Epoch 24/100\n",
            "1/1 [==============================] - 0s 14ms/step - loss: 13.1847 - mae: 13.1847\n",
            "Epoch 25/100\n",
            "1/1 [==============================] - 0s 15ms/step - loss: 13.0522 - mae: 13.0522\n",
            "Epoch 26/100\n",
            "1/1 [==============================] - 0s 29ms/step - loss: 12.9197 - mae: 12.9197\n",
            "Epoch 27/100\n",
            "1/1 [==============================] - 0s 26ms/step - loss: 12.7872 - mae: 12.7872\n",
            "Epoch 28/100\n",
            "1/1 [==============================] - 0s 27ms/step - loss: 12.6547 - mae: 12.6547\n",
            "Epoch 29/100\n",
            "1/1 [==============================] - 0s 22ms/step - loss: 12.5222 - mae: 12.5222\n",
            "Epoch 30/100\n",
            "1/1 [==============================] - 0s 11ms/step - loss: 12.3897 - mae: 12.3897\n",
            "Epoch 31/100\n",
            "1/1 [==============================] - 0s 16ms/step - loss: 12.2572 - mae: 12.2572\n",
            "Epoch 32/100\n",
            "1/1 [==============================] - 0s 16ms/step - loss: 12.1247 - mae: 12.1247\n",
            "Epoch 33/100\n",
            "1/1 [==============================] - 0s 25ms/step - loss: 11.9922 - mae: 11.9922\n",
            "Epoch 34/100\n",
            "1/1 [==============================] - 0s 17ms/step - loss: 11.8597 - mae: 11.8597\n",
            "Epoch 35/100\n",
            "1/1 [==============================] - 0s 25ms/step - loss: 11.7272 - mae: 11.7272\n",
            "Epoch 36/100\n",
            "1/1 [==============================] - 0s 32ms/step - loss: 11.5947 - mae: 11.5947\n",
            "Epoch 37/100\n",
            "1/1 [==============================] - 0s 38ms/step - loss: 11.4622 - mae: 11.4622\n",
            "Epoch 38/100\n",
            "1/1 [==============================] - 0s 40ms/step - loss: 11.3297 - mae: 11.3297\n",
            "Epoch 39/100\n",
            "1/1 [==============================] - 0s 25ms/step - loss: 11.1972 - mae: 11.1972\n",
            "Epoch 40/100\n",
            "1/1 [==============================] - 0s 24ms/step - loss: 11.0647 - mae: 11.0647\n",
            "Epoch 41/100\n",
            "1/1 [==============================] - 0s 24ms/step - loss: 10.9322 - mae: 10.9322\n",
            "Epoch 42/100\n",
            "1/1 [==============================] - 0s 28ms/step - loss: 10.7997 - mae: 10.7997\n",
            "Epoch 43/100\n",
            "1/1 [==============================] - 0s 25ms/step - loss: 10.6672 - mae: 10.6672\n",
            "Epoch 44/100\n",
            "1/1 [==============================] - 0s 26ms/step - loss: 10.5347 - mae: 10.5347\n",
            "Epoch 45/100\n",
            "1/1 [==============================] - 0s 32ms/step - loss: 10.4022 - mae: 10.4022\n",
            "Epoch 46/100\n",
            "1/1 [==============================] - 0s 36ms/step - loss: 10.2697 - mae: 10.2697\n",
            "Epoch 47/100\n",
            "1/1 [==============================] - 0s 17ms/step - loss: 10.1372 - mae: 10.1372\n",
            "Epoch 48/100\n",
            "1/1 [==============================] - 0s 29ms/step - loss: 10.0047 - mae: 10.0047\n",
            "Epoch 49/100\n",
            "1/1 [==============================] - 0s 12ms/step - loss: 9.8722 - mae: 9.8722\n",
            "Epoch 50/100\n",
            "1/1 [==============================] - 0s 24ms/step - loss: 9.7397 - mae: 9.7397\n",
            "Epoch 51/100\n",
            "1/1 [==============================] - 0s 22ms/step - loss: 9.6072 - mae: 9.6072\n",
            "Epoch 52/100\n",
            "1/1 [==============================] - 0s 22ms/step - loss: 9.4747 - mae: 9.4747\n",
            "Epoch 53/100\n",
            "1/1 [==============================] - 0s 13ms/step - loss: 9.3422 - mae: 9.3422\n",
            "Epoch 54/100\n",
            "1/1 [==============================] - 0s 14ms/step - loss: 9.2097 - mae: 9.2097\n",
            "Epoch 55/100\n",
            "1/1 [==============================] - 0s 29ms/step - loss: 9.0772 - mae: 9.0772\n",
            "Epoch 56/100\n",
            "1/1 [==============================] - 0s 19ms/step - loss: 8.9447 - mae: 8.9447\n",
            "Epoch 57/100\n",
            "1/1 [==============================] - 0s 17ms/step - loss: 8.8122 - mae: 8.8122\n",
            "Epoch 58/100\n",
            "1/1 [==============================] - 0s 23ms/step - loss: 8.6797 - mae: 8.6797\n",
            "Epoch 59/100\n",
            "1/1 [==============================] - 0s 25ms/step - loss: 8.5472 - mae: 8.5472\n",
            "Epoch 60/100\n",
            "1/1 [==============================] - 0s 25ms/step - loss: 8.4147 - mae: 8.4147\n",
            "Epoch 61/100\n",
            "1/1 [==============================] - 0s 18ms/step - loss: 8.2822 - mae: 8.2822\n",
            "Epoch 62/100\n",
            "1/1 [==============================] - 0s 29ms/step - loss: 8.1497 - mae: 8.1497\n",
            "Epoch 63/100\n",
            "1/1 [==============================] - 0s 17ms/step - loss: 8.0172 - mae: 8.0172\n",
            "Epoch 64/100\n",
            "1/1 [==============================] - 0s 20ms/step - loss: 7.8847 - mae: 7.8847\n",
            "Epoch 65/100\n",
            "1/1 [==============================] - 0s 15ms/step - loss: 7.7522 - mae: 7.7522\n",
            "Epoch 66/100\n",
            "1/1 [==============================] - 0s 15ms/step - loss: 7.6197 - mae: 7.6197\n",
            "Epoch 67/100\n",
            "1/1 [==============================] - 0s 18ms/step - loss: 7.4872 - mae: 7.4872\n",
            "Epoch 68/100\n",
            "1/1 [==============================] - 0s 16ms/step - loss: 7.3547 - mae: 7.3547\n",
            "Epoch 69/100\n",
            "1/1 [==============================] - 0s 16ms/step - loss: 7.2222 - mae: 7.2222\n",
            "Epoch 70/100\n",
            "1/1 [==============================] - 0s 17ms/step - loss: 7.0897 - mae: 7.0897\n",
            "Epoch 71/100\n",
            "1/1 [==============================] - 0s 16ms/step - loss: 6.9956 - mae: 6.9956\n",
            "Epoch 72/100\n",
            "1/1 [==============================] - 0s 29ms/step - loss: 6.9900 - mae: 6.9900\n",
            "Epoch 73/100\n",
            "1/1 [==============================] - 0s 21ms/step - loss: 6.9844 - mae: 6.9844\n",
            "Epoch 74/100\n",
            "1/1 [==============================] - 0s 16ms/step - loss: 6.9788 - mae: 6.9788\n",
            "Epoch 75/100\n",
            "1/1 [==============================] - 0s 13ms/step - loss: 6.9731 - mae: 6.9731\n",
            "Epoch 76/100\n",
            "1/1 [==============================] - 0s 13ms/step - loss: 6.9675 - mae: 6.9675\n",
            "Epoch 77/100\n",
            "1/1 [==============================] - 0s 14ms/step - loss: 6.9619 - mae: 6.9619\n",
            "Epoch 78/100\n",
            "1/1 [==============================] - 0s 13ms/step - loss: 6.9563 - mae: 6.9563\n",
            "Epoch 79/100\n",
            "1/1 [==============================] - 0s 14ms/step - loss: 6.9506 - mae: 6.9506\n",
            "Epoch 80/100\n",
            "1/1 [==============================] - 0s 21ms/step - loss: 6.9450 - mae: 6.9450\n",
            "Epoch 81/100\n",
            "1/1 [==============================] - 0s 12ms/step - loss: 6.9394 - mae: 6.9394\n",
            "Epoch 82/100\n",
            "1/1 [==============================] - 0s 14ms/step - loss: 6.9338 - mae: 6.9338\n",
            "Epoch 83/100\n",
            "1/1 [==============================] - 0s 16ms/step - loss: 6.9281 - mae: 6.9281\n",
            "Epoch 84/100\n",
            "1/1 [==============================] - 0s 16ms/step - loss: 6.9225 - mae: 6.9225\n",
            "Epoch 85/100\n",
            "1/1 [==============================] - 0s 15ms/step - loss: 6.9169 - mae: 6.9169\n",
            "Epoch 86/100\n",
            "1/1 [==============================] - 0s 32ms/step - loss: 6.9113 - mae: 6.9113\n",
            "Epoch 87/100\n",
            "1/1 [==============================] - 0s 36ms/step - loss: 6.9056 - mae: 6.9056\n",
            "Epoch 88/100\n",
            "1/1 [==============================] - 0s 24ms/step - loss: 6.9000 - mae: 6.9000\n",
            "Epoch 89/100\n",
            "1/1 [==============================] - 0s 22ms/step - loss: 6.8944 - mae: 6.8944\n",
            "Epoch 90/100\n",
            "1/1 [==============================] - 0s 20ms/step - loss: 6.8888 - mae: 6.8888\n",
            "Epoch 91/100\n",
            "1/1 [==============================] - 0s 15ms/step - loss: 6.8831 - mae: 6.8831\n",
            "Epoch 92/100\n",
            "1/1 [==============================] - 0s 14ms/step - loss: 6.8775 - mae: 6.8775\n",
            "Epoch 93/100\n",
            "1/1 [==============================] - 0s 24ms/step - loss: 6.8719 - mae: 6.8719\n",
            "Epoch 94/100\n",
            "1/1 [==============================] - 0s 14ms/step - loss: 6.8663 - mae: 6.8663\n",
            "Epoch 95/100\n",
            "1/1 [==============================] - 0s 25ms/step - loss: 6.8606 - mae: 6.8606\n",
            "Epoch 96/100\n",
            "1/1 [==============================] - 0s 15ms/step - loss: 6.8550 - mae: 6.8550\n",
            "Epoch 97/100\n",
            "1/1 [==============================] - 0s 42ms/step - loss: 6.8494 - mae: 6.8494\n",
            "Epoch 98/100\n",
            "1/1 [==============================] - 0s 16ms/step - loss: 6.8438 - mae: 6.8438\n",
            "Epoch 99/100\n",
            "1/1 [==============================] - 0s 20ms/step - loss: 6.8381 - mae: 6.8381\n",
            "Epoch 100/100\n",
            "1/1 [==============================] - 0s 23ms/step - loss: 6.8325 - mae: 6.8325\n"
          ]
        },
        {
          "output_type": "execute_result",
          "data": {
            "text/plain": [
              "<tf_keras.src.callbacks.History at 0x78704cdaafd0>"
            ]
          },
          "metadata": {},
          "execution_count": 17
        }
      ]
    },
    {
      "cell_type": "code",
      "metadata": {
        "colab": {
          "base_uri": "https://localhost:8080/"
        },
        "id": "UMa-jMl6ccRT",
        "outputId": "4830e6c6-8e7c-4ea2-8602-d925e9796ec4"
      },
      "source": [
        "# Remind ourselves of the data\n",
        "X, y"
      ],
      "execution_count": 18,
      "outputs": [
        {
          "output_type": "execute_result",
          "data": {
            "text/plain": [
              "(<tf.Tensor: shape=(8,), dtype=float32, numpy=array([-7., -4., -1.,  2.,  5.,  8., 11., 14.], dtype=float32)>,\n",
              " <tf.Tensor: shape=(8,), dtype=float32, numpy=array([ 3.,  6.,  9., 12., 15., 18., 21., 24.], dtype=float32)>)"
            ]
          },
          "metadata": {},
          "execution_count": 18
        }
      ]
    },
    {
      "cell_type": "code",
      "metadata": {
        "colab": {
          "base_uri": "https://localhost:8080/"
        },
        "id": "8_w1g_ZKc0K_",
        "outputId": "b5ae7aba-4b90-4a8d-b2e7-19774faf2097"
      },
      "source": [
        "# Let's see if our model's prediction has improved...\n",
        "model.predict([17.0])"
      ],
      "execution_count": 19,
      "outputs": [
        {
          "output_type": "stream",
          "name": "stdout",
          "text": [
            "1/1 [==============================] - 0s 206ms/step\n"
          ]
        },
        {
          "output_type": "execute_result",
          "data": {
            "text/plain": [
              "array([[29.410496]], dtype=float32)"
            ]
          },
          "metadata": {},
          "execution_count": 19
        }
      ]
    },
    {
      "cell_type": "code",
      "metadata": {
        "colab": {
          "base_uri": "https://localhost:8080/"
        },
        "id": "y8r7_kLzc932",
        "outputId": "1747032e-68bc-49b6-b92d-b714a271b09a"
      },
      "source": [
        "# Let's see if we can make another to improve our model\n",
        "\n",
        "# 1. Create the model (this time with an extra hidden layer with 100 hidden units)\n",
        "model = keras.Sequential([\n",
        "  keras.layers.Dense(50, activation=None),\n",
        "  keras.layers.Dense(1)\n",
        "])\n",
        "\n",
        "# 2. Compile the model\n",
        "model.compile(loss=\"mae\",\n",
        "              optimizer=keras.optimizers.Adam(learning_rate=0.01),\n",
        "              metrics=[\"mae\"])\n",
        "\n",
        "# 3. Fit the model\n",
        "model.fit(tf.expand_dims(X, axis=-1), y, epochs=100)"
      ],
      "execution_count": 21,
      "outputs": [
        {
          "output_type": "stream",
          "name": "stdout",
          "text": [
            "Epoch 1/100\n",
            "1/1 [==============================] - 2s 2s/step - loss: 14.0514 - mae: 14.0514\n",
            "Epoch 2/100\n",
            "1/1 [==============================] - 0s 14ms/step - loss: 13.3641 - mae: 13.3641\n",
            "Epoch 3/100\n",
            "1/1 [==============================] - 0s 27ms/step - loss: 12.6829 - mae: 12.6829\n",
            "Epoch 4/100\n",
            "1/1 [==============================] - 0s 17ms/step - loss: 12.0062 - mae: 12.0062\n",
            "Epoch 5/100\n",
            "1/1 [==============================] - 0s 15ms/step - loss: 11.3324 - mae: 11.3324\n",
            "Epoch 6/100\n",
            "1/1 [==============================] - 0s 15ms/step - loss: 10.6592 - mae: 10.6592\n",
            "Epoch 7/100\n",
            "1/1 [==============================] - 0s 11ms/step - loss: 9.9833 - mae: 9.9833\n",
            "Epoch 8/100\n",
            "1/1 [==============================] - 0s 10ms/step - loss: 9.3013 - mae: 9.3013\n",
            "Epoch 9/100\n",
            "1/1 [==============================] - 0s 13ms/step - loss: 8.6101 - mae: 8.6101\n",
            "Epoch 10/100\n",
            "1/1 [==============================] - 0s 17ms/step - loss: 7.9068 - mae: 7.9068\n",
            "Epoch 11/100\n",
            "1/1 [==============================] - 0s 16ms/step - loss: 7.1882 - mae: 7.1882\n",
            "Epoch 12/100\n",
            "1/1 [==============================] - 0s 17ms/step - loss: 6.6834 - mae: 6.6834\n",
            "Epoch 13/100\n",
            "1/1 [==============================] - 0s 21ms/step - loss: 6.7814 - mae: 6.7814\n",
            "Epoch 14/100\n",
            "1/1 [==============================] - 0s 23ms/step - loss: 7.0580 - mae: 7.0580\n",
            "Epoch 15/100\n",
            "1/1 [==============================] - 0s 17ms/step - loss: 7.2317 - mae: 7.2317\n",
            "Epoch 16/100\n",
            "1/1 [==============================] - 0s 14ms/step - loss: 7.4356 - mae: 7.4356\n",
            "Epoch 17/100\n",
            "1/1 [==============================] - 0s 23ms/step - loss: 7.4293 - mae: 7.4293\n",
            "Epoch 18/100\n",
            "1/1 [==============================] - 0s 23ms/step - loss: 7.2620 - mae: 7.2620\n",
            "Epoch 19/100\n",
            "1/1 [==============================] - 0s 24ms/step - loss: 6.9731 - mae: 6.9731\n",
            "Epoch 20/100\n",
            "1/1 [==============================] - 0s 25ms/step - loss: 6.7270 - mae: 6.7270\n",
            "Epoch 21/100\n",
            "1/1 [==============================] - 0s 26ms/step - loss: 6.4723 - mae: 6.4723\n",
            "Epoch 22/100\n",
            "1/1 [==============================] - 0s 23ms/step - loss: 6.2069 - mae: 6.2069\n",
            "Epoch 23/100\n",
            "1/1 [==============================] - 0s 25ms/step - loss: 6.0281 - mae: 6.0281\n",
            "Epoch 24/100\n",
            "1/1 [==============================] - 0s 21ms/step - loss: 5.9865 - mae: 5.9865\n",
            "Epoch 25/100\n",
            "1/1 [==============================] - 0s 17ms/step - loss: 6.0021 - mae: 6.0021\n",
            "Epoch 26/100\n",
            "1/1 [==============================] - 0s 18ms/step - loss: 6.0712 - mae: 6.0712\n",
            "Epoch 27/100\n",
            "1/1 [==============================] - 0s 16ms/step - loss: 6.0448 - mae: 6.0448\n",
            "Epoch 28/100\n",
            "1/1 [==============================] - 0s 15ms/step - loss: 5.9344 - mae: 5.9344\n",
            "Epoch 29/100\n",
            "1/1 [==============================] - 0s 15ms/step - loss: 5.7483 - mae: 5.7483\n",
            "Epoch 30/100\n",
            "1/1 [==============================] - 0s 19ms/step - loss: 5.5439 - mae: 5.5439\n",
            "Epoch 31/100\n",
            "1/1 [==============================] - 0s 23ms/step - loss: 5.4411 - mae: 5.4411\n",
            "Epoch 32/100\n",
            "1/1 [==============================] - 0s 20ms/step - loss: 5.3348 - mae: 5.3348\n",
            "Epoch 33/100\n",
            "1/1 [==============================] - 0s 18ms/step - loss: 5.2451 - mae: 5.2451\n",
            "Epoch 34/100\n",
            "1/1 [==============================] - 0s 17ms/step - loss: 5.2169 - mae: 5.2169\n",
            "Epoch 35/100\n",
            "1/1 [==============================] - 0s 17ms/step - loss: 5.1497 - mae: 5.1497\n",
            "Epoch 36/100\n",
            "1/1 [==============================] - 0s 16ms/step - loss: 5.0463 - mae: 5.0463\n",
            "Epoch 37/100\n",
            "1/1 [==============================] - 0s 21ms/step - loss: 4.9094 - mae: 4.9094\n",
            "Epoch 38/100\n",
            "1/1 [==============================] - 0s 20ms/step - loss: 4.7417 - mae: 4.7417\n",
            "Epoch 39/100\n",
            "1/1 [==============================] - 0s 22ms/step - loss: 4.6430 - mae: 4.6430\n",
            "Epoch 40/100\n",
            "1/1 [==============================] - 0s 13ms/step - loss: 4.5452 - mae: 4.5452\n",
            "Epoch 41/100\n",
            "1/1 [==============================] - 0s 26ms/step - loss: 4.4395 - mae: 4.4395\n",
            "Epoch 42/100\n",
            "1/1 [==============================] - 0s 26ms/step - loss: 4.3343 - mae: 4.3343\n",
            "Epoch 43/100\n",
            "1/1 [==============================] - 0s 18ms/step - loss: 4.1938 - mae: 4.1938\n",
            "Epoch 44/100\n",
            "1/1 [==============================] - 0s 18ms/step - loss: 4.0542 - mae: 4.0542\n",
            "Epoch 45/100\n",
            "1/1 [==============================] - 0s 16ms/step - loss: 3.9067 - mae: 3.9067\n",
            "Epoch 46/100\n",
            "1/1 [==============================] - 0s 20ms/step - loss: 3.7511 - mae: 3.7511\n",
            "Epoch 47/100\n",
            "1/1 [==============================] - 0s 19ms/step - loss: 3.5871 - mae: 3.5871\n",
            "Epoch 48/100\n",
            "1/1 [==============================] - 0s 21ms/step - loss: 3.4145 - mae: 3.4145\n",
            "Epoch 49/100\n",
            "1/1 [==============================] - 0s 22ms/step - loss: 3.2328 - mae: 3.2328\n",
            "Epoch 50/100\n",
            "1/1 [==============================] - 0s 25ms/step - loss: 3.0951 - mae: 3.0951\n",
            "Epoch 51/100\n",
            "1/1 [==============================] - 0s 23ms/step - loss: 2.9159 - mae: 2.9159\n",
            "Epoch 52/100\n",
            "1/1 [==============================] - 0s 23ms/step - loss: 2.6802 - mae: 2.6802\n",
            "Epoch 53/100\n",
            "1/1 [==============================] - 0s 10ms/step - loss: 2.4804 - mae: 2.4804\n",
            "Epoch 54/100\n",
            "1/1 [==============================] - 0s 10ms/step - loss: 2.2983 - mae: 2.2983\n",
            "Epoch 55/100\n",
            "1/1 [==============================] - 0s 17ms/step - loss: 2.0587 - mae: 2.0587\n",
            "Epoch 56/100\n",
            "1/1 [==============================] - 0s 18ms/step - loss: 1.8105 - mae: 1.8105\n",
            "Epoch 57/100\n",
            "1/1 [==============================] - 0s 17ms/step - loss: 1.6752 - mae: 1.6752\n",
            "Epoch 58/100\n",
            "1/1 [==============================] - 0s 17ms/step - loss: 1.4922 - mae: 1.4922\n",
            "Epoch 59/100\n",
            "1/1 [==============================] - 0s 12ms/step - loss: 1.1643 - mae: 1.1643\n",
            "Epoch 60/100\n",
            "1/1 [==============================] - 0s 20ms/step - loss: 0.8095 - mae: 0.8095\n",
            "Epoch 61/100\n",
            "1/1 [==============================] - 0s 21ms/step - loss: 0.6726 - mae: 0.6726\n",
            "Epoch 62/100\n",
            "1/1 [==============================] - 0s 21ms/step - loss: 0.3853 - mae: 0.3853\n",
            "Epoch 63/100\n",
            "1/1 [==============================] - 0s 28ms/step - loss: 0.0820 - mae: 0.0820\n",
            "Epoch 64/100\n",
            "1/1 [==============================] - 0s 25ms/step - loss: 0.2875 - mae: 0.2875\n",
            "Epoch 65/100\n",
            "1/1 [==============================] - 0s 29ms/step - loss: 0.5584 - mae: 0.5584\n",
            "Epoch 66/100\n",
            "1/1 [==============================] - 0s 16ms/step - loss: 0.6212 - mae: 0.6212\n",
            "Epoch 67/100\n",
            "1/1 [==============================] - 0s 20ms/step - loss: 0.6837 - mae: 0.6837\n",
            "Epoch 68/100\n",
            "1/1 [==============================] - 0s 14ms/step - loss: 0.7313 - mae: 0.7313\n",
            "Epoch 69/100\n",
            "1/1 [==============================] - 0s 17ms/step - loss: 0.6318 - mae: 0.6318\n",
            "Epoch 70/100\n",
            "1/1 [==============================] - 0s 22ms/step - loss: 0.6002 - mae: 0.6002\n",
            "Epoch 71/100\n",
            "1/1 [==============================] - 0s 16ms/step - loss: 0.4986 - mae: 0.4986\n",
            "Epoch 72/100\n",
            "1/1 [==============================] - 0s 26ms/step - loss: 0.4083 - mae: 0.4083\n",
            "Epoch 73/100\n",
            "1/1 [==============================] - 0s 16ms/step - loss: 0.3083 - mae: 0.3083\n",
            "Epoch 74/100\n",
            "1/1 [==============================] - 0s 17ms/step - loss: 0.1203 - mae: 0.1203\n",
            "Epoch 75/100\n",
            "1/1 [==============================] - 0s 24ms/step - loss: 0.3054 - mae: 0.3054\n",
            "Epoch 76/100\n",
            "1/1 [==============================] - 0s 20ms/step - loss: 0.3075 - mae: 0.3075\n",
            "Epoch 77/100\n",
            "1/1 [==============================] - 0s 18ms/step - loss: 0.3714 - mae: 0.3714\n",
            "Epoch 78/100\n",
            "1/1 [==============================] - 0s 24ms/step - loss: 0.4977 - mae: 0.4977\n",
            "Epoch 79/100\n",
            "1/1 [==============================] - 0s 33ms/step - loss: 0.4499 - mae: 0.4499\n",
            "Epoch 80/100\n",
            "1/1 [==============================] - 0s 38ms/step - loss: 0.3706 - mae: 0.3706\n",
            "Epoch 81/100\n",
            "1/1 [==============================] - 0s 16ms/step - loss: 0.4394 - mae: 0.4394\n",
            "Epoch 82/100\n",
            "1/1 [==============================] - 0s 43ms/step - loss: 0.2888 - mae: 0.2888\n",
            "Epoch 83/100\n",
            "1/1 [==============================] - 0s 25ms/step - loss: 0.2977 - mae: 0.2977\n",
            "Epoch 84/100\n",
            "1/1 [==============================] - 0s 18ms/step - loss: 0.3328 - mae: 0.3328\n",
            "Epoch 85/100\n",
            "1/1 [==============================] - 0s 22ms/step - loss: 0.1353 - mae: 0.1353\n",
            "Epoch 86/100\n",
            "1/1 [==============================] - 0s 22ms/step - loss: 0.3723 - mae: 0.3723\n",
            "Epoch 87/100\n",
            "1/1 [==============================] - 0s 21ms/step - loss: 0.5212 - mae: 0.5212\n",
            "Epoch 88/100\n",
            "1/1 [==============================] - 0s 19ms/step - loss: 0.4344 - mae: 0.4344\n",
            "Epoch 89/100\n",
            "1/1 [==============================] - 0s 23ms/step - loss: 0.2291 - mae: 0.2291\n",
            "Epoch 90/100\n",
            "1/1 [==============================] - 0s 35ms/step - loss: 0.5113 - mae: 0.5113\n",
            "Epoch 91/100\n",
            "1/1 [==============================] - 0s 32ms/step - loss: 0.6533 - mae: 0.6533\n",
            "Epoch 92/100\n",
            "1/1 [==============================] - 0s 32ms/step - loss: 0.4923 - mae: 0.4923\n",
            "Epoch 93/100\n",
            "1/1 [==============================] - 0s 21ms/step - loss: 0.0667 - mae: 0.0667\n",
            "Epoch 94/100\n",
            "1/1 [==============================] - 0s 27ms/step - loss: 0.5637 - mae: 0.5637\n",
            "Epoch 95/100\n",
            "1/1 [==============================] - 0s 24ms/step - loss: 0.8441 - mae: 0.8441\n",
            "Epoch 96/100\n",
            "1/1 [==============================] - 0s 23ms/step - loss: 0.8203 - mae: 0.8203\n",
            "Epoch 97/100\n",
            "1/1 [==============================] - 0s 27ms/step - loss: 0.5343 - mae: 0.5343\n",
            "Epoch 98/100\n",
            "1/1 [==============================] - 0s 23ms/step - loss: 0.1969 - mae: 0.1969\n",
            "Epoch 99/100\n",
            "1/1 [==============================] - 0s 21ms/step - loss: 0.3525 - mae: 0.3525\n",
            "Epoch 100/100\n",
            "1/1 [==============================] - 0s 25ms/step - loss: 0.3818 - mae: 0.3818\n"
          ]
        },
        {
          "output_type": "execute_result",
          "data": {
            "text/plain": [
              "<tf_keras.src.callbacks.History at 0x78704817b390>"
            ]
          },
          "metadata": {},
          "execution_count": 21
        }
      ]
    },
    {
      "cell_type": "code",
      "metadata": {
        "colab": {
          "base_uri": "https://localhost:8080/"
        },
        "id": "SAkq8adjeo2y",
        "outputId": "99e3fda8-f230-44db-b726-bef88f5eca35"
      },
      "source": [
        "# Let's remind ourselves of the data\n",
        "X, y"
      ],
      "execution_count": 22,
      "outputs": [
        {
          "output_type": "execute_result",
          "data": {
            "text/plain": [
              "(<tf.Tensor: shape=(8,), dtype=float32, numpy=array([-7., -4., -1.,  2.,  5.,  8., 11., 14.], dtype=float32)>,\n",
              " <tf.Tensor: shape=(8,), dtype=float32, numpy=array([ 3.,  6.,  9., 12., 15., 18., 21., 24.], dtype=float32)>)"
            ]
          },
          "metadata": {},
          "execution_count": 22
        }
      ]
    },
    {
      "cell_type": "code",
      "metadata": {
        "colab": {
          "base_uri": "https://localhost:8080/"
        },
        "id": "84Wym6W6e45i",
        "outputId": "10c4a044-1418-4b34-e024-57070cea215e"
      },
      "source": [
        "# Let's try to make a prediction\n",
        "model.predict([17.0])"
      ],
      "execution_count": 23,
      "outputs": [
        {
          "output_type": "stream",
          "name": "stdout",
          "text": [
            "1/1 [==============================] - 0s 318ms/step\n"
          ]
        },
        {
          "output_type": "execute_result",
          "data": {
            "text/plain": [
              "array([[26.426662]], dtype=float32)"
            ]
          },
          "metadata": {},
          "execution_count": 23
        }
      ]
    },
    {
      "cell_type": "markdown",
      "metadata": {
        "id": "MYOVI6lMe_KR"
      },
      "source": [
        "## Evaluting a model\n",
        "\n",
        "In practice, a typical workflow you'll go through when building neural networks is:\n",
        "\n",
        "```\n",
        "Build a model  -> fit it -> evaluate it -> tweak a model -> fit it -> evaluate it -> tweak a model -> fit it -> evaluate it...\n",
        "```"
      ]
    },
    {
      "cell_type": "markdown",
      "metadata": {
        "id": "usrqoYOojh5S"
      },
      "source": [
        "When it comes to evaluation... there are 3 words you should memorize:\n",
        "\n",
        "> \"Visualize, visualize, visualize\"\n",
        "\n",
        "It's a good idea to visualize:\n",
        "* The data - what data are we working with? What does it look like?\n",
        "* The model itself - what does our model look like?\n",
        "* The training of a model - how does a model perform while it learns?\n",
        "* The predictions of the model - how do the predictions of a model line up against the ground truth (the original labels)?"
      ]
    },
    {
      "cell_type": "code",
      "metadata": {
        "colab": {
          "base_uri": "https://localhost:8080/"
        },
        "id": "8zcYJzAykVku",
        "outputId": "7b7d893e-4ed5-4dad-d680-7966528db063"
      },
      "source": [
        "# Make a bigger dataset\n",
        "X = tf.range(-100, 100, 4)\n",
        "X"
      ],
      "execution_count": 24,
      "outputs": [
        {
          "output_type": "execute_result",
          "data": {
            "text/plain": [
              "<tf.Tensor: shape=(50,), dtype=int32, numpy=\n",
              "array([-100,  -96,  -92,  -88,  -84,  -80,  -76,  -72,  -68,  -64,  -60,\n",
              "        -56,  -52,  -48,  -44,  -40,  -36,  -32,  -28,  -24,  -20,  -16,\n",
              "        -12,   -8,   -4,    0,    4,    8,   12,   16,   20,   24,   28,\n",
              "         32,   36,   40,   44,   48,   52,   56,   60,   64,   68,   72,\n",
              "         76,   80,   84,   88,   92,   96], dtype=int32)>"
            ]
          },
          "metadata": {},
          "execution_count": 24
        }
      ]
    },
    {
      "cell_type": "code",
      "metadata": {
        "colab": {
          "base_uri": "https://localhost:8080/"
        },
        "id": "tYmBjJyGkyhf",
        "outputId": "457c7959-d63b-48b3-cbaf-74e869d07406"
      },
      "source": [
        "# Make labels for the dataset\n",
        "y = X + 10\n",
        "y"
      ],
      "execution_count": 25,
      "outputs": [
        {
          "output_type": "execute_result",
          "data": {
            "text/plain": [
              "<tf.Tensor: shape=(50,), dtype=int32, numpy=\n",
              "array([-90, -86, -82, -78, -74, -70, -66, -62, -58, -54, -50, -46, -42,\n",
              "       -38, -34, -30, -26, -22, -18, -14, -10,  -6,  -2,   2,   6,  10,\n",
              "        14,  18,  22,  26,  30,  34,  38,  42,  46,  50,  54,  58,  62,\n",
              "        66,  70,  74,  78,  82,  86,  90,  94,  98, 102, 106], dtype=int32)>"
            ]
          },
          "metadata": {},
          "execution_count": 25
        }
      ]
    },
    {
      "cell_type": "code",
      "metadata": {
        "colab": {
          "base_uri": "https://localhost:8080/",
          "height": 447
        },
        "id": "GsPCWn6Bk7-n",
        "outputId": "a9b28ead-3a59-4d6d-adb0-9ace0953c2c6"
      },
      "source": [
        "# Visualize the data\n",
        "import matplotlib.pyplot as plt\n",
        "\n",
        "plt.scatter(X, y)"
      ],
      "execution_count": 26,
      "outputs": [
        {
          "output_type": "execute_result",
          "data": {
            "text/plain": [
              "<matplotlib.collections.PathCollection at 0x787039e06190>"
            ]
          },
          "metadata": {},
          "execution_count": 26
        },
        {
          "output_type": "display_data",
          "data": {
            "text/plain": [
              "<Figure size 640x480 with 1 Axes>"
            ],
            "image/png": "[encoded data removed]"
          },
          "metadata": {}
        }
      ]
    },
    {
      "cell_type": "markdown",
      "metadata": {
        "id": "EYSYiP6mlE-g"
      },
      "source": [
        "### The 3 sets...\n",
        "\n",
        "* **Training set** - the model learns from this data, which is typically 70-80% of the total data you have available.\n",
        "* **Validation set** - the model gets tuned on this data, which is typically 10-15% of the data available.\n",
        "* **Test set** - the model gets evaluated on this data to test what is has learned, this set is typically 10-15% of the total data available.\n",
        "\n"
      ]
    },
    {
      "cell_type": "code",
      "metadata": {
        "colab": {
          "base_uri": "https://localhost:8080/"
        },
        "id": "o6x4ayTkmbsz",
        "outputId": "f3e0a034-c54d-4647-f3e3-2dd833d97a7b"
      },
      "source": [
        "# Check the length of how many samples we have\n",
        "len(X)"
      ],
      "execution_count": 27,
      "outputs": [
        {
          "output_type": "execute_result",
          "data": {
            "text/plain": [
              "50"
            ]
          },
          "metadata": {},
          "execution_count": 27
        }
      ]
    },
    {
      "cell_type": "code",
      "metadata": {
        "colab": {
          "base_uri": "https://localhost:8080/"
        },
        "id": "XSFQQTirmyvV",
        "outputId": "b0fd0c0e-02bb-46db-8acb-6a8c570304fa"
      },
      "source": [
        "# Split the data into train and test sets\n",
        "X_train = X[:40] # first 40 are training samples (80% of the data)\n",
        "y_train = y[:40]\n",
        "\n",
        "X_test = X[40:] # last 10 are testing samples (20% of the data)\n",
        "y_test = y[40:]\n",
        "\n",
        "len(X_train), len(X_test), len(y_train), len(y_test)"
      ],
      "execution_count": 28,
      "outputs": [
        {
          "output_type": "execute_result",
          "data": {
            "text/plain": [
              "(40, 10, 40, 10)"
            ]
          },
          "metadata": {},
          "execution_count": 28
        }
      ]
    },
    {
      "cell_type": "markdown",
      "metadata": {
        "id": "-TppBKDWnbKC"
      },
      "source": [
        "### Visualizing the data\n",
        "\n",
        "Now we've got our data in training and test sets... let's visualize it again!"
      ]
    },
    {
      "cell_type": "code",
      "metadata": {
        "colab": {
          "base_uri": "https://localhost:8080/",
          "height": 599
        },
        "id": "Wx8g6vh9nwLs",
        "outputId": "951aee0a-8ca4-4918-a95d-9b29e2b316e7"
      },
      "source": [
        "plt.figure(figsize=(10, 7))\n",
        "# Plot training data in blue\n",
        "plt.scatter(X_train, y_train, c=\"b\", label=\"Training data\") # our model will learn on this\n",
        "# Plot test data in green\n",
        "plt.scatter(X_test, y_test, c=\"g\", label=\"Testing data\") # want our model to be able to predict this (given X, what's y?)\n",
        "# Show a legend\n",
        "plt.legend();"
      ],
      "execution_count": 29,
      "outputs": [
        {
          "output_type": "display_data",
          "data": {
            "text/plain": [
              "<Figure size 1000x700 with 1 Axes>"
            ],
            "image/png": "[encoded data removed]"
          },
          "metadata": {}
        }
      ]
    },
    {
      "cell_type": "code",
      "metadata": {
        "id": "z0U3nhHtpKve"
      },
      "source": [
        "# Let's have a look at how to build a neural network for our data\n",
        "\n",
        "# 1. Create a model\n",
        "model = keras.Sequential([\n",
        "  keras.layers.Dense(1)\n",
        "])\n",
        "\n",
        "# 2. Compile the model\n",
        "model.compile(loss=keras.losses.mae,\n",
        "              optimizer=keras.optimizers.SGD(),\n",
        "              metrics=[\"mae\"])\n",
        "\n",
        "# # 3. Fit the model\n",
        "# model.fit(X_train, y_train, epochs=100)"
      ],
      "execution_count": 30,
      "outputs": []
    },
    {
      "cell_type": "markdown",
      "metadata": {
        "id": "RnscI3h_qP5a"
      },
      "source": [
        "### Visualizing the model"
      ]
    },
    {
      "cell_type": "code",
      "metadata": {
        "colab": {
          "base_uri": "https://localhost:8080/",
          "height": 263
        },
        "id": "gfiOkjp5qSiZ",
        "outputId": "82de5ce0-d37d-4c5d-ec80-aa7213360185"
      },
      "source": [
        "model.summary()"
      ],
      "execution_count": 31,
      "outputs": [
        {
          "output_type": "error",
          "ename": "ValueError",
          "evalue": "This model has not yet been built. Build the model first by calling `build()` or by calling the model on a batch of data.",
          "traceback": [
            "\u001b[0;31m---------------------------------------------------------------------------\u001b[0m",
            "\u001b[0;31mValueError\u001b[0m                                Traceback (most recent call last)",
            "\u001b[0;32m<ipython-input-31-5f15418b3570>\u001b[0m in \u001b[0;36m<cell line: 0>\u001b[0;34m()\u001b[0m\n\u001b[0;32m----> 1\u001b[0;31m \u001b[0mmodel\u001b[0m\u001b[0;34m.\u001b[0m\u001b[0msummary\u001b[0m\u001b[0;34m(\u001b[0m\u001b[0;34m)\u001b[0m\u001b[0;34m\u001b[0m\u001b[0;34m\u001b[0m\u001b[0m\n\u001b[0m",
            "\u001b[0;32m/usr/local/lib/python3.11/dist-packages/tf_keras/src/engine/training.py\u001b[0m in \u001b[0;36msummary\u001b[0;34m(self, line_length, positions, print_fn, expand_nested, show_trainable, layer_range)\u001b[0m\n\u001b[1;32m   3499\u001b[0m         \"\"\"\n\u001b[1;32m   3500\u001b[0m         \u001b[0;32mif\u001b[0m \u001b[0;32mnot\u001b[0m \u001b[0mself\u001b[0m\u001b[0;34m.\u001b[0m\u001b[0mbuilt\u001b[0m\u001b[0;34m:\u001b[0m\u001b[0;34m\u001b[0m\u001b[0;34m\u001b[0m\u001b[0m\n\u001b[0;32m-> 3501\u001b[0;31m             raise ValueError(\n\u001b[0m\u001b[1;32m   3502\u001b[0m                 \u001b[0;34m\"This model has not yet been built. \"\u001b[0m\u001b[0;34m\u001b[0m\u001b[0;34m\u001b[0m\u001b[0m\n\u001b[1;32m   3503\u001b[0m                 \u001b[0;34m\"Build the model first by calling `build()` or by calling \"\u001b[0m\u001b[0;34m\u001b[0m\u001b[0;34m\u001b[0m\u001b[0m\n",
            "\u001b[0;31mValueError\u001b[0m: This model has not yet been built. Build the model first by calling `build()` or by calling the model on a batch of data."
          ]
        }
      ]
    },
    {
      "cell_type": "code",
      "metadata": {
        "colab": {
          "base_uri": "https://localhost:8080/"
        },
        "id": "2b2QjQhzq6Ah",
        "outputId": "58ff2ba6-06e9-470b-bfe6-5a55ea82b36c"
      },
      "source": [
        "X[0], y[0]"
      ],
      "execution_count": 32,
      "outputs": [
        {
          "output_type": "execute_result",
          "data": {
            "text/plain": [
              "(<tf.Tensor: shape=(), dtype=int32, numpy=-100>,\n",
              " <tf.Tensor: shape=(), dtype=int32, numpy=-90>)"
            ]
          },
          "metadata": {},
          "execution_count": 32
        }
      ]
    },
    {
      "cell_type": "code",
      "metadata": {
        "id": "jzPTRyrCqVpT"
      },
      "source": [
        "# Let's create a model which builds automatically by defining the input_shape argument in the first layer\n",
        "tf.random.set_seed(42)\n",
        "\n",
        "# 1. Create a model (same as above)\n",
        "model = keras.Sequential([\n",
        "  keras.layers.Dense(10, input_shape=[1], name=\"input_layer\"),\n",
        "  keras.layers.Dense(1, name=\"output_layer\")\n",
        "], name=\"model_1\")\n",
        "\n",
        "# 2. Compile the model (same as above)\n",
        "model.compile(loss=keras.losses.mae,\n",
        "              optimizer=keras.optimizers.SGD(),\n",
        "              metrics=[\"mae\"])"
      ],
      "execution_count": 33,
      "outputs": []
    },
    {
      "cell_type": "code",
      "metadata": {
        "colab": {
          "base_uri": "https://localhost:8080/"
        },
        "id": "_RDh-9PdrMXo",
        "outputId": "5ccaf524-45f2-4e90-9fe1-9b112858cb42"
      },
      "source": [
        "model.summary()"
      ],
      "execution_count": 34,
      "outputs": [
        {
          "output_type": "stream",
          "name": "stdout",
          "text": [
            "Model: \"model_1\"\n",
            "_________________________________________________________________\n",
            " Layer (type)                Output Shape              Param #   \n",
            "=================================================================\n",
            " input_layer (Dense)         (None, 10)                20        \n",
            "                                                                 \n",
            " output_layer (Dense)        (None, 1)                 11        \n",
            "                                                                 \n",
            "=================================================================\n",
            "Total params: 31 (124.00 Byte)\n",
            "Trainable params: 31 (124.00 Byte)\n",
            "Non-trainable params: 0 (0.00 Byte)\n",
            "_________________________________________________________________\n"
          ]
        }
      ]
    },
    {
      "cell_type": "markdown",
      "metadata": {
        "id": "n8BlRom8rhQx"
      },
      "source": [
        "* Total params - total number of parameters in the model.\n",
        "* Trainable parameters - these are the parameters (patterns) the model can update as it trains.\n",
        "* Non-trainable params - these parameters aren't updated during training (this is typical when you bring in already learn patterns or parameters from other models during **transfer learning**).\n",
        "\n",
        "📖 **Resource:** For a more in-depth overview of the trainable parameters within a layer, check out [MIT's introduction to deep learning video](https://youtu.be/njKP3FqW3Sk).\n",
        "\n",
        "🛠 **Exercise:** Try playing around with the number of hidden units in the dense layer, see how that effects the number of parameters (total and trainable) by calling `model.summary()`."
      ]
    },
    {
      "cell_type": "code",
      "metadata": {
        "colab": {
          "base_uri": "https://localhost:8080/"
        },
        "id": "ZP91lGTgrPno",
        "outputId": "d7abce03-87af-4133-e6f0-94563da563be"
      },
      "source": [
        "# Let's fit our model to the training data\n",
        "model.fit(X_train, y_train, epochs=100, verbose=0)"
      ],
      "execution_count": 35,
      "outputs": [
        {
          "output_type": "execute_result",
          "data": {
            "text/plain": [
              "<tf_keras.src.callbacks.History at 0x78704cd11350>"
            ]
          },
          "metadata": {},
          "execution_count": 35
        }
      ]
    },
    {
      "cell_type": "code",
      "metadata": {
        "colab": {
          "base_uri": "https://localhost:8080/"
        },
        "id": "SS4oIHfktlex",
        "outputId": "92ebb3f5-ac19-46b0-acba-9a6a24f12ecf"
      },
      "source": [
        "# Get a summary of our model\n",
        "model.summary()"
      ],
      "execution_count": 36,
      "outputs": [
        {
          "output_type": "stream",
          "name": "stdout",
          "text": [
            "Model: \"model_1\"\n",
            "_________________________________________________________________\n",
            " Layer (type)                Output Shape              Param #   \n",
            "=================================================================\n",
            " input_layer (Dense)         (None, 10)                20        \n",
            "                                                                 \n",
            " output_layer (Dense)        (None, 1)                 11        \n",
            "                                                                 \n",
            "=================================================================\n",
            "Total params: 31 (124.00 Byte)\n",
            "Trainable params: 31 (124.00 Byte)\n",
            "Non-trainable params: 0 (0.00 Byte)\n",
            "_________________________________________________________________\n"
          ]
        }
      ]
    },
    {
      "cell_type": "code",
      "metadata": {
        "colab": {
          "base_uri": "https://localhost:8080/",
          "height": 312
        },
        "id": "--yP4uW8ugKH",
        "outputId": "0a380874-79c8-4e7b-d2d2-8fa6aec74cc9"
      },
      "source": [
        "from tf_keras.utils import plot_model\n",
        "\n",
        "plot_model(model=model, show_shapes=True)"
      ],
      "execution_count": 37,
      "outputs": [
        {
          "output_type": "execute_result",
          "data": {
            "image/png": "[encoded data removed]",
            "text/plain": [
              "<IPython.core.display.Image object>"
            ]
          },
          "metadata": {},
          "execution_count": 37
        }
      ]
    },
    {
      "cell_type": "markdown",
      "metadata": {
        "id": "ORwPibL8u7Yk"
      },
      "source": [
        "### Visualizing our model's predictions\n",
        "\n",
        "To visualize predictions, it's a good idea to plot them against the ground truth labels.\n",
        "\n",
        "Often you'll see this in the form of `y_test` or `y_true` versus `y_pred` (ground truth versus your model's predictions)."
      ]
    },
    {
      "cell_type": "code",
      "metadata": {
        "colab": {
          "base_uri": "https://localhost:8080/"
        },
        "id": "85dQbIrHsggD",
        "outputId": "404b5b0e-6e4a-4ffe-836f-6fe40d07f14d"
      },
      "source": [
        "# Make some predictions\n",
        "y_pred = model.predict(X_test)\n",
        "y_pred"
      ],
      "execution_count": 38,
      "outputs": [
        {
          "output_type": "stream",
          "name": "stdout",
          "text": [
            "1/1 [==============================] - 0s 96ms/step\n"
          ]
        },
        {
          "output_type": "execute_result",
          "data": {
            "text/plain": [
              "array([[ 76.96952 ],\n",
              "       [ 81.98804 ],\n",
              "       [ 87.00655 ],\n",
              "       [ 92.02507 ],\n",
              "       [ 97.04359 ],\n",
              "       [102.06209 ],\n",
              "       [107.08061 ],\n",
              "       [112.09914 ],\n",
              "       [117.117645],\n",
              "       [122.136154]], dtype=float32)"
            ]
          },
          "metadata": {},
          "execution_count": 38
        }
      ]
    },
    {
      "cell_type": "code",
      "metadata": {
        "colab": {
          "base_uri": "https://localhost:8080/"
        },
        "id": "Iw7TyglVtUZL",
        "outputId": "1db4a1af-895e-4760-a769-b4eff9bde3ee"
      },
      "source": [
        "y_test"
      ],
      "execution_count": 39,
      "outputs": [
        {
          "output_type": "execute_result",
          "data": {
            "text/plain": [
              "<tf.Tensor: shape=(10,), dtype=int32, numpy=array([ 70,  74,  78,  82,  86,  90,  94,  98, 102, 106], dtype=int32)>"
            ]
          },
          "metadata": {},
          "execution_count": 39
        }
      ]
    },
    {
      "cell_type": "markdown",
      "metadata": {
        "id": "rZvNFJGVtjov"
      },
      "source": [
        "🔑 **Note:** If you feel like you're going to reuse some kind of functionality in the future, it's a good idea to turn it into a function."
      ]
    },
    {
      "cell_type": "code",
      "metadata": {
        "id": "sJsnIciYtWfn"
      },
      "source": [
        "# Let's create a plotting function\n",
        "def plot_predictions(train_data=X_train,\n",
        "                     train_labels=y_train,\n",
        "                     test_data=X_test,\n",
        "                     test_labels=y_test,\n",
        "                     predictions=y_pred):\n",
        "  \"\"\"\n",
        "  Plots training data, test data and compares predictions to ground truth labels.\n",
        "  \"\"\"\n",
        "  plt.figure(figsize=(10, 7))\n",
        "  # Plot training data in blue\n",
        "  plt.scatter(train_data, train_labels, c=\"b\", label=\"Training data\")\n",
        "  # Plot testing data in green\n",
        "  plt.scatter(test_data, test_labels, c=\"g\", label=\"Testing data\")\n",
        "  # Plot model's predictions in red\n",
        "  plt.scatter(test_data, predictions, c=\"r\", label=\"Predictions\")\n",
        "  # Show the legend\n",
        "  plt.legend();"
      ],
      "execution_count": 40,
      "outputs": []
    },
    {
      "cell_type": "code",
      "metadata": {
        "colab": {
          "base_uri": "https://localhost:8080/",
          "height": 599
        },
        "id": "6VeRueShuhfN",
        "outputId": "71096b97-90d8-4611-d14a-2888f0b8fbff"
      },
      "source": [
        "plot_predictions(train_data=X_train,\n",
        "                 train_labels=y_train,\n",
        "                 test_data=X_test,\n",
        "                 test_labels=y_test,\n",
        "                 predictions=y_pred)"
      ],
      "execution_count": 41,
      "outputs": [
        {
          "output_type": "display_data",
          "data": {
            "text/plain": [
              "<Figure size 1000x700 with 1 Axes>"
            ],
            "image/png": "[encoded data removed]"
          },
          "metadata": {}
        }
      ]
    },
    {
      "cell_type": "markdown",
      "metadata": {
        "id": "poOuTGosukJU"
      },
      "source": [
        "### Evaluting our model's predictions with regression evaluation metrics\n",
        "\n",
        "Depending on the problem you're working on, there will be different evaluation metrics to evaluate your model's performance.\n",
        "\n",
        "Since we're working on a regression, two of the main metrics:\n",
        "* MAE - mean absolute error, \"on average, how wrong is each of my model's predictions\"\n",
        "* MSE - mean square error, \"square the average errors\""
      ]
    },
    {
      "cell_type": "code",
      "metadata": {
        "colab": {
          "base_uri": "https://localhost:8080/"
        },
        "id": "FmeohFOJu_C_",
        "outputId": "78aa5b44-8318-4c82-971b-738eff91e564"
      },
      "source": [
        "# Evaluate the model on the test\n",
        "model.evaluate(X_test, y_test)"
      ],
      "execution_count": 42,
      "outputs": [
        {
          "output_type": "stream",
          "name": "stdout",
          "text": [
            "1/1 [==============================] - 0s 219ms/step - loss: 11.5528 - mae: 11.5528\n"
          ]
        },
        {
          "output_type": "execute_result",
          "data": {
            "text/plain": [
              "[11.552840232849121, 11.552840232849121]"
            ]
          },
          "metadata": {},
          "execution_count": 42
        }
      ]
    },
    {
      "cell_type": "code",
      "metadata": {
        "colab": {
          "base_uri": "https://localhost:8080/"
        },
        "id": "eWAP6TCJyUeL",
        "outputId": "3c7afca5-06ad-4d50-f046-9962c378b256"
      },
      "source": [
        "# Calculate the mean absolute error\n",
        "mae = keras.metrics.mean_absolute_error(y_true=y_test,\n",
        "                                        y_pred=tf.constant(y_pred))\n",
        "mae"
      ],
      "execution_count": 43,
      "outputs": [
        {
          "output_type": "execute_result",
          "data": {
            "text/plain": [
              "<tf.Tensor: shape=(10,), dtype=float32, numpy=\n",
              "array([13.018288, 10.804785, 10.      , 10.405014, 12.017435, 14.84967 ,\n",
              "       19.080612, 24.099136, 29.117645, 34.136154], dtype=float32)>"
            ]
          },
          "metadata": {},
          "execution_count": 43
        }
      ]
    },
    {
      "cell_type": "code",
      "metadata": {
        "colab": {
          "base_uri": "https://localhost:8080/"
        },
        "id": "znxoDzBCyGEd",
        "outputId": "87be47bf-0e49-440d-a092-ee765bd01180"
      },
      "source": [
        "tf.constant(y_pred)"
      ],
      "execution_count": 44,
      "outputs": [
        {
          "output_type": "execute_result",
          "data": {
            "text/plain": [
              "<tf.Tensor: shape=(10, 1), dtype=float32, numpy=\n",
              "array([[ 76.96952 ],\n",
              "       [ 81.98804 ],\n",
              "       [ 87.00655 ],\n",
              "       [ 92.02507 ],\n",
              "       [ 97.04359 ],\n",
              "       [102.06209 ],\n",
              "       [107.08061 ],\n",
              "       [112.09914 ],\n",
              "       [117.117645],\n",
              "       [122.136154]], dtype=float32)>"
            ]
          },
          "metadata": {},
          "execution_count": 44
        }
      ]
    },
    {
      "cell_type": "code",
      "metadata": {
        "colab": {
          "base_uri": "https://localhost:8080/"
        },
        "id": "NB5OwjD2ySv4",
        "outputId": "6a153ac5-0740-4eeb-9186-6687bea7cb30"
      },
      "source": [
        "y_test"
      ],
      "execution_count": 45,
      "outputs": [
        {
          "output_type": "execute_result",
          "data": {
            "text/plain": [
              "<tf.Tensor: shape=(10,), dtype=int32, numpy=array([ 70,  74,  78,  82,  86,  90,  94,  98, 102, 106], dtype=int32)>"
            ]
          },
          "metadata": {},
          "execution_count": 45
        }
      ]
    },
    {
      "cell_type": "code",
      "metadata": {
        "colab": {
          "base_uri": "https://localhost:8080/"
        },
        "id": "fit8MiNSyTZu",
        "outputId": "f77dcc17-d855-4e11-d595-c43732e10c23"
      },
      "source": [
        "tf.squeeze(y_pred)"
      ],
      "execution_count": 46,
      "outputs": [
        {
          "output_type": "execute_result",
          "data": {
            "text/plain": [
              "<tf.Tensor: shape=(10,), dtype=float32, numpy=\n",
              "array([ 76.96952 ,  81.98804 ,  87.00655 ,  92.02507 ,  97.04359 ,\n",
              "       102.06209 , 107.08061 , 112.09914 , 117.117645, 122.136154],\n",
              "      dtype=float32)>"
            ]
          },
          "metadata": {},
          "execution_count": 46
        }
      ]
    },
    {
      "cell_type": "code",
      "metadata": {
        "colab": {
          "base_uri": "https://localhost:8080/"
        },
        "id": "nFhtsK8J1j2M",
        "outputId": "7ca9e2bb-0a77-4e3d-d71e-c2c013518867"
      },
      "source": [
        "# Calculate the mean absolute error\n",
        "mae = keras.metrics.mean_absolute_error(y_true=y_test,\n",
        "                                        y_pred=tf.squeeze(y_pred))\n",
        "mae"
      ],
      "execution_count": 47,
      "outputs": [
        {
          "output_type": "execute_result",
          "data": {
            "text/plain": [
              "<tf.Tensor: shape=(), dtype=float32, numpy=11.552840232849121>"
            ]
          },
          "metadata": {},
          "execution_count": 47
        }
      ]
    },
    {
      "cell_type": "code",
      "metadata": {
        "colab": {
          "base_uri": "https://localhost:8080/"
        },
        "id": "BK4bRMgi4LcR",
        "outputId": "24e316af-c334-4ee0-c8e1-e603ae418b68"
      },
      "source": [
        "# Calculate the mean square error\n",
        "mse = keras.metrics.mean_squared_error(y_true=y_test,\n",
        "                                       y_pred=tf.squeeze(y_pred))\n",
        "mse"
      ],
      "execution_count": 48,
      "outputs": [
        {
          "output_type": "execute_result",
          "data": {
            "text/plain": [
              "<tf.Tensor: shape=(), dtype=float32, numpy=142.0264434814453>"
            ]
          },
          "metadata": {},
          "execution_count": 48
        }
      ]
    },
    {
      "cell_type": "code",
      "metadata": {
        "id": "h46VZYQ28tFP"
      },
      "source": [
        "# Make some functions to reuse MAE and MSE\n",
        "def mae(y_true, y_pred):\n",
        "  return keras.metrics.mean_absolute_error(y_true=y_true,\n",
        "                                           y_pred=tf.squeeze(y_pred))\n",
        "\n",
        "def mse(y_true, y_pred):\n",
        "  return keras.metrics.mean_squared_error(y_true=y_true,\n",
        "                                          y_pred=tf.squeeze(y_pred))"
      ],
      "execution_count": 49,
      "outputs": []
    },
    {
      "cell_type": "markdown",
      "metadata": {
        "id": "E4mlm41z9w6S"
      },
      "source": [
        "## Running experiments to improve our model\n",
        "\n",
        "```\n",
        "Build a model -> fit it -> evaluate it -> tweak it -> fit it -> evaluate it -> tweak it -> fit it -> evaluate it ...\n",
        "```\n",
        "\n",
        "1. Get more data - get more examples for your model to train on (more opportunities to learn patterns or relationships between features and labels).\n",
        "2. Make your model larger (using a more complex model) - this might come in the form of more layers or more hidden units in each layer.\n",
        "3. Train for longer - give your model more of a chance to find patterns in the data.\n",
        "\n",
        "Let's do 3 modelling experiments:\n",
        "\n",
        "1. `model_1` - same as the original model, 1 layer, trained for 100 epochs\n",
        "2. `model_2` - 2 layers, trained for 100 epochs\n",
        "3. `model_3` - 2 layers, trained for 500 epochs\n",
        "\n",
        "**Build `model_1`**"
      ]
    },
    {
      "cell_type": "code",
      "metadata": {
        "colab": {
          "base_uri": "https://localhost:8080/"
        },
        "id": "0cLyuLdP-SIw",
        "outputId": "4eadc312-cb08-4487-fd62-cea645d93e4d"
      },
      "source": [
        "# Set random seed\n",
        "tf.random.set_seed(42)\n",
        "\n",
        "# 1. Create the model\n",
        "model_1 = keras.Sequential([\n",
        "  keras.layers.Dense(1)\n",
        "])\n",
        "\n",
        "# 2. Compile the model\n",
        "model_1.compile(loss=keras.losses.mae,\n",
        "                optimizer=keras.optimizers.SGD(),\n",
        "                metrics=[\"mae\"])\n",
        "\n",
        "# 3. Fit the model\n",
        "model_1.fit(tf.expand_dims(X_train, axis=-1), y_train, epochs=100)"
      ],
      "execution_count": 50,
      "outputs": [
        {
          "output_type": "stream",
          "name": "stdout",
          "text": [
            "Epoch 1/100\n",
            "2/2 [==============================] - 1s 15ms/step - loss: 63.8948 - mae: 63.8948\n",
            "Epoch 2/100\n",
            "2/2 [==============================] - 0s 8ms/step - loss: 28.9351 - mae: 28.9351\n",
            "Epoch 3/100\n",
            "2/2 [==============================] - 0s 8ms/step - loss: 10.5974 - mae: 10.5974\n",
            "Epoch 4/100\n",
            "2/2 [==============================] - 0s 10ms/step - loss: 13.1283 - mae: 13.1283\n",
            "Epoch 5/100\n",
            "2/2 [==============================] - 0s 10ms/step - loss: 12.1917 - mae: 12.1917\n",
            "Epoch 6/100\n",
            "2/2 [==============================] - 0s 14ms/step - loss: 9.4347 - mae: 9.4347\n",
            "Epoch 7/100\n",
            "2/2 [==============================] - 0s 10ms/step - loss: 8.5764 - mae: 8.5764\n",
            "Epoch 8/100\n",
            "2/2 [==============================] - 0s 8ms/step - loss: 9.0608 - mae: 9.0608\n",
            "Epoch 9/100\n",
            "2/2 [==============================] - 0s 11ms/step - loss: 18.7351 - mae: 18.7351\n",
            "Epoch 10/100\n",
            "2/2 [==============================] - 0s 11ms/step - loss: 10.1170 - mae: 10.1170\n",
            "Epoch 11/100\n",
            "2/2 [==============================] - 0s 13ms/step - loss: 8.4093 - mae: 8.4093\n",
            "Epoch 12/100\n",
            "2/2 [==============================] - 0s 10ms/step - loss: 10.6694 - mae: 10.6694\n",
            "Epoch 13/100\n",
            "2/2 [==============================] - 0s 9ms/step - loss: 9.8104 - mae: 9.8104\n",
            "Epoch 14/100\n",
            "2/2 [==============================] - 0s 8ms/step - loss: 15.9902 - mae: 15.9902\n",
            "Epoch 15/100\n",
            "2/2 [==============================] - 0s 13ms/step - loss: 11.4438 - mae: 11.4438\n",
            "Epoch 16/100\n",
            "2/2 [==============================] - 0s 10ms/step - loss: 8.5483 - mae: 8.5483\n",
            "Epoch 17/100\n",
            "2/2 [==============================] - 0s 8ms/step - loss: 13.6369 - mae: 13.6369\n",
            "Epoch 18/100\n",
            "2/2 [==============================] - 0s 8ms/step - loss: 11.4611 - mae: 11.4611\n",
            "Epoch 19/100\n",
            "2/2 [==============================] - 0s 8ms/step - loss: 17.9505 - mae: 17.9505\n",
            "Epoch 20/100\n",
            "2/2 [==============================] - 0s 8ms/step - loss: 15.0849 - mae: 15.0849\n",
            "Epoch 21/100\n",
            "2/2 [==============================] - 0s 9ms/step - loss: 11.0555 - mae: 11.0555\n",
            "Epoch 22/100\n",
            "2/2 [==============================] - 0s 9ms/step - loss: 8.1898 - mae: 8.1898\n",
            "Epoch 23/100\n",
            "2/2 [==============================] - 0s 10ms/step - loss: 9.5181 - mae: 9.5181\n",
            "Epoch 24/100\n",
            "2/2 [==============================] - 0s 8ms/step - loss: 7.6839 - mae: 7.6839\n",
            "Epoch 25/100\n",
            "2/2 [==============================] - 0s 9ms/step - loss: 13.1642 - mae: 13.1642\n",
            "Epoch 26/100\n",
            "2/2 [==============================] - 0s 9ms/step - loss: 16.4561 - mae: 16.4561\n",
            "Epoch 27/100\n",
            "2/2 [==============================] - 0s 11ms/step - loss: 13.1982 - mae: 13.1982\n",
            "Epoch 28/100\n",
            "2/2 [==============================] - 0s 8ms/step - loss: 14.2940 - mae: 14.2940\n",
            "Epoch 29/100\n",
            "2/2 [==============================] - 0s 7ms/step - loss: 10.0904 - mae: 10.0904\n",
            "Epoch 30/100\n",
            "2/2 [==============================] - 0s 8ms/step - loss: 16.3875 - mae: 16.3875\n",
            "Epoch 31/100\n",
            "2/2 [==============================] - 0s 8ms/step - loss: 23.6153 - mae: 23.6153\n",
            "Epoch 32/100\n",
            "2/2 [==============================] - 0s 10ms/step - loss: 7.6340 - mae: 7.6340\n",
            "Epoch 33/100\n",
            "2/2 [==============================] - 0s 8ms/step - loss: 9.3322 - mae: 9.3322\n",
            "Epoch 34/100\n",
            "2/2 [==============================] - 0s 10ms/step - loss: 13.7210 - mae: 13.7210\n",
            "Epoch 35/100\n",
            "2/2 [==============================] - 0s 9ms/step - loss: 11.1586 - mae: 11.1586\n",
            "Epoch 36/100\n",
            "2/2 [==============================] - 0s 8ms/step - loss: 13.3630 - mae: 13.3630\n",
            "Epoch 37/100\n",
            "2/2 [==============================] - 0s 12ms/step - loss: 9.4825 - mae: 9.4825\n",
            "Epoch 38/100\n",
            "2/2 [==============================] - 0s 11ms/step - loss: 10.1404 - mae: 10.1404\n",
            "Epoch 39/100\n",
            "2/2 [==============================] - 0s 9ms/step - loss: 10.2105 - mae: 10.2105\n",
            "Epoch 40/100\n",
            "2/2 [==============================] - 0s 9ms/step - loss: 10.9481 - mae: 10.9481\n",
            "Epoch 41/100\n",
            "2/2 [==============================] - 0s 9ms/step - loss: 7.9389 - mae: 7.9389\n",
            "Epoch 42/100\n",
            "2/2 [==============================] - 0s 13ms/step - loss: 10.0958 - mae: 10.0958\n",
            "Epoch 43/100\n",
            "2/2 [==============================] - 0s 7ms/step - loss: 8.7128 - mae: 8.7128\n",
            "Epoch 44/100\n",
            "2/2 [==============================] - 0s 8ms/step - loss: 12.1941 - mae: 12.1941\n",
            "Epoch 45/100\n",
            "2/2 [==============================] - 0s 9ms/step - loss: 13.8348 - mae: 13.8348\n",
            "Epoch 46/100\n",
            "2/2 [==============================] - 0s 15ms/step - loss: 8.5024 - mae: 8.5024\n",
            "Epoch 47/100\n",
            "2/2 [==============================] - 0s 9ms/step - loss: 9.1388 - mae: 9.1388\n",
            "Epoch 48/100\n",
            "2/2 [==============================] - 0s 7ms/step - loss: 10.6199 - mae: 10.6199\n",
            "Epoch 49/100\n",
            "2/2 [==============================] - 0s 9ms/step - loss: 7.7567 - mae: 7.7567\n",
            "Epoch 50/100\n",
            "2/2 [==============================] - 0s 7ms/step - loss: 9.5423 - mae: 9.5423\n",
            "Epoch 51/100\n",
            "2/2 [==============================] - 0s 7ms/step - loss: 9.1721 - mae: 9.1721\n",
            "Epoch 52/100\n",
            "2/2 [==============================] - 0s 7ms/step - loss: 16.3349 - mae: 16.3349\n",
            "Epoch 53/100\n",
            "2/2 [==============================] - 0s 9ms/step - loss: 14.1575 - mae: 14.1575\n",
            "Epoch 54/100\n",
            "2/2 [==============================] - 0s 8ms/step - loss: 21.1710 - mae: 21.1710\n",
            "Epoch 55/100\n",
            "2/2 [==============================] - 0s 7ms/step - loss: 16.3746 - mae: 16.3746\n",
            "Epoch 56/100\n",
            "2/2 [==============================] - 0s 7ms/step - loss: 10.0177 - mae: 10.0177\n",
            "Epoch 57/100\n",
            "2/2 [==============================] - 0s 7ms/step - loss: 9.9641 - mae: 9.9641\n",
            "Epoch 58/100\n",
            "2/2 [==============================] - 0s 7ms/step - loss: 9.2269 - mae: 9.2269\n",
            "Epoch 59/100\n",
            "2/2 [==============================] - 0s 8ms/step - loss: 8.4276 - mae: 8.4276\n",
            "Epoch 60/100\n",
            "2/2 [==============================] - 0s 7ms/step - loss: 9.4952 - mae: 9.4952\n",
            "Epoch 61/100\n",
            "2/2 [==============================] - 0s 6ms/step - loss: 11.4336 - mae: 11.4336\n",
            "Epoch 62/100\n",
            "2/2 [==============================] - 0s 7ms/step - loss: 11.7266 - mae: 11.7266\n",
            "Epoch 63/100\n",
            "2/2 [==============================] - 0s 7ms/step - loss: 7.0951 - mae: 7.0951\n",
            "Epoch 64/100\n",
            "2/2 [==============================] - 0s 8ms/step - loss: 17.0034 - mae: 17.0034\n",
            "Epoch 65/100\n",
            "2/2 [==============================] - 0s 9ms/step - loss: 12.4922 - mae: 12.4922\n",
            "Epoch 66/100\n",
            "2/2 [==============================] - 0s 8ms/step - loss: 13.0557 - mae: 13.0557\n",
            "Epoch 67/100\n",
            "2/2 [==============================] - 0s 7ms/step - loss: 8.0864 - mae: 8.0864\n",
            "Epoch 68/100\n",
            "2/2 [==============================] - 0s 7ms/step - loss: 10.2191 - mae: 10.2191\n",
            "Epoch 69/100\n",
            "2/2 [==============================] - 0s 7ms/step - loss: 12.4028 - mae: 12.4028\n",
            "Epoch 70/100\n",
            "2/2 [==============================] - 0s 7ms/step - loss: 9.0581 - mae: 9.0581\n",
            "Epoch 71/100\n",
            "2/2 [==============================] - 0s 7ms/step - loss: 10.0424 - mae: 10.0424\n",
            "Epoch 72/100\n",
            "2/2 [==============================] - 0s 7ms/step - loss: 10.0592 - mae: 10.0592\n",
            "Epoch 73/100\n",
            "2/2 [==============================] - 0s 7ms/step - loss: 12.6090 - mae: 12.6090\n",
            "Epoch 74/100\n",
            "2/2 [==============================] - 0s 7ms/step - loss: 10.4219 - mae: 10.4219\n",
            "Epoch 75/100\n",
            "2/2 [==============================] - 0s 7ms/step - loss: 9.7284 - mae: 9.7284\n",
            "Epoch 76/100\n",
            "2/2 [==============================] - 0s 8ms/step - loss: 11.2270 - mae: 11.2270\n",
            "Epoch 77/100\n",
            "2/2 [==============================] - 0s 8ms/step - loss: 8.3697 - mae: 8.3697\n",
            "Epoch 78/100\n",
            "2/2 [==============================] - 0s 7ms/step - loss: 9.1256 - mae: 9.1256\n",
            "Epoch 79/100\n",
            "2/2 [==============================] - 0s 7ms/step - loss: 19.5490 - mae: 19.5490\n",
            "Epoch 80/100\n",
            "2/2 [==============================] - 0s 7ms/step - loss: 14.8772 - mae: 14.8772\n",
            "Epoch 81/100\n",
            "2/2 [==============================] - 0s 10ms/step - loss: 9.0466 - mae: 9.0466\n",
            "Epoch 82/100\n",
            "2/2 [==============================] - 0s 7ms/step - loss: 13.0096 - mae: 13.0096\n",
            "Epoch 83/100\n",
            "2/2 [==============================] - 0s 7ms/step - loss: 7.9317 - mae: 7.9317\n",
            "Epoch 84/100\n",
            "2/2 [==============================] - 0s 7ms/step - loss: 7.7117 - mae: 7.7117\n",
            "Epoch 85/100\n",
            "2/2 [==============================] - 0s 7ms/step - loss: 10.0651 - mae: 10.0651\n",
            "Epoch 86/100\n",
            "2/2 [==============================] - 0s 7ms/step - loss: 9.2703 - mae: 9.2703\n",
            "Epoch 87/100\n",
            "2/2 [==============================] - 0s 7ms/step - loss: 12.0534 - mae: 12.0534\n",
            "Epoch 88/100\n",
            "2/2 [==============================] - 0s 7ms/step - loss: 10.6739 - mae: 10.6739\n",
            "Epoch 89/100\n",
            "2/2 [==============================] - 0s 7ms/step - loss: 7.2863 - mae: 7.2863\n",
            "Epoch 90/100\n",
            "2/2 [==============================] - 0s 7ms/step - loss: 12.8157 - mae: 12.8157\n",
            "Epoch 91/100\n",
            "2/2 [==============================] - 0s 8ms/step - loss: 7.4966 - mae: 7.4966\n",
            "Epoch 92/100\n",
            "2/2 [==============================] - 0s 8ms/step - loss: 6.7715 - mae: 6.7715\n",
            "Epoch 93/100\n",
            "2/2 [==============================] - 0s 8ms/step - loss: 11.9664 - mae: 11.9664\n",
            "Epoch 94/100\n",
            "2/2 [==============================] - 0s 8ms/step - loss: 8.8995 - mae: 8.8995\n",
            "Epoch 95/100\n",
            "2/2 [==============================] - 0s 8ms/step - loss: 7.7401 - mae: 7.7401\n",
            "Epoch 96/100\n",
            "2/2 [==============================] - 0s 8ms/step - loss: 6.7692 - mae: 6.7692\n",
            "Epoch 97/100\n",
            "2/2 [==============================] - 0s 8ms/step - loss: 8.6512 - mae: 8.6512\n",
            "Epoch 98/100\n",
            "2/2 [==============================] - 0s 8ms/step - loss: 9.4105 - mae: 9.4105\n",
            "Epoch 99/100\n",
            "2/2 [==============================] - 0s 8ms/step - loss: 9.1460 - mae: 9.1460\n",
            "Epoch 100/100\n",
            "2/2 [==============================] - 0s 13ms/step - loss: 10.5029 - mae: 10.5029\n"
          ]
        },
        {
          "output_type": "execute_result",
          "data": {
            "text/plain": [
              "<tf_keras.src.callbacks.History at 0x78703be0e890>"
            ]
          },
          "metadata": {},
          "execution_count": 50
        }
      ]
    },
    {
      "cell_type": "code",
      "metadata": {
        "colab": {
          "base_uri": "https://localhost:8080/",
          "height": 654
        },
        "id": "9Wfj4dqK-z6H",
        "outputId": "6da4b705-0129-46d8-daef-6a4cae465afa"
      },
      "source": [
        "# Make and plot predictions for model_1\n",
        "y_preds_1 = model_1.predict(X_test)\n",
        "plot_predictions(predictions=y_preds_1)"
      ],
      "execution_count": 51,
      "outputs": [
        {
          "output_type": "stream",
          "name": "stderr",
          "text": [
            "WARNING:tensorflow:5 out of the last 5 calls to <function Model.make_predict_function.<locals>.predict_function at 0x78704838f6a0> triggered tf.function retracing. Tracing is expensive and the excessive number of tracings could be due to (1) creating @tf.function repeatedly in a loop, (2) passing tensors with different shapes, (3) passing Python objects instead of tensors. For (1), please define your @tf.function outside of the loop. For (2), @tf.function has reduce_retracing=True option that can avoid unnecessary retracing. For (3), please refer to https://www.tensorflow.org/guide/function#controlling_retracing and https://www.tensorflow.org/api_docs/python/tf/function for  more details.\n"
          ]
        },
        {
          "output_type": "stream",
          "name": "stdout",
          "text": [
            "1/1 [==============================] - 0s 84ms/step\n"
          ]
        },
        {
          "output_type": "display_data",
          "data": {
            "text/plain": [
              "<Figure size 1000x700 with 1 Axes>"
            ],
            "image/png": "[encoded data removed]"
          },
          "metadata": {}
        }
      ]
    },
    {
      "cell_type": "code",
      "metadata": {
        "colab": {
          "base_uri": "https://localhost:8080/"
        },
        "id": "7B2ujgQeALRb",
        "outputId": "92745b31-227c-45e4-854d-020e45937b8a"
      },
      "source": [
        "# Calculate model_1 evaluation metrics\n",
        "mae_1 = mae(y_test, y_preds_1)\n",
        "mse_1 = mse(y_test, y_preds_1)\n",
        "mae_1, mse_1"
      ],
      "execution_count": 52,
      "outputs": [
        {
          "output_type": "execute_result",
          "data": {
            "text/plain": [
              "(<tf.Tensor: shape=(), dtype=float32, numpy=14.956095695495605>,\n",
              " <tf.Tensor: shape=(), dtype=float32, numpy=224.52651977539062>)"
            ]
          },
          "metadata": {},
          "execution_count": 52
        }
      ]
    },
    {
      "cell_type": "markdown",
      "metadata": {
        "id": "lMKAg48cAcAX"
      },
      "source": [
        "**Build `model_2`**\n",
        "\n",
        "* 2 dense layers, trained for 100 epochs"
      ]
    },
    {
      "cell_type": "code",
      "metadata": {
        "colab": {
          "base_uri": "https://localhost:8080/"
        },
        "id": "KfNxa4oOBK55",
        "outputId": "93c14319-30b3-4a71-b6dd-ff77e0d10040"
      },
      "source": [
        "# Set the random seed\n",
        "tf.random.set_seed(42)\n",
        "\n",
        "# 1. Create the model\n",
        "model_2 = keras.Sequential([\n",
        "  keras.layers.Dense(10),\n",
        "  keras.layers.Dense(1)\n",
        "])\n",
        "\n",
        "# 2. Compile the model\n",
        "model_2.compile(loss=keras.losses.mae,\n",
        "                optimizer=keras.optimizers.SGD(),\n",
        "                metrics=[\"mse\"])\n",
        "\n",
        "# 3. Fit the model\n",
        "model_2.fit(tf.expand_dims(X_train, axis=-1), y_train, epochs=100)"
      ],
      "execution_count": 53,
      "outputs": [
        {
          "output_type": "stream",
          "name": "stdout",
          "text": [
            "Epoch 1/100\n",
            "2/2 [==============================] - 1s 14ms/step - loss: 37.7453 - mse: 1971.8285\n",
            "Epoch 2/100\n",
            "2/2 [==============================] - 0s 9ms/step - loss: 29.6333 - mse: 1151.4082\n",
            "Epoch 3/100\n",
            "2/2 [==============================] - 0s 9ms/step - loss: 34.4462 - mse: 1791.5813\n",
            "Epoch 4/100\n",
            "2/2 [==============================] - 0s 9ms/step - loss: 28.6549 - mse: 1211.6139\n",
            "Epoch 5/100\n",
            "2/2 [==============================] - 0s 9ms/step - loss: 15.5491 - mse: 312.2471\n",
            "Epoch 6/100\n",
            "2/2 [==============================] - 0s 8ms/step - loss: 12.3348 - mse: 192.0788\n",
            "Epoch 7/100\n",
            "2/2 [==============================] - 0s 8ms/step - loss: 11.6152 - mse: 165.0887\n",
            "Epoch 8/100\n",
            "2/2 [==============================] - 0s 9ms/step - loss: 11.2553 - mse: 183.0418\n",
            "Epoch 9/100\n",
            "2/2 [==============================] - 0s 8ms/step - loss: 42.3984 - mse: 2878.3665\n",
            "Epoch 10/100\n",
            "2/2 [==============================] - 0s 9ms/step - loss: 29.5449 - mse: 1236.0973\n",
            "Epoch 11/100\n",
            "2/2 [==============================] - 0s 9ms/step - loss: 7.7272 - mse: 83.5655\n",
            "Epoch 12/100\n",
            "2/2 [==============================] - 0s 7ms/step - loss: 28.5403 - mse: 1114.7107\n",
            "Epoch 13/100\n",
            "2/2 [==============================] - 0s 8ms/step - loss: 11.5165 - mse: 145.4928\n",
            "Epoch 14/100\n",
            "2/2 [==============================] - 0s 7ms/step - loss: 30.3260 - mse: 1474.2891\n",
            "Epoch 15/100\n",
            "2/2 [==============================] - 0s 8ms/step - loss: 20.0724 - mse: 565.3408\n",
            "Epoch 16/100\n",
            "2/2 [==============================] - 0s 9ms/step - loss: 9.9360 - mse: 125.1870\n",
            "Epoch 17/100\n",
            "2/2 [==============================] - 0s 9ms/step - loss: 17.8923 - mse: 425.0792\n",
            "Epoch 18/100\n",
            "2/2 [==============================] - 0s 8ms/step - loss: 14.3681 - mse: 327.7121\n",
            "Epoch 19/100\n",
            "2/2 [==============================] - 0s 8ms/step - loss: 14.4776 - mse: 330.1391\n",
            "Epoch 20/100\n",
            "2/2 [==============================] - 0s 8ms/step - loss: 10.4807 - mse: 148.4727\n",
            "Epoch 21/100\n",
            "2/2 [==============================] - 0s 8ms/step - loss: 15.2516 - mse: 315.7975\n",
            "Epoch 22/100\n",
            "2/2 [==============================] - 0s 10ms/step - loss: 15.5965 - mse: 335.4883\n",
            "Epoch 23/100\n",
            "2/2 [==============================] - 0s 8ms/step - loss: 9.2340 - mse: 118.7043\n",
            "Epoch 24/100\n",
            "2/2 [==============================] - 0s 15ms/step - loss: 17.2329 - mse: 406.5722\n",
            "Epoch 25/100\n",
            "2/2 [==============================] - 0s 11ms/step - loss: 15.9163 - mse: 332.6300\n",
            "Epoch 26/100\n",
            "2/2 [==============================] - 0s 13ms/step - loss: 20.8772 - mse: 646.7694\n",
            "Epoch 27/100\n",
            "2/2 [==============================] - 0s 10ms/step - loss: 26.0826 - mse: 1062.6088\n",
            "Epoch 28/100\n",
            "2/2 [==============================] - 0s 12ms/step - loss: 18.5648 - mse: 545.7413\n",
            "Epoch 29/100\n",
            "2/2 [==============================] - 0s 9ms/step - loss: 9.2462 - mse: 97.1609\n",
            "Epoch 30/100\n",
            "2/2 [==============================] - 0s 8ms/step - loss: 29.1875 - mse: 1524.9862\n",
            "Epoch 31/100\n",
            "2/2 [==============================] - 0s 9ms/step - loss: 52.8755 - mse: 5001.1104\n",
            "Epoch 32/100\n",
            "2/2 [==============================] - 0s 8ms/step - loss: 11.9672 - mse: 209.7107\n",
            "Epoch 33/100\n",
            "2/2 [==============================] - 0s 8ms/step - loss: 15.5870 - mse: 335.0385\n",
            "Epoch 34/100\n",
            "2/2 [==============================] - 0s 10ms/step - loss: 12.6599 - mse: 212.5692\n",
            "Epoch 35/100\n",
            "2/2 [==============================] - 0s 11ms/step - loss: 9.2261 - mse: 92.4481\n",
            "Epoch 36/100\n",
            "2/2 [==============================] - 0s 8ms/step - loss: 16.5892 - mse: 400.4229\n",
            "Epoch 37/100\n",
            "2/2 [==============================] - 0s 9ms/step - loss: 11.0558 - mse: 192.3497\n",
            "Epoch 38/100\n",
            "2/2 [==============================] - 0s 9ms/step - loss: 18.1823 - mse: 434.9388\n",
            "Epoch 39/100\n",
            "2/2 [==============================] - 0s 10ms/step - loss: 19.1181 - mse: 531.1801\n",
            "Epoch 40/100\n",
            "2/2 [==============================] - 0s 8ms/step - loss: 20.4621 - mse: 611.7810\n",
            "Epoch 41/100\n",
            "2/2 [==============================] - 0s 8ms/step - loss: 14.8750 - mse: 277.7367\n",
            "Epoch 42/100\n",
            "2/2 [==============================] - 0s 8ms/step - loss: 12.2548 - mse: 185.0294\n",
            "Epoch 43/100\n",
            "2/2 [==============================] - 0s 10ms/step - loss: 10.7198 - mse: 165.6846\n",
            "Epoch 44/100\n",
            "2/2 [==============================] - 0s 7ms/step - loss: 22.9482 - mse: 824.4533\n",
            "Epoch 45/100\n",
            "2/2 [==============================] - 0s 12ms/step - loss: 10.3687 - mse: 128.7971\n",
            "Epoch 46/100\n",
            "2/2 [==============================] - 0s 9ms/step - loss: 11.7584 - mse: 180.0991\n",
            "Epoch 47/100\n",
            "2/2 [==============================] - 0s 7ms/step - loss: 9.6583 - mse: 153.7345\n",
            "Epoch 48/100\n",
            "2/2 [==============================] - 0s 13ms/step - loss: 17.2635 - mse: 404.3062\n",
            "Epoch 49/100\n",
            "2/2 [==============================] - 0s 10ms/step - loss: 9.5549 - mse: 99.4337\n",
            "Epoch 50/100\n",
            "2/2 [==============================] - 0s 10ms/step - loss: 13.7852 - mse: 258.4026\n",
            "Epoch 51/100\n",
            "2/2 [==============================] - 0s 10ms/step - loss: 11.5841 - mse: 154.2580\n",
            "Epoch 52/100\n",
            "2/2 [==============================] - 0s 6ms/step - loss: 30.4656 - mse: 1602.9113\n",
            "Epoch 53/100\n",
            "2/2 [==============================] - 0s 6ms/step - loss: 14.3161 - mse: 300.7000\n",
            "Epoch 54/100\n",
            "2/2 [==============================] - 0s 7ms/step - loss: 23.9035 - mse: 854.0610\n",
            "Epoch 55/100\n",
            "2/2 [==============================] - 0s 7ms/step - loss: 23.1204 - mse: 800.1500\n",
            "Epoch 56/100\n",
            "2/2 [==============================] - 0s 8ms/step - loss: 10.8621 - mse: 171.1007\n",
            "Epoch 57/100\n",
            "2/2 [==============================] - 0s 8ms/step - loss: 12.7146 - mse: 197.5097\n",
            "Epoch 58/100\n",
            "2/2 [==============================] - 0s 8ms/step - loss: 9.5836 - mse: 102.3897\n",
            "Epoch 59/100\n",
            "2/2 [==============================] - 0s 6ms/step - loss: 12.4898 - mse: 214.5770\n",
            "Epoch 60/100\n",
            "2/2 [==============================] - 0s 6ms/step - loss: 11.9003 - mse: 192.7586\n",
            "Epoch 61/100\n",
            "2/2 [==============================] - 0s 7ms/step - loss: 16.9830 - mse: 404.2168\n",
            "Epoch 62/100\n",
            "2/2 [==============================] - 0s 6ms/step - loss: 10.3967 - mse: 131.2084\n",
            "Epoch 63/100\n",
            "2/2 [==============================] - 0s 7ms/step - loss: 10.3505 - mse: 140.4187\n",
            "Epoch 64/100\n",
            "2/2 [==============================] - 0s 7ms/step - loss: 24.2093 - mse: 862.6960\n",
            "Epoch 65/100\n",
            "2/2 [==============================] - 0s 7ms/step - loss: 10.5309 - mse: 134.0724\n",
            "Epoch 66/100\n",
            "2/2 [==============================] - 0s 7ms/step - loss: 21.2201 - mse: 664.3592\n",
            "Epoch 67/100\n",
            "2/2 [==============================] - 0s 7ms/step - loss: 10.5288 - mse: 129.2702\n",
            "Epoch 68/100\n",
            "2/2 [==============================] - 0s 7ms/step - loss: 14.3813 - mse: 311.8983\n",
            "Epoch 69/100\n",
            "2/2 [==============================] - 0s 9ms/step - loss: 10.6207 - mse: 129.4457\n",
            "Epoch 70/100\n",
            "2/2 [==============================] - 0s 7ms/step - loss: 12.7064 - mse: 205.3162\n",
            "Epoch 71/100\n",
            "2/2 [==============================] - 0s 7ms/step - loss: 13.1357 - mse: 232.8172\n",
            "Epoch 72/100\n",
            "2/2 [==============================] - 0s 7ms/step - loss: 19.6473 - mse: 548.1927\n",
            "Epoch 73/100\n",
            "2/2 [==============================] - 0s 7ms/step - loss: 11.2003 - mse: 191.1684\n",
            "Epoch 74/100\n",
            "2/2 [==============================] - 0s 7ms/step - loss: 21.9349 - mse: 748.9517\n",
            "Epoch 75/100\n",
            "2/2 [==============================] - 0s 7ms/step - loss: 7.1917 - mse: 71.4496\n",
            "Epoch 76/100\n",
            "2/2 [==============================] - 0s 7ms/step - loss: 9.4158 - mse: 149.8583\n",
            "Epoch 77/100\n",
            "2/2 [==============================] - 0s 12ms/step - loss: 22.0381 - mse: 726.1691\n",
            "Epoch 78/100\n",
            "2/2 [==============================] - 0s 8ms/step - loss: 17.7197 - mse: 476.9134\n",
            "Epoch 79/100\n",
            "2/2 [==============================] - 0s 10ms/step - loss: 14.8757 - mse: 324.0274\n",
            "Epoch 80/100\n",
            "2/2 [==============================] - 0s 8ms/step - loss: 25.2100 - mse: 970.1681\n",
            "Epoch 81/100\n",
            "2/2 [==============================] - 0s 8ms/step - loss: 10.9433 - mse: 141.9523\n",
            "Epoch 82/100\n",
            "2/2 [==============================] - 0s 11ms/step - loss: 12.7336 - mse: 231.9024\n",
            "Epoch 83/100\n",
            "2/2 [==============================] - 0s 8ms/step - loss: 17.5003 - mse: 399.2560\n",
            "Epoch 84/100\n",
            "2/2 [==============================] - 0s 8ms/step - loss: 7.2845 - mse: 73.1885\n",
            "Epoch 85/100\n",
            "2/2 [==============================] - 0s 8ms/step - loss: 15.0260 - mse: 315.1940\n",
            "Epoch 86/100\n",
            "2/2 [==============================] - 0s 8ms/step - loss: 15.3356 - mse: 316.6646\n",
            "Epoch 87/100\n",
            "2/2 [==============================] - 0s 8ms/step - loss: 19.2049 - mse: 525.6395\n",
            "Epoch 88/100\n",
            "2/2 [==============================] - 0s 11ms/step - loss: 29.5721 - mse: 1264.1088\n",
            "Epoch 89/100\n",
            "2/2 [==============================] - 0s 10ms/step - loss: 10.1448 - mse: 124.1920\n",
            "Epoch 90/100\n",
            "2/2 [==============================] - 0s 8ms/step - loss: 21.3167 - mse: 650.8448\n",
            "Epoch 91/100\n",
            "2/2 [==============================] - 0s 9ms/step - loss: 10.5285 - mse: 162.7501\n",
            "Epoch 92/100\n",
            "2/2 [==============================] - 0s 12ms/step - loss: 18.2109 - mse: 454.2194\n",
            "Epoch 93/100\n",
            "2/2 [==============================] - 0s 15ms/step - loss: 6.8152 - mse: 67.3783\n",
            "Epoch 94/100\n",
            "2/2 [==============================] - 0s 12ms/step - loss: 13.0122 - mse: 230.1613\n",
            "Epoch 95/100\n",
            "2/2 [==============================] - 0s 13ms/step - loss: 18.3984 - mse: 499.2603\n",
            "Epoch 96/100\n",
            "2/2 [==============================] - 0s 11ms/step - loss: 10.3524 - mse: 178.5766\n",
            "Epoch 97/100\n",
            "2/2 [==============================] - 0s 11ms/step - loss: 14.4164 - mse: 314.0980\n",
            "Epoch 98/100\n",
            "2/2 [==============================] - 0s 12ms/step - loss: 6.5788 - mse: 60.6091\n",
            "Epoch 99/100\n",
            "2/2 [==============================] - 0s 11ms/step - loss: 12.6002 - mse: 229.4464\n",
            "Epoch 100/100\n",
            "2/2 [==============================] - 0s 12ms/step - loss: 19.4177 - mse: 553.7155\n"
          ]
        },
        {
          "output_type": "execute_result",
          "data": {
            "text/plain": [
              "<tf_keras.src.callbacks.History at 0x78703bea4710>"
            ]
          },
          "metadata": {},
          "execution_count": 53
        }
      ]
    },
    {
      "cell_type": "code",
      "metadata": {
        "colab": {
          "base_uri": "https://localhost:8080/",
          "height": 654
        },
        "id": "RW1hakVSCOUg",
        "outputId": "5eb3148c-80a2-4575-cdef-2dbc5f1bfffb"
      },
      "source": [
        "# Make and plot predictions of model_2\n",
        "y_preds_2 = model_2.predict(X_test)\n",
        "plot_predictions(predictions=y_preds_2)"
      ],
      "execution_count": 54,
      "outputs": [
        {
          "output_type": "stream",
          "name": "stderr",
          "text": [
            "WARNING:tensorflow:6 out of the last 6 calls to <function Model.make_predict_function.<locals>.predict_function at 0x78703bee9800> triggered tf.function retracing. Tracing is expensive and the excessive number of tracings could be due to (1) creating @tf.function repeatedly in a loop, (2) passing tensors with different shapes, (3) passing Python objects instead of tensors. For (1), please define your @tf.function outside of the loop. For (2), @tf.function has reduce_retracing=True option that can avoid unnecessary retracing. For (3), please refer to https://www.tensorflow.org/guide/function#controlling_retracing and https://www.tensorflow.org/api_docs/python/tf/function for  more details.\n"
          ]
        },
        {
          "output_type": "stream",
          "name": "stdout",
          "text": [
            "1/1 [==============================] - 0s 108ms/step\n"
          ]
        },
        {
          "output_type": "display_data",
          "data": {
            "text/plain": [
              "<Figure size 1000x700 with 1 Axes>"
            ],
            "image/png": "[encoded data removed]"
          },
          "metadata": {}
        }
      ]
    },
    {
      "cell_type": "code",
      "metadata": {
        "colab": {
          "base_uri": "https://localhost:8080/"
        },
        "id": "bgQMdpCICc9Q",
        "outputId": "d01877b8-d878-43e7-a59f-79668aae0e86"
      },
      "source": [
        "# Calculate model_2 evaluation metrics\n",
        "mae_2 = mae(y_test, y_preds_2)\n",
        "mse_2 = mse(y_test, y_preds_2)\n",
        "mae_2, mse_2"
      ],
      "execution_count": 55,
      "outputs": [
        {
          "output_type": "execute_result",
          "data": {
            "text/plain": [
              "(<tf.Tensor: shape=(), dtype=float32, numpy=13.23351764678955>,\n",
              " <tf.Tensor: shape=(), dtype=float32, numpy=185.11227416992188>)"
            ]
          },
          "metadata": {},
          "execution_count": 55
        }
      ]
    },
    {
      "cell_type": "markdown",
      "metadata": {
        "id": "frsg7iYgCvo8"
      },
      "source": [
        "**Build `model_3`**\n",
        "\n",
        "* 2 layers, trained for 500 epochs"
      ]
    },
    {
      "cell_type": "code",
      "metadata": {
        "colab": {
          "base_uri": "https://localhost:8080/"
        },
        "id": "4sfbKhNdDCXn",
        "outputId": "2fc0ce61-9e95-4e54-f1a8-cf05f3349010"
      },
      "source": [
        "# Set random seed\n",
        "tf.random.set_seed(42)\n",
        "\n",
        "# 1. Create a model\n",
        "model_3 = keras.Sequential([\n",
        "  keras.layers.Dense(10),\n",
        "  keras.layers.Dense(1)\n",
        "])\n",
        "\n",
        "# 2. Compile the model\n",
        "model_3.compile(loss=keras.losses.mae,\n",
        "                optimizer=keras.optimizers.SGD(),\n",
        "                metrics=[\"mae\"])\n",
        "\n",
        "# 3. Fit the model\n",
        "model_3.fit(tf.expand_dims(X_train, axis=-1), y_train, epochs=500)"
      ],
      "execution_count": 56,
      "outputs": [
        {
          "output_type": "stream",
          "name": "stdout",
          "text": [
            "Epoch 1/500\n",
            "2/2 [==============================] - 1s 21ms/step - loss: 58.4627 - mae: 58.4627\n",
            "Epoch 2/500\n",
            "2/2 [==============================] - 0s 9ms/step - loss: 30.2221 - mae: 30.2221\n",
            "Epoch 3/500\n",
            "2/2 [==============================] - 0s 8ms/step - loss: 33.4593 - mae: 33.4593\n",
            "Epoch 4/500\n",
            "2/2 [==============================] - 0s 14ms/step - loss: 17.6462 - mae: 17.6462\n",
            "Epoch 5/500\n",
            "2/2 [==============================] - 0s 14ms/step - loss: 23.5786 - mae: 23.5786\n",
            "Epoch 6/500\n",
            "2/2 [==============================] - 0s 12ms/step - loss: 11.1085 - mae: 11.1085\n",
            "Epoch 7/500\n",
            "2/2 [==============================] - 0s 13ms/step - loss: 12.1773 - mae: 12.1773\n",
            "Epoch 8/500\n",
            "2/2 [==============================] - 0s 11ms/step - loss: 10.9965 - mae: 10.9965\n",
            "Epoch 9/500\n",
            "2/2 [==============================] - 0s 11ms/step - loss: 38.6144 - mae: 38.6144\n",
            "Epoch 10/500\n",
            "2/2 [==============================] - 0s 7ms/step - loss: 26.1072 - mae: 26.1072\n",
            "Epoch 11/500\n",
            "2/2 [==============================] - 0s 8ms/step - loss: 9.4021 - mae: 9.4021\n",
            "Epoch 12/500\n",
            "2/2 [==============================] - 0s 9ms/step - loss: 26.4263 - mae: 26.4263\n",
            "Epoch 13/500\n",
            "2/2 [==============================] - 0s 9ms/step - loss: 14.4456 - mae: 14.4456\n",
            "Epoch 14/500\n",
            "2/2 [==============================] - 0s 10ms/step - loss: 29.8353 - mae: 29.8353\n",
            "Epoch 15/500\n",
            "2/2 [==============================] - 0s 9ms/step - loss: 19.6990 - mae: 19.6990\n",
            "Epoch 16/500\n",
            "2/2 [==============================] - 0s 14ms/step - loss: 9.8385 - mae: 9.8385\n",
            "Epoch 17/500\n",
            "2/2 [==============================] - 0s 13ms/step - loss: 17.6375 - mae: 17.6375\n",
            "Epoch 18/500\n",
            "2/2 [==============================] - 0s 8ms/step - loss: 14.1088 - mae: 14.1088\n",
            "Epoch 19/500\n",
            "2/2 [==============================] - 0s 9ms/step - loss: 13.9479 - mae: 13.9479\n",
            "Epoch 20/500\n",
            "2/2 [==============================] - 0s 14ms/step - loss: 11.2075 - mae: 11.2075\n",
            "Epoch 21/500\n",
            "2/2 [==============================] - 0s 11ms/step - loss: 17.2640 - mae: 17.2640\n",
            "Epoch 22/500\n",
            "2/2 [==============================] - 0s 26ms/step - loss: 15.5012 - mae: 15.5012\n",
            "Epoch 23/500\n",
            "2/2 [==============================] - 0s 10ms/step - loss: 9.2464 - mae: 9.2464\n",
            "Epoch 24/500\n",
            "2/2 [==============================] - 0s 10ms/step - loss: 17.2761 - mae: 17.2761\n",
            "Epoch 25/500\n",
            "2/2 [==============================] - 0s 9ms/step - loss: 15.9488 - mae: 15.9488\n",
            "Epoch 26/500\n",
            "2/2 [==============================] - 0s 14ms/step - loss: 20.9501 - mae: 20.9501\n",
            "Epoch 27/500\n",
            "2/2 [==============================] - 0s 13ms/step - loss: 25.9217 - mae: 25.9217\n",
            "Epoch 28/500\n",
            "2/2 [==============================] - 0s 13ms/step - loss: 18.4255 - mae: 18.4255\n",
            "Epoch 29/500\n",
            "2/2 [==============================] - 0s 11ms/step - loss: 9.2472 - mae: 9.2472\n",
            "Epoch 30/500\n",
            "2/2 [==============================] - 0s 12ms/step - loss: 29.0334 - mae: 29.0334\n",
            "Epoch 31/500\n",
            "2/2 [==============================] - 0s 10ms/step - loss: 52.5799 - mae: 52.5799\n",
            "Epoch 32/500\n",
            "2/2 [==============================] - 0s 8ms/step - loss: 11.9112 - mae: 11.9112\n",
            "Epoch 33/500\n",
            "2/2 [==============================] - 0s 14ms/step - loss: 15.4869 - mae: 15.4869\n",
            "Epoch 34/500\n",
            "2/2 [==============================] - 0s 9ms/step - loss: 12.5919 - mae: 12.5919\n",
            "Epoch 35/500\n",
            "2/2 [==============================] - 0s 9ms/step - loss: 9.1970 - mae: 9.1970\n",
            "Epoch 36/500\n",
            "2/2 [==============================] - 0s 15ms/step - loss: 16.4586 - mae: 16.4586\n",
            "Epoch 37/500\n",
            "2/2 [==============================] - 0s 8ms/step - loss: 11.0947 - mae: 11.0947\n",
            "Epoch 38/500\n",
            "2/2 [==============================] - 0s 10ms/step - loss: 18.2247 - mae: 18.2247\n",
            "Epoch 39/500\n",
            "2/2 [==============================] - 0s 10ms/step - loss: 19.1563 - mae: 19.1563\n",
            "Epoch 40/500\n",
            "2/2 [==============================] - 0s 12ms/step - loss: 20.5314 - mae: 20.5314\n",
            "Epoch 41/500\n",
            "2/2 [==============================] - 0s 12ms/step - loss: 14.7927 - mae: 14.7927\n",
            "Epoch 42/500\n",
            "2/2 [==============================] - 0s 9ms/step - loss: 12.1923 - mae: 12.1923\n",
            "Epoch 43/500\n",
            "2/2 [==============================] - 0s 11ms/step - loss: 10.6935 - mae: 10.6935\n",
            "Epoch 44/500\n",
            "2/2 [==============================] - 0s 14ms/step - loss: 32.2088 - mae: 32.2088\n",
            "Epoch 45/500\n",
            "2/2 [==============================] - 0s 13ms/step - loss: 12.4576 - mae: 12.4576\n",
            "Epoch 46/500\n",
            "2/2 [==============================] - 0s 9ms/step - loss: 17.4695 - mae: 17.4695\n",
            "Epoch 47/500\n",
            "2/2 [==============================] - 0s 9ms/step - loss: 15.7766 - mae: 15.7766\n",
            "Epoch 48/500\n",
            "2/2 [==============================] - 0s 8ms/step - loss: 8.3904 - mae: 8.3904\n",
            "Epoch 49/500\n",
            "2/2 [==============================] - 0s 8ms/step - loss: 14.0065 - mae: 14.0065\n",
            "Epoch 50/500\n",
            "2/2 [==============================] - 0s 12ms/step - loss: 12.8443 - mae: 12.8443\n",
            "Epoch 51/500\n",
            "2/2 [==============================] - 0s 8ms/step - loss: 14.8519 - mae: 14.8519\n",
            "Epoch 52/500\n",
            "2/2 [==============================] - 0s 8ms/step - loss: 18.7357 - mae: 18.7357\n",
            "Epoch 53/500\n",
            "2/2 [==============================] - 0s 7ms/step - loss: 24.1968 - mae: 24.1968\n",
            "Epoch 54/500\n",
            "2/2 [==============================] - 0s 7ms/step - loss: 23.1144 - mae: 23.1144\n",
            "Epoch 55/500\n",
            "2/2 [==============================] - 0s 8ms/step - loss: 23.9556 - mae: 23.9556\n",
            "Epoch 56/500\n",
            "2/2 [==============================] - 0s 9ms/step - loss: 11.1410 - mae: 11.1410\n",
            "Epoch 57/500\n",
            "2/2 [==============================] - 0s 10ms/step - loss: 13.0853 - mae: 13.0853\n",
            "Epoch 58/500\n",
            "2/2 [==============================] - 0s 9ms/step - loss: 9.7947 - mae: 9.7947\n",
            "Epoch 59/500\n",
            "2/2 [==============================] - 0s 11ms/step - loss: 13.2636 - mae: 13.2636\n",
            "Epoch 60/500\n",
            "2/2 [==============================] - 0s 10ms/step - loss: 10.8484 - mae: 10.8484\n",
            "Epoch 61/500\n",
            "2/2 [==============================] - 0s 11ms/step - loss: 13.4352 - mae: 13.4352\n",
            "Epoch 62/500\n",
            "2/2 [==============================] - 0s 7ms/step - loss: 17.4189 - mae: 17.4189\n",
            "Epoch 63/500\n",
            "2/2 [==============================] - 0s 9ms/step - loss: 9.1462 - mae: 9.1462\n",
            "Epoch 64/500\n",
            "2/2 [==============================] - 0s 16ms/step - loss: 18.2894 - mae: 18.2894\n",
            "Epoch 65/500\n",
            "2/2 [==============================] - 0s 17ms/step - loss: 10.1006 - mae: 10.1006\n",
            "Epoch 66/500\n",
            "2/2 [==============================] - 0s 9ms/step - loss: 24.1256 - mae: 24.1256\n",
            "Epoch 67/500\n",
            "2/2 [==============================] - 0s 8ms/step - loss: 10.8538 - mae: 10.8538\n",
            "Epoch 68/500\n",
            "2/2 [==============================] - 0s 8ms/step - loss: 10.7460 - mae: 10.7460\n",
            "Epoch 69/500\n",
            "2/2 [==============================] - 0s 10ms/step - loss: 23.0915 - mae: 23.0915\n",
            "Epoch 70/500\n",
            "2/2 [==============================] - 0s 8ms/step - loss: 8.8447 - mae: 8.8447\n",
            "Epoch 71/500\n",
            "2/2 [==============================] - 0s 13ms/step - loss: 16.0744 - mae: 16.0744\n",
            "Epoch 72/500\n",
            "2/2 [==============================] - 0s 8ms/step - loss: 7.7620 - mae: 7.7620\n",
            "Epoch 73/500\n",
            "2/2 [==============================] - 0s 9ms/step - loss: 10.1624 - mae: 10.1624\n",
            "Epoch 74/500\n",
            "2/2 [==============================] - 0s 8ms/step - loss: 28.3469 - mae: 28.3469\n",
            "Epoch 75/500\n",
            "2/2 [==============================] - 0s 8ms/step - loss: 9.9988 - mae: 9.9988\n",
            "Epoch 76/500\n",
            "2/2 [==============================] - 0s 8ms/step - loss: 12.9112 - mae: 12.9112\n",
            "Epoch 77/500\n",
            "2/2 [==============================] - 0s 7ms/step - loss: 17.8458 - mae: 17.8458\n",
            "Epoch 78/500\n",
            "2/2 [==============================] - 0s 8ms/step - loss: 8.9631 - mae: 8.9631\n",
            "Epoch 79/500\n",
            "2/2 [==============================] - 0s 9ms/step - loss: 28.6552 - mae: 28.6552\n",
            "Epoch 80/500\n",
            "2/2 [==============================] - 0s 8ms/step - loss: 30.9825 - mae: 30.9825\n",
            "Epoch 81/500\n",
            "2/2 [==============================] - 0s 8ms/step - loss: 13.3766 - mae: 13.3766\n",
            "Epoch 82/500\n",
            "2/2 [==============================] - 0s 8ms/step - loss: 14.5335 - mae: 14.5335\n",
            "Epoch 83/500\n",
            "2/2 [==============================] - 0s 8ms/step - loss: 18.5591 - mae: 18.5591\n",
            "Epoch 84/500\n",
            "2/2 [==============================] - 0s 9ms/step - loss: 8.8224 - mae: 8.8224\n",
            "Epoch 85/500\n",
            "2/2 [==============================] - 0s 11ms/step - loss: 18.4392 - mae: 18.4392\n",
            "Epoch 86/500\n",
            "2/2 [==============================] - 0s 10ms/step - loss: 22.5039 - mae: 22.5039\n",
            "Epoch 87/500\n",
            "2/2 [==============================] - 0s 10ms/step - loss: 11.3627 - mae: 11.3627\n",
            "Epoch 88/500\n",
            "2/2 [==============================] - 0s 10ms/step - loss: 26.5161 - mae: 26.5161\n",
            "Epoch 89/500\n",
            "2/2 [==============================] - 0s 9ms/step - loss: 9.6488 - mae: 9.6488\n",
            "Epoch 90/500\n",
            "2/2 [==============================] - 0s 8ms/step - loss: 18.6789 - mae: 18.6789\n",
            "Epoch 91/500\n",
            "2/2 [==============================] - 0s 8ms/step - loss: 10.4775 - mae: 10.4775\n",
            "Epoch 92/500\n",
            "2/2 [==============================] - 0s 9ms/step - loss: 17.9029 - mae: 17.9029\n",
            "Epoch 93/500\n",
            "2/2 [==============================] - 0s 13ms/step - loss: 6.5947 - mae: 6.5947\n",
            "Epoch 94/500\n",
            "2/2 [==============================] - 0s 11ms/step - loss: 11.1226 - mae: 11.1226\n",
            "Epoch 95/500\n",
            "2/2 [==============================] - 0s 10ms/step - loss: 24.2155 - mae: 24.2155\n",
            "Epoch 96/500\n",
            "2/2 [==============================] - 0s 9ms/step - loss: 10.7249 - mae: 10.7249\n",
            "Epoch 97/500\n",
            "2/2 [==============================] - 0s 9ms/step - loss: 15.2600 - mae: 15.2600\n",
            "Epoch 98/500\n",
            "2/2 [==============================] - 0s 9ms/step - loss: 8.2513 - mae: 8.2513\n",
            "Epoch 99/500\n",
            "2/2 [==============================] - 0s 9ms/step - loss: 16.0669 - mae: 16.0669\n",
            "Epoch 100/500\n",
            "2/2 [==============================] - 0s 9ms/step - loss: 16.5750 - mae: 16.5750\n",
            "Epoch 101/500\n",
            "2/2 [==============================] - 0s 11ms/step - loss: 12.5674 - mae: 12.5674\n",
            "Epoch 102/500\n",
            "2/2 [==============================] - 0s 7ms/step - loss: 14.0878 - mae: 14.0878\n",
            "Epoch 103/500\n",
            "2/2 [==============================] - 0s 9ms/step - loss: 9.6106 - mae: 9.6106\n",
            "Epoch 104/500\n",
            "2/2 [==============================] - 0s 10ms/step - loss: 26.5554 - mae: 26.5554\n",
            "Epoch 105/500\n",
            "2/2 [==============================] - 0s 7ms/step - loss: 13.5416 - mae: 13.5416\n",
            "Epoch 106/500\n",
            "2/2 [==============================] - 0s 7ms/step - loss: 9.0494 - mae: 9.0494\n",
            "Epoch 107/500\n",
            "2/2 [==============================] - 0s 8ms/step - loss: 20.7875 - mae: 20.7875\n",
            "Epoch 108/500\n",
            "2/2 [==============================] - 0s 7ms/step - loss: 6.8238 - mae: 6.8238\n",
            "Epoch 109/500\n",
            "2/2 [==============================] - 0s 10ms/step - loss: 20.0375 - mae: 20.0375\n",
            "Epoch 110/500\n",
            "2/2 [==============================] - 0s 13ms/step - loss: 11.3834 - mae: 11.3834\n",
            "Epoch 111/500\n",
            "2/2 [==============================] - 0s 10ms/step - loss: 14.9543 - mae: 14.9543\n",
            "Epoch 112/500\n",
            "2/2 [==============================] - 0s 8ms/step - loss: 9.1843 - mae: 9.1843\n",
            "Epoch 113/500\n",
            "2/2 [==============================] - 0s 12ms/step - loss: 20.5383 - mae: 20.5383\n",
            "Epoch 114/500\n",
            "2/2 [==============================] - 0s 9ms/step - loss: 18.4450 - mae: 18.4450\n",
            "Epoch 115/500\n",
            "2/2 [==============================] - 0s 10ms/step - loss: 10.9397 - mae: 10.9397\n",
            "Epoch 116/500\n",
            "2/2 [==============================] - 0s 9ms/step - loss: 22.4116 - mae: 22.4116\n",
            "Epoch 117/500\n",
            "2/2 [==============================] - 0s 8ms/step - loss: 9.3788 - mae: 9.3788\n",
            "Epoch 118/500\n",
            "2/2 [==============================] - 0s 9ms/step - loss: 10.3973 - mae: 10.3973\n",
            "Epoch 119/500\n",
            "2/2 [==============================] - 0s 7ms/step - loss: 8.0607 - mae: 8.0607\n",
            "Epoch 120/500\n",
            "2/2 [==============================] - 0s 9ms/step - loss: 37.7183 - mae: 37.7183\n",
            "Epoch 121/500\n",
            "2/2 [==============================] - 0s 10ms/step - loss: 10.6847 - mae: 10.6847\n",
            "Epoch 122/500\n",
            "2/2 [==============================] - 0s 8ms/step - loss: 28.2606 - mae: 28.2606\n",
            "Epoch 123/500\n",
            "2/2 [==============================] - 0s 7ms/step - loss: 32.8358 - mae: 32.8358\n",
            "Epoch 124/500\n",
            "2/2 [==============================] - 0s 12ms/step - loss: 19.5993 - mae: 19.5993\n",
            "Epoch 125/500\n",
            "2/2 [==============================] - 0s 8ms/step - loss: 7.0880 - mae: 7.0880\n",
            "Epoch 126/500\n",
            "2/2 [==============================] - 0s 8ms/step - loss: 21.7295 - mae: 21.7295\n",
            "Epoch 127/500\n",
            "2/2 [==============================] - 0s 10ms/step - loss: 8.0343 - mae: 8.0343\n",
            "Epoch 128/500\n",
            "2/2 [==============================] - 0s 11ms/step - loss: 20.9541 - mae: 20.9541\n",
            "Epoch 129/500\n",
            "2/2 [==============================] - 0s 10ms/step - loss: 9.0608 - mae: 9.0608\n",
            "Epoch 130/500\n",
            "2/2 [==============================] - 0s 9ms/step - loss: 23.8889 - mae: 23.8889\n",
            "Epoch 131/500\n",
            "2/2 [==============================] - 0s 13ms/step - loss: 9.7880 - mae: 9.7880\n",
            "Epoch 132/500\n",
            "2/2 [==============================] - 0s 15ms/step - loss: 18.1471 - mae: 18.1471\n",
            "Epoch 133/500\n",
            "2/2 [==============================] - 0s 13ms/step - loss: 7.6218 - mae: 7.6218\n",
            "Epoch 134/500\n",
            "2/2 [==============================] - 0s 15ms/step - loss: 18.4035 - mae: 18.4035\n",
            "Epoch 135/500\n",
            "2/2 [==============================] - 0s 10ms/step - loss: 10.5377 - mae: 10.5377\n",
            "Epoch 136/500\n",
            "2/2 [==============================] - 0s 8ms/step - loss: 18.0989 - mae: 18.0989\n",
            "Epoch 137/500\n",
            "2/2 [==============================] - 0s 11ms/step - loss: 22.9031 - mae: 22.9031\n",
            "Epoch 138/500\n",
            "2/2 [==============================] - 0s 10ms/step - loss: 9.0839 - mae: 9.0839\n",
            "Epoch 139/500\n",
            "2/2 [==============================] - 0s 8ms/step - loss: 8.9010 - mae: 8.9010\n",
            "Epoch 140/500\n",
            "2/2 [==============================] - 0s 9ms/step - loss: 16.2337 - mae: 16.2337\n",
            "Epoch 141/500\n",
            "2/2 [==============================] - 0s 8ms/step - loss: 8.4758 - mae: 8.4758\n",
            "Epoch 142/500\n",
            "2/2 [==============================] - 0s 13ms/step - loss: 36.3608 - mae: 36.3608\n",
            "Epoch 143/500\n",
            "2/2 [==============================] - 0s 9ms/step - loss: 25.1440 - mae: 25.1440\n",
            "Epoch 144/500\n",
            "2/2 [==============================] - 0s 8ms/step - loss: 10.5098 - mae: 10.5098\n",
            "Epoch 145/500\n",
            "2/2 [==============================] - 0s 9ms/step - loss: 25.8594 - mae: 25.8594\n",
            "Epoch 146/500\n",
            "2/2 [==============================] - 0s 11ms/step - loss: 9.9560 - mae: 9.9560\n",
            "Epoch 147/500\n",
            "2/2 [==============================] - 0s 10ms/step - loss: 14.7705 - mae: 14.7705\n",
            "Epoch 148/500\n",
            "2/2 [==============================] - 0s 10ms/step - loss: 17.8882 - mae: 17.8882\n",
            "Epoch 149/500\n",
            "2/2 [==============================] - 0s 9ms/step - loss: 8.4518 - mae: 8.4518\n",
            "Epoch 150/500\n",
            "2/2 [==============================] - 0s 9ms/step - loss: 7.6395 - mae: 7.6395\n",
            "Epoch 151/500\n",
            "2/2 [==============================] - 0s 10ms/step - loss: 18.7584 - mae: 18.7584\n",
            "Epoch 152/500\n",
            "2/2 [==============================] - 0s 9ms/step - loss: 10.4696 - mae: 10.4696\n",
            "Epoch 153/500\n",
            "2/2 [==============================] - 0s 10ms/step - loss: 30.2143 - mae: 30.2143\n",
            "Epoch 154/500\n",
            "2/2 [==============================] - 0s 10ms/step - loss: 10.0375 - mae: 10.0375\n",
            "Epoch 155/500\n",
            "2/2 [==============================] - 0s 9ms/step - loss: 15.7844 - mae: 15.7844\n",
            "Epoch 156/500\n",
            "2/2 [==============================] - 0s 11ms/step - loss: 17.7394 - mae: 17.7394\n",
            "Epoch 157/500\n",
            "2/2 [==============================] - 0s 9ms/step - loss: 30.9403 - mae: 30.9403\n",
            "Epoch 158/500\n",
            "2/2 [==============================] - 0s 7ms/step - loss: 10.1955 - mae: 10.1955\n",
            "Epoch 159/500\n",
            "2/2 [==============================] - 0s 9ms/step - loss: 8.6943 - mae: 8.6943\n",
            "Epoch 160/500\n",
            "2/2 [==============================] - 0s 10ms/step - loss: 20.6153 - mae: 20.6153\n",
            "Epoch 161/500\n",
            "2/2 [==============================] - 0s 17ms/step - loss: 11.7791 - mae: 11.7791\n",
            "Epoch 162/500\n",
            "2/2 [==============================] - 0s 8ms/step - loss: 21.5847 - mae: 21.5847\n",
            "Epoch 163/500\n",
            "2/2 [==============================] - 0s 9ms/step - loss: 19.0582 - mae: 19.0582\n",
            "Epoch 164/500\n",
            "2/2 [==============================] - 0s 8ms/step - loss: 12.8888 - mae: 12.8888\n",
            "Epoch 165/500\n",
            "2/2 [==============================] - 0s 9ms/step - loss: 12.7006 - mae: 12.7006\n",
            "Epoch 166/500\n",
            "2/2 [==============================] - 0s 10ms/step - loss: 18.8326 - mae: 18.8326\n",
            "Epoch 167/500\n",
            "2/2 [==============================] - 0s 8ms/step - loss: 27.0105 - mae: 27.0105\n",
            "Epoch 168/500\n",
            "2/2 [==============================] - 0s 8ms/step - loss: 10.0736 - mae: 10.0736\n",
            "Epoch 169/500\n",
            "2/2 [==============================] - 0s 8ms/step - loss: 23.2217 - mae: 23.2217\n",
            "Epoch 170/500\n",
            "2/2 [==============================] - 0s 8ms/step - loss: 9.6076 - mae: 9.6076\n",
            "Epoch 171/500\n",
            "2/2 [==============================] - 0s 9ms/step - loss: 15.8123 - mae: 15.8123\n",
            "Epoch 172/500\n",
            "2/2 [==============================] - 0s 8ms/step - loss: 14.0213 - mae: 14.0213\n",
            "Epoch 173/500\n",
            "2/2 [==============================] - 0s 8ms/step - loss: 22.8036 - mae: 22.8036\n",
            "Epoch 174/500\n",
            "2/2 [==============================] - 0s 10ms/step - loss: 10.0011 - mae: 10.0011\n",
            "Epoch 175/500\n",
            "2/2 [==============================] - 0s 11ms/step - loss: 28.1548 - mae: 28.1548\n",
            "Epoch 176/500\n",
            "2/2 [==============================] - 0s 7ms/step - loss: 8.6409 - mae: 8.6409\n",
            "Epoch 177/500\n",
            "2/2 [==============================] - 0s 10ms/step - loss: 8.6981 - mae: 8.6981\n",
            "Epoch 178/500\n",
            "2/2 [==============================] - 0s 8ms/step - loss: 15.7117 - mae: 15.7117\n",
            "Epoch 179/500\n",
            "2/2 [==============================] - 0s 8ms/step - loss: 8.9831 - mae: 8.9831\n",
            "Epoch 180/500\n",
            "2/2 [==============================] - 0s 9ms/step - loss: 7.9558 - mae: 7.9558\n",
            "Epoch 181/500\n",
            "2/2 [==============================] - 0s 7ms/step - loss: 17.5486 - mae: 17.5486\n",
            "Epoch 182/500\n",
            "2/2 [==============================] - 0s 8ms/step - loss: 11.1016 - mae: 11.1016\n",
            "Epoch 183/500\n",
            "2/2 [==============================] - 0s 9ms/step - loss: 11.7770 - mae: 11.7770\n",
            "Epoch 184/500\n",
            "2/2 [==============================] - 0s 7ms/step - loss: 30.6008 - mae: 30.6008\n",
            "Epoch 185/500\n",
            "2/2 [==============================] - 0s 8ms/step - loss: 7.5678 - mae: 7.5678\n",
            "Epoch 186/500\n",
            "2/2 [==============================] - 0s 8ms/step - loss: 15.9502 - mae: 15.9502\n",
            "Epoch 187/500\n",
            "2/2 [==============================] - 0s 8ms/step - loss: 8.6040 - mae: 8.6040\n",
            "Epoch 188/500\n",
            "2/2 [==============================] - 0s 8ms/step - loss: 28.8760 - mae: 28.8760\n",
            "Epoch 189/500\n",
            "2/2 [==============================] - 0s 8ms/step - loss: 13.1526 - mae: 13.1526\n",
            "Epoch 190/500\n",
            "2/2 [==============================] - 0s 8ms/step - loss: 18.2936 - mae: 18.2936\n",
            "Epoch 191/500\n",
            "2/2 [==============================] - 0s 8ms/step - loss: 13.7186 - mae: 13.7186\n",
            "Epoch 192/500\n",
            "2/2 [==============================] - 0s 8ms/step - loss: 13.7143 - mae: 13.7143\n",
            "Epoch 193/500\n",
            "2/2 [==============================] - 0s 8ms/step - loss: 28.5672 - mae: 28.5672\n",
            "Epoch 194/500\n",
            "2/2 [==============================] - 0s 8ms/step - loss: 7.1173 - mae: 7.1173\n",
            "Epoch 195/500\n",
            "2/2 [==============================] - 0s 8ms/step - loss: 7.0792 - mae: 7.0792\n",
            "Epoch 196/500\n",
            "2/2 [==============================] - 0s 8ms/step - loss: 21.9969 - mae: 21.9969\n",
            "Epoch 197/500\n",
            "2/2 [==============================] - 0s 8ms/step - loss: 20.8713 - mae: 20.8713\n",
            "Epoch 198/500\n",
            "2/2 [==============================] - 0s 9ms/step - loss: 12.4956 - mae: 12.4956\n",
            "Epoch 199/500\n",
            "2/2 [==============================] - 0s 8ms/step - loss: 17.9305 - mae: 17.9305\n",
            "Epoch 200/500\n",
            "2/2 [==============================] - 0s 10ms/step - loss: 13.7698 - mae: 13.7698\n",
            "Epoch 201/500\n",
            "2/2 [==============================] - 0s 7ms/step - loss: 5.4983 - mae: 5.4983\n",
            "Epoch 202/500\n",
            "2/2 [==============================] - 0s 8ms/step - loss: 13.7132 - mae: 13.7132\n",
            "Epoch 203/500\n",
            "2/2 [==============================] - 0s 7ms/step - loss: 9.4407 - mae: 9.4407\n",
            "Epoch 204/500\n",
            "2/2 [==============================] - 0s 8ms/step - loss: 20.9557 - mae: 20.9557\n",
            "Epoch 205/500\n",
            "2/2 [==============================] - 0s 11ms/step - loss: 9.5656 - mae: 9.5656\n",
            "Epoch 206/500\n",
            "2/2 [==============================] - 0s 8ms/step - loss: 11.7283 - mae: 11.7283\n",
            "Epoch 207/500\n",
            "2/2 [==============================] - 0s 9ms/step - loss: 14.3468 - mae: 14.3468\n",
            "Epoch 208/500\n",
            "2/2 [==============================] - 0s 8ms/step - loss: 14.8403 - mae: 14.8403\n",
            "Epoch 209/500\n",
            "2/2 [==============================] - 0s 8ms/step - loss: 14.6243 - mae: 14.6243\n",
            "Epoch 210/500\n",
            "2/2 [==============================] - 0s 8ms/step - loss: 17.8669 - mae: 17.8669\n",
            "Epoch 211/500\n",
            "2/2 [==============================] - 0s 8ms/step - loss: 9.8448 - mae: 9.8448\n",
            "Epoch 212/500\n",
            "2/2 [==============================] - 0s 8ms/step - loss: 18.2780 - mae: 18.2780\n",
            "Epoch 213/500\n",
            "2/2 [==============================] - 0s 8ms/step - loss: 15.0681 - mae: 15.0681\n",
            "Epoch 214/500\n",
            "2/2 [==============================] - 0s 8ms/step - loss: 14.6096 - mae: 14.6096\n",
            "Epoch 215/500\n",
            "2/2 [==============================] - 0s 8ms/step - loss: 23.3365 - mae: 23.3365\n",
            "Epoch 216/500\n",
            "2/2 [==============================] - 0s 7ms/step - loss: 13.3153 - mae: 13.3153\n",
            "Epoch 217/500\n",
            "2/2 [==============================] - 0s 7ms/step - loss: 9.8328 - mae: 9.8328\n",
            "Epoch 218/500\n",
            "2/2 [==============================] - 0s 10ms/step - loss: 12.5957 - mae: 12.5957\n",
            "Epoch 219/500\n",
            "2/2 [==============================] - 0s 9ms/step - loss: 5.3504 - mae: 5.3504\n",
            "Epoch 220/500\n",
            "2/2 [==============================] - 0s 8ms/step - loss: 14.7010 - mae: 14.7010\n",
            "Epoch 221/500\n",
            "2/2 [==============================] - 0s 8ms/step - loss: 33.5429 - mae: 33.5429\n",
            "Epoch 222/500\n",
            "2/2 [==============================] - 0s 8ms/step - loss: 13.8958 - mae: 13.8958\n",
            "Epoch 223/500\n",
            "2/2 [==============================] - 0s 8ms/step - loss: 10.9952 - mae: 10.9952\n",
            "Epoch 224/500\n",
            "2/2 [==============================] - 0s 8ms/step - loss: 14.9510 - mae: 14.9510\n",
            "Epoch 225/500\n",
            "2/2 [==============================] - 0s 9ms/step - loss: 17.0000 - mae: 17.0000\n",
            "Epoch 226/500\n",
            "2/2 [==============================] - 0s 8ms/step - loss: 16.1892 - mae: 16.1892\n",
            "Epoch 227/500\n",
            "2/2 [==============================] - 0s 9ms/step - loss: 16.5088 - mae: 16.5088\n",
            "Epoch 228/500\n",
            "2/2 [==============================] - 0s 7ms/step - loss: 9.9479 - mae: 9.9479\n",
            "Epoch 229/500\n",
            "2/2 [==============================] - 0s 9ms/step - loss: 17.8471 - mae: 17.8471\n",
            "Epoch 230/500\n",
            "2/2 [==============================] - 0s 10ms/step - loss: 15.4680 - mae: 15.4680\n",
            "Epoch 231/500\n",
            "2/2 [==============================] - 0s 8ms/step - loss: 20.8982 - mae: 20.8982\n",
            "Epoch 232/500\n",
            "2/2 [==============================] - 0s 8ms/step - loss: 20.3881 - mae: 20.3881\n",
            "Epoch 233/500\n",
            "2/2 [==============================] - 0s 8ms/step - loss: 15.0535 - mae: 15.0535\n",
            "Epoch 234/500\n",
            "2/2 [==============================] - 0s 8ms/step - loss: 6.9664 - mae: 6.9664\n",
            "Epoch 235/500\n",
            "2/2 [==============================] - 0s 8ms/step - loss: 15.7012 - mae: 15.7012\n",
            "Epoch 236/500\n",
            "2/2 [==============================] - 0s 13ms/step - loss: 6.6829 - mae: 6.6829\n",
            "Epoch 237/500\n",
            "2/2 [==============================] - 0s 8ms/step - loss: 8.5895 - mae: 8.5895\n",
            "Epoch 238/500\n",
            "2/2 [==============================] - 0s 8ms/step - loss: 7.7614 - mae: 7.7614\n",
            "Epoch 239/500\n",
            "2/2 [==============================] - 0s 9ms/step - loss: 15.6083 - mae: 15.6083\n",
            "Epoch 240/500\n",
            "2/2 [==============================] - 0s 8ms/step - loss: 8.9934 - mae: 8.9934\n",
            "Epoch 241/500\n",
            "2/2 [==============================] - 0s 8ms/step - loss: 13.3873 - mae: 13.3873\n",
            "Epoch 242/500\n",
            "2/2 [==============================] - 0s 8ms/step - loss: 8.8872 - mae: 8.8872\n",
            "Epoch 243/500\n",
            "2/2 [==============================] - 0s 9ms/step - loss: 19.2305 - mae: 19.2305\n",
            "Epoch 244/500\n",
            "2/2 [==============================] - 0s 8ms/step - loss: 13.9114 - mae: 13.9114\n",
            "Epoch 245/500\n",
            "2/2 [==============================] - 0s 8ms/step - loss: 14.5578 - mae: 14.5578\n",
            "Epoch 246/500\n",
            "2/2 [==============================] - 0s 11ms/step - loss: 15.6966 - mae: 15.6966\n",
            "Epoch 247/500\n",
            "2/2 [==============================] - 0s 9ms/step - loss: 17.5387 - mae: 17.5387\n",
            "Epoch 248/500\n",
            "2/2 [==============================] - 0s 10ms/step - loss: 13.1048 - mae: 13.1048\n",
            "Epoch 249/500\n",
            "2/2 [==============================] - 0s 10ms/step - loss: 14.4356 - mae: 14.4356\n",
            "Epoch 250/500\n",
            "2/2 [==============================] - 0s 11ms/step - loss: 27.8421 - mae: 27.8421\n",
            "Epoch 251/500\n",
            "2/2 [==============================] - 0s 7ms/step - loss: 7.5106 - mae: 7.5106\n",
            "Epoch 252/500\n",
            "2/2 [==============================] - 0s 7ms/step - loss: 38.0918 - mae: 38.0918\n",
            "Epoch 253/500\n",
            "2/2 [==============================] - 0s 10ms/step - loss: 22.9125 - mae: 22.9125\n",
            "Epoch 254/500\n",
            "2/2 [==============================] - 0s 8ms/step - loss: 7.4452 - mae: 7.4452\n",
            "Epoch 255/500\n",
            "2/2 [==============================] - 0s 8ms/step - loss: 25.7967 - mae: 25.7967\n",
            "Epoch 256/500\n",
            "2/2 [==============================] - 0s 9ms/step - loss: 13.7225 - mae: 13.7225\n",
            "Epoch 257/500\n",
            "2/2 [==============================] - 0s 9ms/step - loss: 8.3438 - mae: 8.3438\n",
            "Epoch 258/500\n",
            "2/2 [==============================] - 0s 8ms/step - loss: 13.2160 - mae: 13.2160\n",
            "Epoch 259/500\n",
            "2/2 [==============================] - 0s 9ms/step - loss: 9.5286 - mae: 9.5286\n",
            "Epoch 260/500\n",
            "2/2 [==============================] - 0s 10ms/step - loss: 38.4751 - mae: 38.4751\n",
            "Epoch 261/500\n",
            "2/2 [==============================] - 0s 9ms/step - loss: 15.5338 - mae: 15.5338\n",
            "Epoch 262/500\n",
            "2/2 [==============================] - 0s 10ms/step - loss: 5.7773 - mae: 5.7773\n",
            "Epoch 263/500\n",
            "2/2 [==============================] - 0s 9ms/step - loss: 14.5966 - mae: 14.5966\n",
            "Epoch 264/500\n",
            "2/2 [==============================] - 0s 9ms/step - loss: 18.7508 - mae: 18.7508\n",
            "Epoch 265/500\n",
            "2/2 [==============================] - 0s 18ms/step - loss: 13.0886 - mae: 13.0886\n",
            "Epoch 266/500\n",
            "2/2 [==============================] - 0s 9ms/step - loss: 10.3121 - mae: 10.3121\n",
            "Epoch 267/500\n",
            "2/2 [==============================] - 0s 10ms/step - loss: 6.0381 - mae: 6.0381\n",
            "Epoch 268/500\n",
            "2/2 [==============================] - 0s 9ms/step - loss: 18.6899 - mae: 18.6899\n",
            "Epoch 269/500\n",
            "2/2 [==============================] - 0s 9ms/step - loss: 42.2729 - mae: 42.2729\n",
            "Epoch 270/500\n",
            "2/2 [==============================] - 0s 16ms/step - loss: 13.9652 - mae: 13.9652\n",
            "Epoch 271/500\n",
            "2/2 [==============================] - 0s 13ms/step - loss: 15.0699 - mae: 15.0699\n",
            "Epoch 272/500\n",
            "2/2 [==============================] - 0s 10ms/step - loss: 29.0986 - mae: 29.0986\n",
            "Epoch 273/500\n",
            "2/2 [==============================] - 0s 9ms/step - loss: 5.5386 - mae: 5.5386\n",
            "Epoch 274/500\n",
            "2/2 [==============================] - 0s 13ms/step - loss: 14.0104 - mae: 14.0104\n",
            "Epoch 275/500\n",
            "2/2 [==============================] - 0s 10ms/step - loss: 17.1049 - mae: 17.1049\n",
            "Epoch 276/500\n",
            "2/2 [==============================] - 0s 13ms/step - loss: 12.8161 - mae: 12.8161\n",
            "Epoch 277/500\n",
            "2/2 [==============================] - 0s 9ms/step - loss: 30.3920 - mae: 30.3920\n",
            "Epoch 278/500\n",
            "2/2 [==============================] - 0s 9ms/step - loss: 10.9133 - mae: 10.9133\n",
            "Epoch 279/500\n",
            "2/2 [==============================] - 0s 14ms/step - loss: 16.2936 - mae: 16.2936\n",
            "Epoch 280/500\n",
            "2/2 [==============================] - 0s 11ms/step - loss: 21.6392 - mae: 21.6392\n",
            "Epoch 281/500\n",
            "2/2 [==============================] - 0s 15ms/step - loss: 22.7874 - mae: 22.7874\n",
            "Epoch 282/500\n",
            "2/2 [==============================] - 0s 12ms/step - loss: 7.9760 - mae: 7.9760\n",
            "Epoch 283/500\n",
            "2/2 [==============================] - 0s 12ms/step - loss: 8.2872 - mae: 8.2872\n",
            "Epoch 284/500\n",
            "2/2 [==============================] - 0s 8ms/step - loss: 25.5361 - mae: 25.5361\n",
            "Epoch 285/500\n",
            "2/2 [==============================] - 0s 8ms/step - loss: 14.1513 - mae: 14.1513\n",
            "Epoch 286/500\n",
            "2/2 [==============================] - 0s 10ms/step - loss: 6.0226 - mae: 6.0226\n",
            "Epoch 287/500\n",
            "2/2 [==============================] - 0s 10ms/step - loss: 19.0020 - mae: 19.0020\n",
            "Epoch 288/500\n",
            "2/2 [==============================] - 0s 9ms/step - loss: 32.8638 - mae: 32.8638\n",
            "Epoch 289/500\n",
            "2/2 [==============================] - 0s 9ms/step - loss: 8.3891 - mae: 8.3891\n",
            "Epoch 290/500\n",
            "2/2 [==============================] - 0s 12ms/step - loss: 16.8804 - mae: 16.8804\n",
            "Epoch 291/500\n",
            "2/2 [==============================] - 0s 8ms/step - loss: 17.2530 - mae: 17.2530\n",
            "Epoch 292/500\n",
            "2/2 [==============================] - 0s 11ms/step - loss: 10.8928 - mae: 10.8928\n",
            "Epoch 293/500\n",
            "2/2 [==============================] - 0s 10ms/step - loss: 14.5802 - mae: 14.5802\n",
            "Epoch 294/500\n",
            "2/2 [==============================] - 0s 9ms/step - loss: 21.8164 - mae: 21.8164\n",
            "Epoch 295/500\n",
            "2/2 [==============================] - 0s 16ms/step - loss: 19.9531 - mae: 19.9531\n",
            "Epoch 296/500\n",
            "2/2 [==============================] - 0s 9ms/step - loss: 7.0069 - mae: 7.0069\n",
            "Epoch 297/500\n",
            "2/2 [==============================] - 0s 9ms/step - loss: 9.0190 - mae: 9.0190\n",
            "Epoch 298/500\n",
            "2/2 [==============================] - 0s 12ms/step - loss: 24.2715 - mae: 24.2715\n",
            "Epoch 299/500\n",
            "2/2 [==============================] - 0s 9ms/step - loss: 17.8446 - mae: 17.8446\n",
            "Epoch 300/500\n",
            "2/2 [==============================] - 0s 10ms/step - loss: 7.0243 - mae: 7.0243\n",
            "Epoch 301/500\n",
            "2/2 [==============================] - 0s 9ms/step - loss: 25.3200 - mae: 25.3200\n",
            "Epoch 302/500\n",
            "2/2 [==============================] - 0s 9ms/step - loss: 9.4531 - mae: 9.4531\n",
            "Epoch 303/500\n",
            "2/2 [==============================] - 0s 8ms/step - loss: 14.4110 - mae: 14.4110\n",
            "Epoch 304/500\n",
            "2/2 [==============================] - 0s 8ms/step - loss: 10.8353 - mae: 10.8353\n",
            "Epoch 305/500\n",
            "2/2 [==============================] - 0s 15ms/step - loss: 12.6399 - mae: 12.6399\n",
            "Epoch 306/500\n",
            "2/2 [==============================] - 0s 16ms/step - loss: 8.2787 - mae: 8.2787\n",
            "Epoch 307/500\n",
            "2/2 [==============================] - 0s 13ms/step - loss: 13.0812 - mae: 13.0812\n",
            "Epoch 308/500\n",
            "2/2 [==============================] - 0s 10ms/step - loss: 8.1401 - mae: 8.1401\n",
            "Epoch 309/500\n",
            "2/2 [==============================] - 0s 8ms/step - loss: 11.7260 - mae: 11.7260\n",
            "Epoch 310/500\n",
            "2/2 [==============================] - 0s 16ms/step - loss: 6.3442 - mae: 6.3442\n",
            "Epoch 311/500\n",
            "2/2 [==============================] - 0s 14ms/step - loss: 4.9858 - mae: 4.9858\n",
            "Epoch 312/500\n",
            "2/2 [==============================] - 0s 10ms/step - loss: 29.2966 - mae: 29.2966\n",
            "Epoch 313/500\n",
            "2/2 [==============================] - 0s 11ms/step - loss: 8.9484 - mae: 8.9484\n",
            "Epoch 314/500\n",
            "2/2 [==============================] - 0s 12ms/step - loss: 6.5113 - mae: 6.5113\n",
            "Epoch 315/500\n",
            "2/2 [==============================] - 0s 12ms/step - loss: 23.9204 - mae: 23.9204\n",
            "Epoch 316/500\n",
            "2/2 [==============================] - 0s 8ms/step - loss: 16.2270 - mae: 16.2270\n",
            "Epoch 317/500\n",
            "2/2 [==============================] - 0s 14ms/step - loss: 20.7254 - mae: 20.7254\n",
            "Epoch 318/500\n",
            "2/2 [==============================] - 0s 12ms/step - loss: 9.1756 - mae: 9.1756\n",
            "Epoch 319/500\n",
            "2/2 [==============================] - 0s 10ms/step - loss: 11.7667 - mae: 11.7667\n",
            "Epoch 320/500\n",
            "2/2 [==============================] - 0s 13ms/step - loss: 12.4003 - mae: 12.4003\n",
            "Epoch 321/500\n",
            "2/2 [==============================] - 0s 8ms/step - loss: 5.3760 - mae: 5.3760\n",
            "Epoch 322/500\n",
            "2/2 [==============================] - 0s 8ms/step - loss: 14.2092 - mae: 14.2092\n",
            "Epoch 323/500\n",
            "2/2 [==============================] - 0s 8ms/step - loss: 18.6312 - mae: 18.6312\n",
            "Epoch 324/500\n",
            "2/2 [==============================] - 0s 10ms/step - loss: 18.0052 - mae: 18.0052\n",
            "Epoch 325/500\n",
            "2/2 [==============================] - 0s 16ms/step - loss: 7.9196 - mae: 7.9196\n",
            "Epoch 326/500\n",
            "2/2 [==============================] - 0s 13ms/step - loss: 21.1764 - mae: 21.1764\n",
            "Epoch 327/500\n",
            "2/2 [==============================] - 0s 14ms/step - loss: 24.6215 - mae: 24.6215\n",
            "Epoch 328/500\n",
            "2/2 [==============================] - 0s 9ms/step - loss: 12.6622 - mae: 12.6622\n",
            "Epoch 329/500\n",
            "2/2 [==============================] - 0s 8ms/step - loss: 17.1648 - mae: 17.1648\n",
            "Epoch 330/500\n",
            "2/2 [==============================] - 0s 10ms/step - loss: 6.9778 - mae: 6.9778\n",
            "Epoch 331/500\n",
            "2/2 [==============================] - 0s 9ms/step - loss: 20.6135 - mae: 20.6135\n",
            "Epoch 332/500\n",
            "2/2 [==============================] - 0s 10ms/step - loss: 11.4803 - mae: 11.4803\n",
            "Epoch 333/500\n",
            "2/2 [==============================] - 0s 9ms/step - loss: 13.8676 - mae: 13.8676\n",
            "Epoch 334/500\n",
            "2/2 [==============================] - 0s 8ms/step - loss: 10.1942 - mae: 10.1942\n",
            "Epoch 335/500\n",
            "2/2 [==============================] - 0s 9ms/step - loss: 13.0393 - mae: 13.0393\n",
            "Epoch 336/500\n",
            "2/2 [==============================] - 0s 11ms/step - loss: 32.4119 - mae: 32.4119\n",
            "Epoch 337/500\n",
            "2/2 [==============================] - 0s 7ms/step - loss: 10.6772 - mae: 10.6772\n",
            "Epoch 338/500\n",
            "2/2 [==============================] - 0s 13ms/step - loss: 20.2098 - mae: 20.2098\n",
            "Epoch 339/500\n",
            "2/2 [==============================] - 0s 9ms/step - loss: 33.5993 - mae: 33.5993\n",
            "Epoch 340/500\n",
            "2/2 [==============================] - 0s 10ms/step - loss: 8.6087 - mae: 8.6087\n",
            "Epoch 341/500\n",
            "2/2 [==============================] - 0s 16ms/step - loss: 21.3280 - mae: 21.3280\n",
            "Epoch 342/500\n",
            "2/2 [==============================] - 0s 13ms/step - loss: 14.1303 - mae: 14.1303\n",
            "Epoch 343/500\n",
            "2/2 [==============================] - 0s 11ms/step - loss: 11.6881 - mae: 11.6881\n",
            "Epoch 344/500\n",
            "2/2 [==============================] - 0s 13ms/step - loss: 10.7184 - mae: 10.7184\n",
            "Epoch 345/500\n",
            "2/2 [==============================] - 0s 13ms/step - loss: 30.9034 - mae: 30.9034\n",
            "Epoch 346/500\n",
            "2/2 [==============================] - 0s 10ms/step - loss: 10.6526 - mae: 10.6526\n",
            "Epoch 347/500\n",
            "2/2 [==============================] - 0s 16ms/step - loss: 25.5704 - mae: 25.5704\n",
            "Epoch 348/500\n",
            "2/2 [==============================] - 0s 8ms/step - loss: 13.2830 - mae: 13.2830\n",
            "Epoch 349/500\n",
            "2/2 [==============================] - 0s 14ms/step - loss: 13.0554 - mae: 13.0554\n",
            "Epoch 350/500\n",
            "2/2 [==============================] - 0s 9ms/step - loss: 15.4159 - mae: 15.4159\n",
            "Epoch 351/500\n",
            "2/2 [==============================] - 0s 9ms/step - loss: 32.8805 - mae: 32.8805\n",
            "Epoch 352/500\n",
            "2/2 [==============================] - 0s 9ms/step - loss: 13.9901 - mae: 13.9901\n",
            "Epoch 353/500\n",
            "2/2 [==============================] - 0s 7ms/step - loss: 15.9737 - mae: 15.9737\n",
            "Epoch 354/500\n",
            "2/2 [==============================] - 0s 8ms/step - loss: 13.3403 - mae: 13.3403\n",
            "Epoch 355/500\n",
            "2/2 [==============================] - 0s 8ms/step - loss: 21.4662 - mae: 21.4662\n",
            "Epoch 356/500\n",
            "2/2 [==============================] - 0s 7ms/step - loss: 16.3402 - mae: 16.3402\n",
            "Epoch 357/500\n",
            "2/2 [==============================] - 0s 8ms/step - loss: 11.8756 - mae: 11.8756\n",
            "Epoch 358/500\n",
            "2/2 [==============================] - 0s 7ms/step - loss: 14.9980 - mae: 14.9980\n",
            "Epoch 359/500\n",
            "2/2 [==============================] - 0s 8ms/step - loss: 12.2554 - mae: 12.2554\n",
            "Epoch 360/500\n",
            "2/2 [==============================] - 0s 8ms/step - loss: 20.1949 - mae: 20.1949\n",
            "Epoch 361/500\n",
            "2/2 [==============================] - 0s 8ms/step - loss: 11.1654 - mae: 11.1654\n",
            "Epoch 362/500\n",
            "2/2 [==============================] - 0s 10ms/step - loss: 6.8876 - mae: 6.8876\n",
            "Epoch 363/500\n",
            "2/2 [==============================] - 0s 8ms/step - loss: 24.1589 - mae: 24.1589\n",
            "Epoch 364/500\n",
            "2/2 [==============================] - 0s 12ms/step - loss: 29.9871 - mae: 29.9871\n",
            "Epoch 365/500\n",
            "2/2 [==============================] - 0s 13ms/step - loss: 8.4690 - mae: 8.4690\n",
            "Epoch 366/500\n",
            "2/2 [==============================] - 0s 10ms/step - loss: 6.1424 - mae: 6.1424\n",
            "Epoch 367/500\n",
            "2/2 [==============================] - 0s 7ms/step - loss: 35.0909 - mae: 35.0909\n",
            "Epoch 368/500\n",
            "2/2 [==============================] - 0s 10ms/step - loss: 7.4987 - mae: 7.4987\n",
            "Epoch 369/500\n",
            "2/2 [==============================] - 0s 9ms/step - loss: 9.3150 - mae: 9.3150\n",
            "Epoch 370/500\n",
            "2/2 [==============================] - 0s 11ms/step - loss: 11.0167 - mae: 11.0167\n",
            "Epoch 371/500\n",
            "2/2 [==============================] - 0s 10ms/step - loss: 9.0762 - mae: 9.0762\n",
            "Epoch 372/500\n",
            "2/2 [==============================] - 0s 9ms/step - loss: 6.9762 - mae: 6.9762\n",
            "Epoch 373/500\n",
            "2/2 [==============================] - 0s 7ms/step - loss: 25.9377 - mae: 25.9377\n",
            "Epoch 374/500\n",
            "2/2 [==============================] - 0s 9ms/step - loss: 11.0009 - mae: 11.0009\n",
            "Epoch 375/500\n",
            "2/2 [==============================] - 0s 9ms/step - loss: 10.7915 - mae: 10.7915\n",
            "Epoch 376/500\n",
            "2/2 [==============================] - 0s 11ms/step - loss: 13.5757 - mae: 13.5757\n",
            "Epoch 377/500\n",
            "2/2 [==============================] - 0s 9ms/step - loss: 15.2814 - mae: 15.2814\n",
            "Epoch 378/500\n",
            "2/2 [==============================] - 0s 9ms/step - loss: 16.4199 - mae: 16.4199\n",
            "Epoch 379/500\n",
            "2/2 [==============================] - 0s 9ms/step - loss: 21.1641 - mae: 21.1641\n",
            "Epoch 380/500\n",
            "2/2 [==============================] - 0s 9ms/step - loss: 32.5680 - mae: 32.5680\n",
            "Epoch 381/500\n",
            "2/2 [==============================] - 0s 9ms/step - loss: 7.9857 - mae: 7.9857\n",
            "Epoch 382/500\n",
            "2/2 [==============================] - 0s 16ms/step - loss: 12.3806 - mae: 12.3806\n",
            "Epoch 383/500\n",
            "2/2 [==============================] - 0s 17ms/step - loss: 7.3143 - mae: 7.3143\n",
            "Epoch 384/500\n",
            "2/2 [==============================] - 0s 13ms/step - loss: 6.4046 - mae: 6.4046\n",
            "Epoch 385/500\n",
            "2/2 [==============================] - 0s 10ms/step - loss: 11.6579 - mae: 11.6579\n",
            "Epoch 386/500\n",
            "2/2 [==============================] - 0s 10ms/step - loss: 20.0201 - mae: 20.0201\n",
            "Epoch 387/500\n",
            "2/2 [==============================] - 0s 10ms/step - loss: 24.2744 - mae: 24.2744\n",
            "Epoch 388/500\n",
            "2/2 [==============================] - 0s 10ms/step - loss: 7.6546 - mae: 7.6546\n",
            "Epoch 389/500\n",
            "2/2 [==============================] - 0s 9ms/step - loss: 14.3110 - mae: 14.3110\n",
            "Epoch 390/500\n",
            "2/2 [==============================] - 0s 12ms/step - loss: 8.2640 - mae: 8.2640\n",
            "Epoch 391/500\n",
            "2/2 [==============================] - 0s 10ms/step - loss: 15.5159 - mae: 15.5159\n",
            "Epoch 392/500\n",
            "2/2 [==============================] - 0s 9ms/step - loss: 17.1527 - mae: 17.1527\n",
            "Epoch 393/500\n",
            "2/2 [==============================] - 0s 12ms/step - loss: 10.5214 - mae: 10.5214\n",
            "Epoch 394/500\n",
            "2/2 [==============================] - 0s 8ms/step - loss: 14.0807 - mae: 14.0807\n",
            "Epoch 395/500\n",
            "2/2 [==============================] - 0s 11ms/step - loss: 28.4223 - mae: 28.4223\n",
            "Epoch 396/500\n",
            "2/2 [==============================] - 0s 8ms/step - loss: 8.5687 - mae: 8.5687\n",
            "Epoch 397/500\n",
            "2/2 [==============================] - 0s 11ms/step - loss: 11.2989 - mae: 11.2989\n",
            "Epoch 398/500\n",
            "2/2 [==============================] - 0s 8ms/step - loss: 6.9538 - mae: 6.9538\n",
            "Epoch 399/500\n",
            "2/2 [==============================] - 0s 8ms/step - loss: 14.1153 - mae: 14.1153\n",
            "Epoch 400/500\n",
            "2/2 [==============================] - 0s 8ms/step - loss: 6.7399 - mae: 6.7399\n",
            "Epoch 401/500\n",
            "2/2 [==============================] - 0s 8ms/step - loss: 7.9931 - mae: 7.9931\n",
            "Epoch 402/500\n",
            "2/2 [==============================] - 0s 7ms/step - loss: 16.3920 - mae: 16.3920\n",
            "Epoch 403/500\n",
            "2/2 [==============================] - 0s 8ms/step - loss: 12.3886 - mae: 12.3886\n",
            "Epoch 404/500\n",
            "2/2 [==============================] - 0s 9ms/step - loss: 22.9779 - mae: 22.9779\n",
            "Epoch 405/500\n",
            "2/2 [==============================] - 0s 11ms/step - loss: 18.0023 - mae: 18.0023\n",
            "Epoch 406/500\n",
            "2/2 [==============================] - 0s 11ms/step - loss: 7.0542 - mae: 7.0542\n",
            "Epoch 407/500\n",
            "2/2 [==============================] - 0s 11ms/step - loss: 12.5809 - mae: 12.5809\n",
            "Epoch 408/500\n",
            "2/2 [==============================] - 0s 12ms/step - loss: 5.6876 - mae: 5.6876\n",
            "Epoch 409/500\n",
            "2/2 [==============================] - 0s 10ms/step - loss: 31.0439 - mae: 31.0439\n",
            "Epoch 410/500\n",
            "2/2 [==============================] - 0s 16ms/step - loss: 9.3086 - mae: 9.3086\n",
            "Epoch 411/500\n",
            "2/2 [==============================] - 0s 9ms/step - loss: 14.9115 - mae: 14.9115\n",
            "Epoch 412/500\n",
            "2/2 [==============================] - 0s 11ms/step - loss: 21.8090 - mae: 21.8090\n",
            "Epoch 413/500\n",
            "2/2 [==============================] - 0s 11ms/step - loss: 12.5044 - mae: 12.5044\n",
            "Epoch 414/500\n",
            "2/2 [==============================] - 0s 9ms/step - loss: 6.1089 - mae: 6.1089\n",
            "Epoch 415/500\n",
            "2/2 [==============================] - 0s 12ms/step - loss: 13.2548 - mae: 13.2548\n",
            "Epoch 416/500\n",
            "2/2 [==============================] - 0s 9ms/step - loss: 27.4932 - mae: 27.4932\n",
            "Epoch 417/500\n",
            "2/2 [==============================] - 0s 7ms/step - loss: 10.4765 - mae: 10.4765\n",
            "Epoch 418/500\n",
            "2/2 [==============================] - 0s 10ms/step - loss: 12.8811 - mae: 12.8811\n",
            "Epoch 419/500\n",
            "2/2 [==============================] - 0s 10ms/step - loss: 15.9206 - mae: 15.9206\n",
            "Epoch 420/500\n",
            "2/2 [==============================] - 0s 11ms/step - loss: 24.8291 - mae: 24.8291\n",
            "Epoch 421/500\n",
            "2/2 [==============================] - 0s 14ms/step - loss: 17.1892 - mae: 17.1892\n",
            "Epoch 422/500\n",
            "2/2 [==============================] - 0s 8ms/step - loss: 7.8361 - mae: 7.8361\n",
            "Epoch 423/500\n",
            "2/2 [==============================] - 0s 9ms/step - loss: 25.4534 - mae: 25.4534\n",
            "Epoch 424/500\n",
            "2/2 [==============================] - 0s 9ms/step - loss: 14.9389 - mae: 14.9389\n",
            "Epoch 425/500\n",
            "2/2 [==============================] - 0s 11ms/step - loss: 7.1159 - mae: 7.1159\n",
            "Epoch 426/500\n",
            "2/2 [==============================] - 0s 9ms/step - loss: 20.1334 - mae: 20.1334\n",
            "Epoch 427/500\n",
            "2/2 [==============================] - 0s 10ms/step - loss: 6.2749 - mae: 6.2749\n",
            "Epoch 428/500\n",
            "2/2 [==============================] - 0s 9ms/step - loss: 12.6405 - mae: 12.6405\n",
            "Epoch 429/500\n",
            "2/2 [==============================] - 0s 11ms/step - loss: 12.0773 - mae: 12.0773\n",
            "Epoch 430/500\n",
            "2/2 [==============================] - 0s 12ms/step - loss: 11.0789 - mae: 11.0789\n",
            "Epoch 431/500\n",
            "2/2 [==============================] - 0s 9ms/step - loss: 10.0082 - mae: 10.0082\n",
            "Epoch 432/500\n",
            "2/2 [==============================] - 0s 13ms/step - loss: 13.3438 - mae: 13.3438\n",
            "Epoch 433/500\n",
            "2/2 [==============================] - 0s 8ms/step - loss: 11.3950 - mae: 11.3950\n",
            "Epoch 434/500\n",
            "2/2 [==============================] - 0s 11ms/step - loss: 30.4246 - mae: 30.4246\n",
            "Epoch 435/500\n",
            "2/2 [==============================] - 0s 9ms/step - loss: 10.5161 - mae: 10.5161\n",
            "Epoch 436/500\n",
            "2/2 [==============================] - 0s 9ms/step - loss: 28.9114 - mae: 28.9114\n",
            "Epoch 437/500\n",
            "2/2 [==============================] - 0s 8ms/step - loss: 8.6295 - mae: 8.6295\n",
            "Epoch 438/500\n",
            "2/2 [==============================] - 0s 8ms/step - loss: 12.7453 - mae: 12.7453\n",
            "Epoch 439/500\n",
            "2/2 [==============================] - 0s 9ms/step - loss: 33.6946 - mae: 33.6946\n",
            "Epoch 440/500\n",
            "2/2 [==============================] - 0s 9ms/step - loss: 15.1258 - mae: 15.1258\n",
            "Epoch 441/500\n",
            "2/2 [==============================] - 0s 9ms/step - loss: 17.5038 - mae: 17.5038\n",
            "Epoch 442/500\n",
            "2/2 [==============================] - 0s 9ms/step - loss: 22.3530 - mae: 22.3530\n",
            "Epoch 443/500\n",
            "2/2 [==============================] - 0s 9ms/step - loss: 23.4702 - mae: 23.4702\n",
            "Epoch 444/500\n",
            "2/2 [==============================] - 0s 11ms/step - loss: 10.9085 - mae: 10.9085\n",
            "Epoch 445/500\n",
            "2/2 [==============================] - 0s 9ms/step - loss: 14.9462 - mae: 14.9462\n",
            "Epoch 446/500\n",
            "2/2 [==============================] - 0s 9ms/step - loss: 18.0401 - mae: 18.0401\n",
            "Epoch 447/500\n",
            "2/2 [==============================] - 0s 13ms/step - loss: 5.4059 - mae: 5.4059\n",
            "Epoch 448/500\n",
            "2/2 [==============================] - 0s 8ms/step - loss: 10.0929 - mae: 10.0929\n",
            "Epoch 449/500\n",
            "2/2 [==============================] - 0s 9ms/step - loss: 14.0374 - mae: 14.0374\n",
            "Epoch 450/500\n",
            "2/2 [==============================] - 0s 8ms/step - loss: 16.8100 - mae: 16.8100\n",
            "Epoch 451/500\n",
            "2/2 [==============================] - 0s 9ms/step - loss: 14.3077 - mae: 14.3077\n",
            "Epoch 452/500\n",
            "2/2 [==============================] - 0s 9ms/step - loss: 30.6482 - mae: 30.6482\n",
            "Epoch 453/500\n",
            "2/2 [==============================] - 0s 9ms/step - loss: 7.6585 - mae: 7.6585\n",
            "Epoch 454/500\n",
            "2/2 [==============================] - 0s 9ms/step - loss: 28.1784 - mae: 28.1784\n",
            "Epoch 455/500\n",
            "2/2 [==============================] - 0s 8ms/step - loss: 7.9391 - mae: 7.9391\n",
            "Epoch 456/500\n",
            "2/2 [==============================] - 0s 8ms/step - loss: 10.4299 - mae: 10.4299\n",
            "Epoch 457/500\n",
            "2/2 [==============================] - 0s 8ms/step - loss: 15.0556 - mae: 15.0556\n",
            "Epoch 458/500\n",
            "2/2 [==============================] - 0s 9ms/step - loss: 16.5849 - mae: 16.5849\n",
            "Epoch 459/500\n",
            "2/2 [==============================] - 0s 7ms/step - loss: 26.8968 - mae: 26.8968\n",
            "Epoch 460/500\n",
            "2/2 [==============================] - 0s 10ms/step - loss: 12.3849 - mae: 12.3849\n",
            "Epoch 461/500\n",
            "2/2 [==============================] - 0s 8ms/step - loss: 12.5210 - mae: 12.5210\n",
            "Epoch 462/500\n",
            "2/2 [==============================] - 0s 9ms/step - loss: 13.3350 - mae: 13.3350\n",
            "Epoch 463/500\n",
            "2/2 [==============================] - 0s 8ms/step - loss: 29.5855 - mae: 29.5855\n",
            "Epoch 464/500\n",
            "2/2 [==============================] - 0s 8ms/step - loss: 3.4686 - mae: 3.4686\n",
            "Epoch 465/500\n",
            "2/2 [==============================] - 0s 8ms/step - loss: 15.2404 - mae: 15.2404\n",
            "Epoch 466/500\n",
            "2/2 [==============================] - 0s 10ms/step - loss: 20.8901 - mae: 20.8901\n",
            "Epoch 467/500\n",
            "2/2 [==============================] - 0s 9ms/step - loss: 30.3554 - mae: 30.3554\n",
            "Epoch 468/500\n",
            "2/2 [==============================] - 0s 13ms/step - loss: 10.6347 - mae: 10.6347\n",
            "Epoch 469/500\n",
            "2/2 [==============================] - 0s 12ms/step - loss: 15.1090 - mae: 15.1090\n",
            "Epoch 470/500\n",
            "2/2 [==============================] - 0s 12ms/step - loss: 6.7608 - mae: 6.7608\n",
            "Epoch 471/500\n",
            "2/2 [==============================] - 0s 10ms/step - loss: 22.8750 - mae: 22.8750\n",
            "Epoch 472/500\n",
            "2/2 [==============================] - 0s 15ms/step - loss: 13.3495 - mae: 13.3495\n",
            "Epoch 473/500\n",
            "2/2 [==============================] - 0s 16ms/step - loss: 15.2628 - mae: 15.2628\n",
            "Epoch 474/500\n",
            "2/2 [==============================] - 0s 9ms/step - loss: 11.7331 - mae: 11.7331\n",
            "Epoch 475/500\n",
            "2/2 [==============================] - 0s 9ms/step - loss: 16.3801 - mae: 16.3801\n",
            "Epoch 476/500\n",
            "2/2 [==============================] - 0s 12ms/step - loss: 13.8774 - mae: 13.8774\n",
            "Epoch 477/500\n",
            "2/2 [==============================] - 0s 11ms/step - loss: 30.6492 - mae: 30.6492\n",
            "Epoch 478/500\n",
            "2/2 [==============================] - 0s 16ms/step - loss: 8.5888 - mae: 8.5888\n",
            "Epoch 479/500\n",
            "2/2 [==============================] - 0s 17ms/step - loss: 10.7494 - mae: 10.7494\n",
            "Epoch 480/500\n",
            "2/2 [==============================] - 0s 16ms/step - loss: 17.9131 - mae: 17.9131\n",
            "Epoch 481/500\n",
            "2/2 [==============================] - 0s 13ms/step - loss: 15.8178 - mae: 15.8178\n",
            "Epoch 482/500\n",
            "2/2 [==============================] - 0s 14ms/step - loss: 21.3155 - mae: 21.3155\n",
            "Epoch 483/500\n",
            "2/2 [==============================] - 0s 10ms/step - loss: 25.3552 - mae: 25.3552\n",
            "Epoch 484/500\n",
            "2/2 [==============================] - 0s 15ms/step - loss: 23.9614 - mae: 23.9614\n",
            "Epoch 485/500\n",
            "2/2 [==============================] - 0s 12ms/step - loss: 5.7925 - mae: 5.7925\n",
            "Epoch 486/500\n",
            "2/2 [==============================] - 0s 11ms/step - loss: 19.9536 - mae: 19.9536\n",
            "Epoch 487/500\n",
            "2/2 [==============================] - 0s 9ms/step - loss: 14.0508 - mae: 14.0508\n",
            "Epoch 488/500\n",
            "2/2 [==============================] - 0s 11ms/step - loss: 30.6212 - mae: 30.6212\n",
            "Epoch 489/500\n",
            "2/2 [==============================] - 0s 11ms/step - loss: 11.9663 - mae: 11.9663\n",
            "Epoch 490/500\n",
            "2/2 [==============================] - 0s 10ms/step - loss: 12.5709 - mae: 12.5709\n",
            "Epoch 491/500\n",
            "2/2 [==============================] - 0s 8ms/step - loss: 23.8668 - mae: 23.8668\n",
            "Epoch 492/500\n",
            "2/2 [==============================] - 0s 8ms/step - loss: 19.9152 - mae: 19.9152\n",
            "Epoch 493/500\n",
            "2/2 [==============================] - 0s 9ms/step - loss: 4.8828 - mae: 4.8828\n",
            "Epoch 494/500\n",
            "2/2 [==============================] - 0s 9ms/step - loss: 12.2766 - mae: 12.2766\n",
            "Epoch 495/500\n",
            "2/2 [==============================] - 0s 7ms/step - loss: 13.6048 - mae: 13.6048\n",
            "Epoch 496/500\n",
            "2/2 [==============================] - 0s 12ms/step - loss: 12.8333 - mae: 12.8333\n",
            "Epoch 497/500\n",
            "2/2 [==============================] - 0s 17ms/step - loss: 17.9103 - mae: 17.9103\n",
            "Epoch 498/500\n",
            "2/2 [==============================] - 0s 15ms/step - loss: 22.9176 - mae: 22.9176\n",
            "Epoch 499/500\n",
            "2/2 [==============================] - 0s 10ms/step - loss: 8.7609 - mae: 8.7609\n",
            "Epoch 500/500\n",
            "2/2 [==============================] - 0s 9ms/step - loss: 14.4381 - mae: 14.4381\n"
          ]
        },
        {
          "output_type": "execute_result",
          "data": {
            "text/plain": [
              "<tf_keras.src.callbacks.History at 0x78703bd5d290>"
            ]
          },
          "metadata": {},
          "execution_count": 56
        }
      ]
    },
    {
      "cell_type": "code",
      "metadata": {
        "colab": {
          "base_uri": "https://localhost:8080/",
          "height": 616
        },
        "id": "Fem6mBsnDUdS",
        "outputId": "0991dc79-b0bc-4d48-8f7c-51e79ed09b03"
      },
      "source": [
        "# Make and plot some predictions\n",
        "y_preds_3 = model_3.predict(X_test)\n",
        "plot_predictions(predictions=y_preds_3)"
      ],
      "execution_count": 57,
      "outputs": [
        {
          "output_type": "stream",
          "name": "stdout",
          "text": [
            "1/1 [==============================] - 0s 150ms/step\n"
          ]
        },
        {
          "output_type": "display_data",
          "data": {
            "text/plain": [
              "<Figure size 1000x700 with 1 Axes>"
            ],
            "image/png": "[encoded data removed]"
          },
          "metadata": {}
        }
      ]
    },
    {
      "cell_type": "code",
      "metadata": {
        "colab": {
          "base_uri": "https://localhost:8080/"
        },
        "id": "TbSmrikFDpE8",
        "outputId": "b60b69b2-31fa-49fe-819e-953f67138c04"
      },
      "source": [
        "# Calculate model_3 evalaution metrics\n",
        "mae_3 = mae(y_test, y_preds_3)\n",
        "mse_3 = mse(y_test, y_preds_3)\n",
        "mae_3, mse_3"
      ],
      "execution_count": 58,
      "outputs": [
        {
          "output_type": "execute_result",
          "data": {
            "text/plain": [
              "(<tf.Tensor: shape=(), dtype=float32, numpy=68.09502410888672>,\n",
              " <tf.Tensor: shape=(), dtype=float32, numpy=4721.7421875>)"
            ]
          },
          "metadata": {},
          "execution_count": 58
        }
      ]
    },
    {
      "cell_type": "markdown",
      "metadata": {
        "id": "lMwtZ03YGSdv"
      },
      "source": [
        "🔑 **Note:** You want to start with small experiments (small models) and make sure they work and then increase their scale when necessary."
      ]
    },
    {
      "cell_type": "markdown",
      "metadata": {
        "id": "D_5UdQMOEA5y"
      },
      "source": [
        "### Comparing the results of our experiments\n",
        "\n",
        "We've run a few experiments, let's compare the results."
      ]
    },
    {
      "cell_type": "code",
      "metadata": {
        "colab": {
          "base_uri": "https://localhost:8080/",
          "height": 143
        },
        "id": "OZe_HWXzESJ8",
        "outputId": "e75b22b8-dd5f-4c32-96d6-647cbd10413e"
      },
      "source": [
        "# Let's compare our model's results using a pandas DataFrame\n",
        "import pandas as pd\n",
        "\n",
        "model_results = [[\"model_1\", mae_1.numpy(), mse_1.numpy()],\n",
        "                 [\"model_2\", mae_2.numpy(), mse_2.numpy()],\n",
        "                 [\"model_3\", mae_3.numpy(), mse_3.numpy()]]\n",
        "\n",
        "all_results = pd.DataFrame(model_results, columns=[\"model\", \"mae\", \"mse\"])\n",
        "all_results"
      ],
      "execution_count": 59,
      "outputs": [
        {
          "output_type": "execute_result",
          "data": {
            "text/plain": [
              "     model        mae          mse\n",
              "0  model_1  14.956096   224.526520\n",
              "1  model_2  13.233518   185.112274\n",
              "2  model_3  68.095024  4721.742188"
            ],
            "text/html": [
              "\n",
              "  <div id=\"df-99ec331c-1694-489d-b44e-e2af7558298f\" class=\"colab-df-container\">\n",
              "    <div>\n",
              "<style scoped>\n",
              "    .dataframe tbody tr th:only-of-type {\n",
              "        vertical-align: middle;\n",
              "    }\n",
              "\n",
              "    .dataframe tbody tr th {\n",
              "        vertical-align: top;\n",
              "    }\n",
              "\n",
              "    .dataframe thead th {\n",
              "        text-align: right;\n",
              "    }\n",
              "</style>\n",
              "<table border=\"1\" class=\"dataframe\">\n",
              "  <thead>\n",
              "    <tr style=\"text-align: right;\">\n",
              "      <th></th>\n",
              "      <th>model</th>\n",
              "      <th>mae</th>\n",
              "      <th>mse</th>\n",
              "    </tr>\n",
              "  </thead>\n",
              "  <tbody>\n",
              "    <tr>\n",
              "      <th>0</th>\n",
              "      <td>model_1</td>\n",
              "      <td>14.956096</td>\n",
              "      <td>224.526520</td>\n",
              "    </tr>\n",
              "    <tr>\n",
              "      <th>1</th>\n",
              "      <td>model_2</td>\n",
              "      <td>13.233518</td>\n",
              "      <td>185.112274</td>\n",
              "    </tr>\n",
              "    <tr>\n",
              "      <th>2</th>\n",
              "      <td>model_3</td>\n",
              "      <td>68.095024</td>\n",
              "      <td>4721.742188</td>\n",
              "    </tr>\n",
              "  </tbody>\n",
              "</table>\n",
              "</div>\n",
              "    <div class=\"colab-df-buttons\">\n",
              "\n",
              "  <div class=\"colab-df-container\">\n",
              "    <button class=\"colab-df-convert\" onclick=\"convertToInteractive('df-99ec331c-1694-489d-b44e-e2af7558298f')\"\n",
              "            title=\"Convert this dataframe to an interactive table.\"\n",
              "            style=\"display:none;\">\n",
              "\n",
              "  <svg xmlns=\"http://www.w3.org/2000/svg\" height=\"24px\" viewBox=\"0 -960 960 960\">\n",
              "    <path d=\"M120-120v-720h720v720H120Zm60-500h600v-160H180v160Zm220 220h160v-160H400v160Zm0 220h160v-160H400v160ZM180-400h160v-160H180v160Zm440 0h160v-160H620v160ZM180-180h160v-160H180v160Zm440 0h160v-160H620v160Z\"/>\n",
              "  </svg>\n",
              "    </button>\n",
              "\n",
              "  <style>\n",
              "    .colab-df-container {\n",
              "      display:flex;\n",
              "      gap: 12px;\n",
              "    }\n",
              "\n",
              "    .colab-df-convert {\n",
              "      background-color: #E8F0FE;\n",
              "      border: none;\n",
              "      border-radius: 50%;\n",
              "      cursor: pointer;\n",
              "      display: none;\n",
              "      fill: #1967D2;\n",
              "      height: 32px;\n",
              "      padding: 0 0 0 0;\n",
              "      width: 32px;\n",
              "    }\n",
              "\n",
              "    .colab-df-convert:hover {\n",
              "      background-color: #E2EBFA;\n",
              "      box-shadow: 0px 1px 2px rgba(60, 64, 67, 0.3), 0px 1px 3px 1px rgba(60, 64, 67, 0.15);\n",
              "      fill: #174EA6;\n",
              "    }\n",
              "\n",
              "    .colab-df-buttons div {\n",
              "      margin-bottom: 4px;\n",
              "    }\n",
              "\n",
              "    [theme=dark] .colab-df-convert {\n",
              "      background-color: #3B4455;\n",
              "      fill: #D2E3FC;\n",
              "    }\n",
              "\n",
              "    [theme=dark] .colab-df-convert:hover {\n",
              "      background-color: #434B5C;\n",
              "      box-shadow: 0px 1px 3px 1px rgba(0, 0, 0, 0.15);\n",
              "      filter: drop-shadow(0px 1px 2px rgba(0, 0, 0, 0.3));\n",
              "      fill: #FFFFFF;\n",
              "    }\n",
              "  </style>\n",
              "\n",
              "    <script>\n",
              "      const buttonEl =\n",
              "        document.querySelector('#df-99ec331c-1694-489d-b44e-e2af7558298f button.colab-df-convert');\n",
              "      buttonEl.style.display =\n",
              "        google.colab.kernel.accessAllowed ? 'block' : 'none';\n",
              "\n",
              "      async function convertToInteractive(key) {\n",
              "        const element = document.querySelector('#df-99ec331c-1694-489d-b44e-e2af7558298f');\n",
              "        const dataTable =\n",
              "          await google.colab.kernel.invokeFunction('convertToInteractive',\n",
              "                                                    [key], {});\n",
              "        if (!dataTable) return;\n",
              "\n",
              "        const docLinkHtml = 'Like what you see? Visit the ' +\n",
              "          '<a target=\"_blank\" href=https://colab.research.google.com/notebooks/data_table.ipynb>data table notebook</a>'\n",
              "          + ' to learn more about interactive tables.';\n",
              "        element.innerHTML = '';\n",
              "        dataTable['output_type'] = 'display_data';\n",
              "        await google.colab.output.renderOutput(dataTable, element);\n",
              "        const docLink = document.createElement('div');\n",
              "        docLink.innerHTML = docLinkHtml;\n",
              "        element.appendChild(docLink);\n",
              "      }\n",
              "    </script>\n",
              "  </div>\n",
              "\n",
              "\n",
              "<div id=\"df-379473d5-4357-4379-9337-a42433fef90a\">\n",
              "  <button class=\"colab-df-quickchart\" onclick=\"quickchart('df-379473d5-4357-4379-9337-a42433fef90a')\"\n",
              "            title=\"Suggest charts\"\n",
              "            style=\"display:none;\">\n",
              "\n",
              "<svg xmlns=\"http://www.w3.org/2000/svg\" height=\"24px\"viewBox=\"0 0 24 24\"\n",
              "     width=\"24px\">\n",
              "    <g>\n",
              "        <path d=\"M19 3H5c-1.1 0-2 .9-2 2v14c0 1.1.9 2 2 2h14c1.1 0 2-.9 2-2V5c0-1.1-.9-2-2-2zM9 17H7v-7h2v7zm4 0h-2V7h2v10zm4 0h-2v-4h2v4z\"/>\n",
              "    </g>\n",
              "</svg>\n",
              "  </button>\n",
              "\n",
              "<style>\n",
              "  .colab-df-quickchart {\n",
              "      --bg-color: #E8F0FE;\n",
              "      --fill-color: #1967D2;\n",
              "      --hover-bg-color: #E2EBFA;\n",
              "      --hover-fill-color: #174EA6;\n",
              "      --disabled-fill-color: #AAA;\n",
              "      --disabled-bg-color: #DDD;\n",
              "  }\n",
              "\n",
              "  [theme=dark] .colab-df-quickchart {\n",
              "      --bg-color: #3B4455;\n",
              "      --fill-color: #D2E3FC;\n",
              "      --hover-bg-color: #434B5C;\n",
              "      --hover-fill-color: #FFFFFF;\n",
              "      --disabled-bg-color: #3B4455;\n",
              "      --disabled-fill-color: #666;\n",
              "  }\n",
              "\n",
              "  .colab-df-quickchart {\n",
              "    background-color: var(--bg-color);\n",
              "    border: none;\n",
              "    border-radius: 50%;\n",
              "    cursor: pointer;\n",
              "    display: none;\n",
              "    fill: var(--fill-color);\n",
              "    height: 32px;\n",
              "    padding: 0;\n",
              "    width: 32px;\n",
              "  }\n",
              "\n",
              "  .colab-df-quickchart:hover {\n",
              "    background-color: var(--hover-bg-color);\n",
              "    box-shadow: 0 1px 2px rgba(60, 64, 67, 0.3), 0 1px 3px 1px rgba(60, 64, 67, 0.15);\n",
              "    fill: var(--button-hover-fill-color);\n",
              "  }\n",
              "\n",
              "  .colab-df-quickchart-complete:disabled,\n",
              "  .colab-df-quickchart-complete:disabled:hover {\n",
              "    background-color: var(--disabled-bg-color);\n",
              "    fill: var(--disabled-fill-color);\n",
              "    box-shadow: none;\n",
              "  }\n",
              "\n",
              "  .colab-df-spinner {\n",
              "    border: 2px solid var(--fill-color);\n",
              "    border-color: transparent;\n",
              "    border-bottom-color: var(--fill-color);\n",
              "    animation:\n",
              "      spin 1s steps(1) infinite;\n",
              "  }\n",
              "\n",
              "  @keyframes spin {\n",
              "    0% {\n",
              "      border-color: transparent;\n",
              "      border-bottom-color: var(--fill-color);\n",
              "      border-left-color: var(--fill-color);\n",
              "    }\n",
              "    20% {\n",
              "      border-color: transparent;\n",
              "      border-left-color: var(--fill-color);\n",
              "      border-top-color: var(--fill-color);\n",
              "    }\n",
              "    30% {\n",
              "      border-color: transparent;\n",
              "      border-left-color: var(--fill-color);\n",
              "      border-top-color: var(--fill-color);\n",
              "      border-right-color: var(--fill-color);\n",
              "    }\n",
              "    40% {\n",
              "      border-color: transparent;\n",
              "      border-right-color: var(--fill-color);\n",
              "      border-top-color: var(--fill-color);\n",
              "    }\n",
              "    60% {\n",
              "      border-color: transparent;\n",
              "      border-right-color: var(--fill-color);\n",
              "    }\n",
              "    80% {\n",
              "      border-color: transparent;\n",
              "      border-right-color: var(--fill-color);\n",
              "      border-bottom-color: var(--fill-color);\n",
              "    }\n",
              "    90% {\n",
              "      border-color: transparent;\n",
              "      border-bottom-color: var(--fill-color);\n",
              "    }\n",
              "  }\n",
              "</style>\n",
              "\n",
              "  <script>\n",
              "    async function quickchart(key) {\n",
              "      const quickchartButtonEl =\n",
              "        document.querySelector('#' + key + ' button');\n",
              "      quickchartButtonEl.disabled = true;  // To prevent multiple clicks.\n",
              "      quickchartButtonEl.classList.add('colab-df-spinner');\n",
              "      try {\n",
              "        const charts = await google.colab.kernel.invokeFunction(\n",
              "            'suggestCharts', [key], {});\n",
              "      } catch (error) {\n",
              "        console.error('Error during call to suggestCharts:', error);\n",
              "      }\n",
              "      quickchartButtonEl.classList.remove('colab-df-spinner');\n",
              "      quickchartButtonEl.classList.add('colab-df-quickchart-complete');\n",
              "    }\n",
              "    (() => {\n",
              "      let quickchartButtonEl =\n",
              "        document.querySelector('#df-379473d5-4357-4379-9337-a42433fef90a button');\n",
              "      quickchartButtonEl.style.display =\n",
              "        google.colab.kernel.accessAllowed ? 'block' : 'none';\n",
              "    })();\n",
              "  </script>\n",
              "</div>\n",
              "\n",
              "  <div id=\"id_3edd1118-4aba-43e6-a345-7cab1886281a\">\n",
              "    <style>\n",
              "      .colab-df-generate {\n",
              "        background-color: #E8F0FE;\n",
              "        border: none;\n",
              "        border-radius: 50%;\n",
              "        cursor: pointer;\n",
              "        display: none;\n",
              "        fill: #1967D2;\n",
              "        height: 32px;\n",
              "        padding: 0 0 0 0;\n",
              "        width: 32px;\n",
              "      }\n",
              "\n",
              "      .colab-df-generate:hover {\n",
              "        background-color: #E2EBFA;\n",
              "        box-shadow: 0px 1px 2px rgba(60, 64, 67, 0.3), 0px 1px 3px 1px rgba(60, 64, 67, 0.15);\n",
              "        fill: #174EA6;\n",
              "      }\n",
              "\n",
              "      [theme=dark] .colab-df-generate {\n",
              "        background-color: #3B4455;\n",
              "        fill: #D2E3FC;\n",
              "      }\n",
              "\n",
              "      [theme=dark] .colab-df-generate:hover {\n",
              "        background-color: #434B5C;\n",
              "        box-shadow: 0px 1px 3px 1px rgba(0, 0, 0, 0.15);\n",
              "        filter: drop-shadow(0px 1px 2px rgba(0, 0, 0, 0.3));\n",
              "        fill: #FFFFFF;\n",
              "      }\n",
              "    </style>\n",
              "    <button class=\"colab-df-generate\" onclick=\"generateWithVariable('all_results')\"\n",
              "            title=\"Generate code using this dataframe.\"\n",
              "            style=\"display:none;\">\n",
              "\n",
              "  <svg xmlns=\"http://www.w3.org/2000/svg\" height=\"24px\"viewBox=\"0 0 24 24\"\n",
              "       width=\"24px\">\n",
              "    <path d=\"M7,19H8.4L18.45,9,17,7.55,7,17.6ZM5,21V16.75L18.45,3.32a2,2,0,0,1,2.83,0l1.4,1.43a1.91,1.91,0,0,1,.58,1.4,1.91,1.91,0,0,1-.58,1.4L9.25,21ZM18.45,9,17,7.55Zm-12,3A5.31,5.31,0,0,0,4.9,8.1,5.31,5.31,0,0,0,1,6.5,5.31,5.31,0,0,0,4.9,4.9,5.31,5.31,0,0,0,6.5,1,5.31,5.31,0,0,0,8.1,4.9,5.31,5.31,0,0,0,12,6.5,5.46,5.46,0,0,0,6.5,12Z\"/>\n",
              "  </svg>\n",
              "    </button>\n",
              "    <script>\n",
              "      (() => {\n",
              "      const buttonEl =\n",
              "        document.querySelector('#id_3edd1118-4aba-43e6-a345-7cab1886281a button.colab-df-generate');\n",
              "      buttonEl.style.display =\n",
              "        google.colab.kernel.accessAllowed ? 'block' : 'none';\n",
              "\n",
              "      buttonEl.onclick = () => {\n",
              "        google.colab.notebook.generateWithVariable('all_results');\n",
              "      }\n",
              "      })();\n",
              "    </script>\n",
              "  </div>\n",
              "\n",
              "    </div>\n",
              "  </div>\n"
            ],
            "application/vnd.google.colaboratory.intrinsic+json": {
              "type": "dataframe",
              "variable_name": "all_results",
              "summary": "{\n  \"name\": \"all_results\",\n  \"rows\": 3,\n  \"fields\": [\n    {\n      \"column\": \"model\",\n      \"properties\": {\n        \"dtype\": \"string\",\n        \"num_unique_values\": 3,\n        \"samples\": [\n          \"model_1\",\n          \"model_2\",\n          \"model_3\"\n        ],\n        \"semantic_type\": \"\",\n        \"description\": \"\"\n      }\n    },\n    {\n      \"column\": \"mae\",\n      \"properties\": {\n        \"dtype\": \"float32\",\n        \"num_unique_values\": 3,\n        \"samples\": [\n          14.956095695495605,\n          13.23351764678955,\n          68.09502410888672\n        ],\n        \"semantic_type\": \"\",\n        \"description\": \"\"\n      }\n    },\n    {\n      \"column\": \"mse\",\n      \"properties\": {\n        \"dtype\": \"float32\",\n        \"num_unique_values\": 3,\n        \"samples\": [\n          224.52651977539062,\n          185.11227416992188,\n          4721.7421875\n        ],\n        \"semantic_type\": \"\",\n        \"description\": \"\"\n      }\n    }\n  ]\n}"
            }
          },
          "metadata": {},
          "execution_count": 59
        }
      ]
    },
    {
      "cell_type": "markdown",
      "metadata": {
        "id": "8OTx1UNfHVKZ"
      },
      "source": [
        "Looks like `model_2` performed the best..."
      ]
    },
    {
      "cell_type": "code",
      "metadata": {
        "colab": {
          "base_uri": "https://localhost:8080/"
        },
        "id": "XhFEXF1iG665",
        "outputId": "d68536a3-353d-4e2c-9498-ff4138a7b711"
      },
      "source": [
        "model_2.summary()"
      ],
      "execution_count": 60,
      "outputs": [
        {
          "output_type": "stream",
          "name": "stdout",
          "text": [
            "Model: \"sequential_5\"\n",
            "_________________________________________________________________\n",
            " Layer (type)                Output Shape              Param #   \n",
            "=================================================================\n",
            " dense_6 (Dense)             (None, 10)                20        \n",
            "                                                                 \n",
            " dense_7 (Dense)             (None, 1)                 11        \n",
            "                                                                 \n",
            "=================================================================\n",
            "Total params: 31 (124.00 Byte)\n",
            "Trainable params: 31 (124.00 Byte)\n",
            "Non-trainable params: 0 (0.00 Byte)\n",
            "_________________________________________________________________\n"
          ]
        }
      ]
    },
    {
      "cell_type": "markdown",
      "metadata": {
        "id": "Oaa6e-HMHILL"
      },
      "source": [
        "> 🔑 **Note:** One of your main goals should be to minimize the time between your experiments. The more experiments you do, the more things you'll figure out which don't work and in turn, get closer to figuring out what does work. Remember the machine learning practioner's motto: \"experiment, experiment, experiment\".\n",
        "\n"
      ]
    },
    {
      "cell_type": "markdown",
      "metadata": {
        "id": "3DI9I7j3H1-r"
      },
      "source": [
        "## Tracking your experiments\n",
        "\n",
        "One really good habit in machine learning modelling is to track the results of your experiments.\n",
        "\n",
        "And when doing so, it can be tedious if you're running lots of experiments.\n",
        "\n",
        "Luckily, there are tools to help us!\n",
        "\n",
        "📖 **Resource:** As you build more models, you'll want to look into using:\n",
        "\n",
        "* [TensorBoard](https://www.tensorflow.org/tensorboard) - a component of the TensorFlow library to help track modelling experiments (we'll see this one later).\n",
        "* [Weights & Biases](https://www.wandb.com/) - a tool for tracking all of kinds of machine learning experiments (plugs straight into TensorBoard)."
      ]
    },
    {
      "cell_type": "markdown",
      "metadata": {
        "id": "E3fF957RIrwz"
      },
      "source": [
        "## Saving our models\n",
        "\n",
        "Saving our models allows us to use them outside of Google Colab (or wherever they were trained) such as in a web application or a mobile app.\n",
        "\n",
        "There are two main formats we can save our model's too:\n",
        "\n",
        "1. The SavedModel format\n",
        "2. The HDF5 format"
      ]
    },
    {
      "cell_type": "code",
      "metadata": {
        "id": "VFPevKYiIxRl"
      },
      "source": [
        "# Save model using the SavedModel format\n",
        "model_2.save(\"best_model_SavedModel_format\")"
      ],
      "execution_count": 61,
      "outputs": []
    },
    {
      "cell_type": "code",
      "metadata": {
        "id": "7Xg2mFS9s4eA",
        "outputId": "f417b0c4-dee1-48b4-fc37-257d3d75c2b8",
        "colab": {
          "base_uri": "https://localhost:8080/"
        }
      },
      "source": [
        "# Save model using the HDF5 format\n",
        "model_2.save(\"best_model_HDF5_format.h5\")"
      ],
      "execution_count": 62,
      "outputs": [
        {
          "output_type": "stream",
          "name": "stderr",
          "text": [
            "/usr/local/lib/python3.11/dist-packages/tf_keras/src/engine/training.py:3098: UserWarning: You are saving your model as an HDF5 file via `model.save()`. This file format is considered legacy. We recommend using instead the native TF-Keras format, e.g. `model.save('my_model.keras')`.\n",
            "  saving_api.save_model(\n"
          ]
        }
      ]
    },
    {
      "cell_type": "markdown",
      "metadata": {
        "id": "wMTu6_fStqIQ"
      },
      "source": [
        "## Loading in a saved model"
      ]
    },
    {
      "cell_type": "code",
      "metadata": {
        "colab": {
          "base_uri": "https://localhost:8080/"
        },
        "id": "r-mCdNXLuUbV",
        "outputId": "cd2ae3b0-7766-4d2b-cfe7-a360157c0524"
      },
      "source": [
        "# Load in the SavedModel format model\n",
        "loaded_SavedModel_format = keras.models.load_model(\"best_model_SavedModel_format\")\n",
        "loaded_SavedModel_format.summary()"
      ],
      "execution_count": 63,
      "outputs": [
        {
          "output_type": "stream",
          "name": "stdout",
          "text": [
            "Model: \"sequential_5\"\n",
            "_________________________________________________________________\n",
            " Layer (type)                Output Shape              Param #   \n",
            "=================================================================\n",
            " dense_6 (Dense)             (None, 10)                20        \n",
            "                                                                 \n",
            " dense_7 (Dense)             (None, 1)                 11        \n",
            "                                                                 \n",
            "=================================================================\n",
            "Total params: 31 (124.00 Byte)\n",
            "Trainable params: 31 (124.00 Byte)\n",
            "Non-trainable params: 0 (0.00 Byte)\n",
            "_________________________________________________________________\n"
          ]
        }
      ]
    },
    {
      "cell_type": "code",
      "metadata": {
        "colab": {
          "base_uri": "https://localhost:8080/"
        },
        "id": "13H-0FV5utDN",
        "outputId": "46bbc0d7-dff8-4651-d9e5-790cc1935fca"
      },
      "source": [
        "# Compare model_2 predictions with SavedModel format model predictions\n",
        "model_2_preds = model_2.predict(X_test)\n",
        "loaded_SavedModel_format_preds = loaded_SavedModel_format.predict(X_test)\n",
        "model_2_preds == loaded_SavedModel_format_preds"
      ],
      "execution_count": 64,
      "outputs": [
        {
          "output_type": "stream",
          "name": "stdout",
          "text": [
            "1/1 [==============================] - 0s 51ms/step\n",
            "1/1 [==============================] - 0s 93ms/step\n"
          ]
        },
        {
          "output_type": "execute_result",
          "data": {
            "text/plain": [
              "array([[ True],\n",
              "       [ True],\n",
              "       [ True],\n",
              "       [ True],\n",
              "       [ True],\n",
              "       [ True],\n",
              "       [ True],\n",
              "       [ True],\n",
              "       [ True],\n",
              "       [ True]])"
            ]
          },
          "metadata": {},
          "execution_count": 64
        }
      ]
    },
    {
      "cell_type": "code",
      "metadata": {
        "colab": {
          "base_uri": "https://localhost:8080/"
        },
        "id": "XyATYIrLuxrM",
        "outputId": "bfd45bbf-b0e7-4dde-bc5c-21ed3c05a07c"
      },
      "source": [
        "# Compare the MAE of model_2 preds and loaded_SavedModel_preds\n",
        "mae(y_true=y_test, y_pred=model_2_preds) == mae(y_true=y_test, y_pred=loaded_SavedModel_format_preds)"
      ],
      "execution_count": 65,
      "outputs": [
        {
          "output_type": "execute_result",
          "data": {
            "text/plain": [
              "<tf.Tensor: shape=(), dtype=bool, numpy=True>"
            ]
          },
          "metadata": {},
          "execution_count": 65
        }
      ]
    },
    {
      "cell_type": "code",
      "metadata": {
        "colab": {
          "base_uri": "https://localhost:8080/"
        },
        "id": "KYRN_QQ1v36P",
        "outputId": "26b0bf0a-6395-4df8-8d55-1ef472a5dd06"
      },
      "source": [
        "# Load in a model using the .h5 format\n",
        "loaded_h5_model = keras.models.load_model(\"/content/best_model_HDF5_format.h5\")\n",
        "loaded_h5_model.summary()"
      ],
      "execution_count": 66,
      "outputs": [
        {
          "output_type": "stream",
          "name": "stdout",
          "text": [
            "Model: \"sequential_5\"\n",
            "_________________________________________________________________\n",
            " Layer (type)                Output Shape              Param #   \n",
            "=================================================================\n",
            " dense_6 (Dense)             (None, 10)                20        \n",
            "                                                                 \n",
            " dense_7 (Dense)             (None, 1)                 11        \n",
            "                                                                 \n",
            "=================================================================\n",
            "Total params: 31 (124.00 Byte)\n",
            "Trainable params: 31 (124.00 Byte)\n",
            "Non-trainable params: 0 (0.00 Byte)\n",
            "_________________________________________________________________\n"
          ]
        }
      ]
    },
    {
      "cell_type": "code",
      "metadata": {
        "colab": {
          "base_uri": "https://localhost:8080/"
        },
        "id": "9tAE0IE7wHWz",
        "outputId": "5d6a3346-d076-4ccf-c52a-5023a2449795"
      },
      "source": [
        "# Check to see if loaded .h5 model predictions match model_2\n",
        "model_2_preds = model_2.predict(X_test)\n",
        "loaded_h5_model_preds = loaded_h5_model.predict(X_test)\n",
        "model_2_preds == loaded_h5_model_preds"
      ],
      "execution_count": 67,
      "outputs": [
        {
          "output_type": "stream",
          "name": "stdout",
          "text": [
            "1/1 [==============================] - 0s 59ms/step\n",
            "1/1 [==============================] - 0s 125ms/step\n"
          ]
        },
        {
          "output_type": "execute_result",
          "data": {
            "text/plain": [
              "array([[ True],\n",
              "       [ True],\n",
              "       [ True],\n",
              "       [ True],\n",
              "       [ True],\n",
              "       [ True],\n",
              "       [ True],\n",
              "       [ True],\n",
              "       [ True],\n",
              "       [ True]])"
            ]
          },
          "metadata": {},
          "execution_count": 67
        }
      ]
    },
    {
      "cell_type": "markdown",
      "metadata": {
        "id": "YUFnorbpwon_"
      },
      "source": [
        "## Download a model (or any other file) from Google Colab\n",
        "\n",
        "If you want to download your files from Google Colab:\n",
        "\n",
        "1. You can go to the \"files\" tab and right click on the file you're after and click \"download\".\n",
        "2. Use code (see the cell below).\n",
        "3. Save it to Google Drive by connecting Google Drive and copying it there (see 2nd code cell below)."
      ]
    },
    {
      "cell_type": "code",
      "metadata": {
        "colab": {
          "base_uri": "https://localhost:8080/",
          "height": 17
        },
        "id": "MrfvCrjgxSg2",
        "outputId": "c7eca7e4-5332-4f5f-bcd4-ed27b48a6093"
      },
      "source": [
        "# Download a file from Google Colab\n",
        "from google.colab import files\n",
        "files.download(\"/content/best_model_HDF5_format.h5\")"
      ],
      "execution_count": 68,
      "outputs": [
        {
          "output_type": "display_data",
          "data": {
            "text/plain": [
              "<IPython.core.display.Javascript object>"
            ],
            "application/javascript": [
              "\n",
              "    async function download(id, filename, size) {\n",
              "      if (!google.colab.kernel.accessAllowed) {\n",
              "        return;\n",
              "      }\n",
              "      const div = document.createElement('div');\n",
              "      const label = document.createElement('label');\n",
              "      label.textContent = `Downloading \"${filename}\": `;\n",
              "      div.appendChild(label);\n",
              "      const progress = document.createElement('progress');\n",
              "      progress.max = size;\n",
              "      div.appendChild(progress);\n",
              "      document.body.appendChild(div);\n",
              "\n",
              "      const buffers = [];\n",
              "      let downloaded = 0;\n",
              "\n",
              "      const channel = await google.colab.kernel.comms.open(id);\n",
              "      // Send a message to notify the kernel that we're ready.\n",
              "      channel.send({})\n",
              "\n",
              "      for await (const message of channel.messages) {\n",
              "        // Send a message to notify the kernel that we're ready.\n",
              "        channel.send({})\n",
              "        if (message.buffers) {\n",
              "          for (const buffer of message.buffers) {\n",
              "            buffers.push(buffer);\n",
              "            downloaded += buffer.byteLength;\n",
              "            progress.value = downloaded;\n",
              "          }\n",
              "        }\n",
              "      }\n",
              "      const blob = new Blob(buffers, {type: 'application/binary'});\n",
              "      const a = document.createElement('a');\n",
              "      a.href = window.URL.createObjectURL(blob);\n",
              "      a.download = filename;\n",
              "      div.appendChild(a);\n",
              "      a.click();\n",
              "      div.remove();\n",
              "    }\n",
              "  "
            ]
          },
          "metadata": {}
        },
        {
          "output_type": "display_data",
          "data": {
            "text/plain": [
              "<IPython.core.display.Javascript object>"
            ],
            "application/javascript": [
              "download(\"download_8b0b9d22-e307-4287-a447-9210adf90011\", \"best_model_HDF5_format.h5\", 21952)"
            ]
          },
          "metadata": {}
        }
      ]
    },
    {
      "cell_type": "code",
      "metadata": {
        "id": "9eQEQSJ8xypc",
        "outputId": "2b12461a-178c-4d07-c5aa-05ddac516a38",
        "colab": {
          "base_uri": "https://localhost:8080/"
        }
      },
      "source": [
        "# Save a file from Google Colab to Google Drive (requires mounting Google Drive)\n",
        "!cp /content/best_model_HDF5_format.h5 /content/drive/MyDrive/tensorflow_course"
      ],
      "execution_count": 69,
      "outputs": [
        {
          "output_type": "stream",
          "name": "stdout",
          "text": [
            "cp: cannot create regular file '/content/drive/MyDrive/tensorflow_course': No such file or directory\n"
          ]
        }
      ]
    },
    {
      "cell_type": "code",
      "metadata": {
        "colab": {
          "base_uri": "https://localhost:8080/"
        },
        "id": "0ODwgyDRyaBh",
        "outputId": "da76756d-87f8-4f08-a632-013317622621"
      },
      "source": [
        "!ls /content/drive/MyDrive/tensorflow_course"
      ],
      "execution_count": 70,
      "outputs": [
        {
          "output_type": "stream",
          "name": "stdout",
          "text": [
            "ls: cannot access '/content/drive/MyDrive/tensorflow_course': No such file or directory\n"
          ]
        }
      ]
    },
    {
      "cell_type": "markdown",
      "metadata": {
        "id": "e-Yv-2Bhymy6"
      },
      "source": [
        "## A larger example"
      ]
    },
    {
      "cell_type": "code",
      "metadata": {
        "id": "6vZ8AIbD1XpM"
      },
      "source": [
        "# Import required libraries\n",
        "import tensorflow as tf\n",
        "import pandas as pd\n",
        "import matplotlib.pyplot as plt"
      ],
      "execution_count": 71,
      "outputs": []
    },
    {
      "cell_type": "code",
      "metadata": {
        "colab": {
          "base_uri": "https://localhost:8080/",
          "height": 423
        },
        "id": "uPQmsO6Y2Exv",
        "outputId": "a3cd9716-790b-4f75-8c3f-dc644b40105f"
      },
      "source": [
        "# Read in the insurance dataset\n",
        "insurance = pd.read_csv(\"https://raw.githubusercontent.com/stedy/Machine-Learning-with-R-datasets/master/insurance.csv\")\n",
        "insurance"
      ],
      "execution_count": 72,
      "outputs": [
        {
          "output_type": "execute_result",
          "data": {
            "text/plain": [
              "      age     sex     bmi  children smoker     region      charges\n",
              "0      19  female  27.900         0    yes  southwest  16884.92400\n",
              "1      18    male  33.770         1     no  southeast   1725.55230\n",
              "2      28    male  33.000         3     no  southeast   4449.46200\n",
              "3      33    male  22.705         0     no  northwest  21984.47061\n",
              "4      32    male  28.880         0     no  northwest   3866.85520\n",
              "...   ...     ...     ...       ...    ...        ...          ...\n",
              "1333   50    male  30.970         3     no  northwest  10600.54830\n",
              "1334   18  female  31.920         0     no  northeast   2205.98080\n",
              "1335   18  female  36.850         0     no  southeast   1629.83350\n",
              "1336   21  female  25.800         0     no  southwest   2007.94500\n",
              "1337   61  female  29.070         0    yes  northwest  29141.36030\n",
              "\n",
              "[1338 rows x 7 columns]"
            ],
            "text/html": [
              "\n",
              "  <div id=\"df-16201b27-fb91-406b-b7c4-731bb5944b40\" class=\"colab-df-container\">\n",
              "    <div>\n",
              "<style scoped>\n",
              "    .dataframe tbody tr th:only-of-type {\n",
              "        vertical-align: middle;\n",
              "    }\n",
              "\n",
              "    .dataframe tbody tr th {\n",
              "        vertical-align: top;\n",
              "    }\n",
              "\n",
              "    .dataframe thead th {\n",
              "        text-align: right;\n",
              "    }\n",
              "</style>\n",
              "<table border=\"1\" class=\"dataframe\">\n",
              "  <thead>\n",
              "    <tr style=\"text-align: right;\">\n",
              "      <th></th>\n",
              "      <th>age</th>\n",
              "      <th>sex</th>\n",
              "      <th>bmi</th>\n",
              "      <th>children</th>\n",
              "      <th>smoker</th>\n",
              "      <th>region</th>\n",
              "      <th>charges</th>\n",
              "    </tr>\n",
              "  </thead>\n",
              "  <tbody>\n",
              "    <tr>\n",
              "      <th>0</th>\n",
              "      <td>19</td>\n",
              "      <td>female</td>\n",
              "      <td>27.900</td>\n",
              "      <td>0</td>\n",
              "      <td>yes</td>\n",
              "      <td>southwest</td>\n",
              "      <td>16884.92400</td>\n",
              "    </tr>\n",
              "    <tr>\n",
              "      <th>1</th>\n",
              "      <td>18</td>\n",
              "      <td>male</td>\n",
              "      <td>33.770</td>\n",
              "      <td>1</td>\n",
              "      <td>no</td>\n",
              "      <td>southeast</td>\n",
              "      <td>1725.55230</td>\n",
              "    </tr>\n",
              "    <tr>\n",
              "      <th>2</th>\n",
              "      <td>28</td>\n",
              "      <td>male</td>\n",
              "      <td>33.000</td>\n",
              "      <td>3</td>\n",
              "      <td>no</td>\n",
              "      <td>southeast</td>\n",
              "      <td>4449.46200</td>\n",
              "    </tr>\n",
              "    <tr>\n",
              "      <th>3</th>\n",
              "      <td>33</td>\n",
              "      <td>male</td>\n",
              "      <td>22.705</td>\n",
              "      <td>0</td>\n",
              "      <td>no</td>\n",
              "      <td>northwest</td>\n",
              "      <td>21984.47061</td>\n",
              "    </tr>\n",
              "    <tr>\n",
              "      <th>4</th>\n",
              "      <td>32</td>\n",
              "      <td>male</td>\n",
              "      <td>28.880</td>\n",
              "      <td>0</td>\n",
              "      <td>no</td>\n",
              "      <td>northwest</td>\n",
              "      <td>3866.85520</td>\n",
              "    </tr>\n",
              "    <tr>\n",
              "      <th>...</th>\n",
              "      <td>...</td>\n",
              "      <td>...</td>\n",
              "      <td>...</td>\n",
              "      <td>...</td>\n",
              "      <td>...</td>\n",
              "      <td>...</td>\n",
              "      <td>...</td>\n",
              "    </tr>\n",
              "    <tr>\n",
              "      <th>1333</th>\n",
              "      <td>50</td>\n",
              "      <td>male</td>\n",
              "      <td>30.970</td>\n",
              "      <td>3</td>\n",
              "      <td>no</td>\n",
              "      <td>northwest</td>\n",
              "      <td>10600.54830</td>\n",
              "    </tr>\n",
              "    <tr>\n",
              "      <th>1334</th>\n",
              "      <td>18</td>\n",
              "      <td>female</td>\n",
              "      <td>31.920</td>\n",
              "      <td>0</td>\n",
              "      <td>no</td>\n",
              "      <td>northeast</td>\n",
              "      <td>2205.98080</td>\n",
              "    </tr>\n",
              "    <tr>\n",
              "      <th>1335</th>\n",
              "      <td>18</td>\n",
              "      <td>female</td>\n",
              "      <td>36.850</td>\n",
              "      <td>0</td>\n",
              "      <td>no</td>\n",
              "      <td>southeast</td>\n",
              "      <td>1629.83350</td>\n",
              "    </tr>\n",
              "    <tr>\n",
              "      <th>1336</th>\n",
              "      <td>21</td>\n",
              "      <td>female</td>\n",
              "      <td>25.800</td>\n",
              "      <td>0</td>\n",
              "      <td>no</td>\n",
              "      <td>southwest</td>\n",
              "      <td>2007.94500</td>\n",
              "    </tr>\n",
              "    <tr>\n",
              "      <th>1337</th>\n",
              "      <td>61</td>\n",
              "      <td>female</td>\n",
              "      <td>29.070</td>\n",
              "      <td>0</td>\n",
              "      <td>yes</td>\n",
              "      <td>northwest</td>\n",
              "      <td>29141.36030</td>\n",
              "    </tr>\n",
              "  </tbody>\n",
              "</table>\n",
              "<p>1338 rows × 7 columns</p>\n",
              "</div>\n",
              "    <div class=\"colab-df-buttons\">\n",
              "\n",
              "  <div class=\"colab-df-container\">\n",
              "    <button class=\"colab-df-convert\" onclick=\"convertToInteractive('df-16201b27-fb91-406b-b7c4-731bb5944b40')\"\n",
              "            title=\"Convert this dataframe to an interactive table.\"\n",
              "            style=\"display:none;\">\n",
              "\n",
              "  <svg xmlns=\"http://www.w3.org/2000/svg\" height=\"24px\" viewBox=\"0 -960 960 960\">\n",
              "    <path d=\"M120-120v-720h720v720H120Zm60-500h600v-160H180v160Zm220 220h160v-160H400v160Zm0 220h160v-160H400v160ZM180-400h160v-160H180v160Zm440 0h160v-160H620v160ZM180-180h160v-160H180v160Zm440 0h160v-160H620v160Z\"/>\n",
              "  </svg>\n",
              "    </button>\n",
              "\n",
              "  <style>\n",
              "    .colab-df-container {\n",
              "      display:flex;\n",
              "      gap: 12px;\n",
              "    }\n",
              "\n",
              "    .colab-df-convert {\n",
              "      background-color: #E8F0FE;\n",
              "      border: none;\n",
              "      border-radius: 50%;\n",
              "      cursor: pointer;\n",
              "      display: none;\n",
              "      fill: #1967D2;\n",
              "      height: 32px;\n",
              "      padding: 0 0 0 0;\n",
              "      width: 32px;\n",
              "    }\n",
              "\n",
              "    .colab-df-convert:hover {\n",
              "      background-color: #E2EBFA;\n",
              "      box-shadow: 0px 1px 2px rgba(60, 64, 67, 0.3), 0px 1px 3px 1px rgba(60, 64, 67, 0.15);\n",
              "      fill: #174EA6;\n",
              "    }\n",
              "\n",
              "    .colab-df-buttons div {\n",
              "      margin-bottom: 4px;\n",
              "    }\n",
              "\n",
              "    [theme=dark] .colab-df-convert {\n",
              "      background-color: #3B4455;\n",
              "      fill: #D2E3FC;\n",
              "    }\n",
              "\n",
              "    [theme=dark] .colab-df-convert:hover {\n",
              "      background-color: #434B5C;\n",
              "      box-shadow: 0px 1px 3px 1px rgba(0, 0, 0, 0.15);\n",
              "      filter: drop-shadow(0px 1px 2px rgba(0, 0, 0, 0.3));\n",
              "      fill: #FFFFFF;\n",
              "    }\n",
              "  </style>\n",
              "\n",
              "    <script>\n",
              "      const buttonEl =\n",
              "        document.querySelector('#df-16201b27-fb91-406b-b7c4-731bb5944b40 button.colab-df-convert');\n",
              "      buttonEl.style.display =\n",
              "        google.colab.kernel.accessAllowed ? 'block' : 'none';\n",
              "\n",
              "      async function convertToInteractive(key) {\n",
              "        const element = document.querySelector('#df-16201b27-fb91-406b-b7c4-731bb5944b40');\n",
              "        const dataTable =\n",
              "          await google.colab.kernel.invokeFunction('convertToInteractive',\n",
              "                                                    [key], {});\n",
              "        if (!dataTable) return;\n",
              "\n",
              "        const docLinkHtml = 'Like what you see? Visit the ' +\n",
              "          '<a target=\"_blank\" href=https://colab.research.google.com/notebooks/data_table.ipynb>data table notebook</a>'\n",
              "          + ' to learn more about interactive tables.';\n",
              "        element.innerHTML = '';\n",
              "        dataTable['output_type'] = 'display_data';\n",
              "        await google.colab.output.renderOutput(dataTable, element);\n",
              "        const docLink = document.createElement('div');\n",
              "        docLink.innerHTML = docLinkHtml;\n",
              "        element.appendChild(docLink);\n",
              "      }\n",
              "    </script>\n",
              "  </div>\n",
              "\n",
              "\n",
              "<div id=\"df-0067dfbf-52a6-445c-b99e-2310163a2511\">\n",
              "  <button class=\"colab-df-quickchart\" onclick=\"quickchart('df-0067dfbf-52a6-445c-b99e-2310163a2511')\"\n",
              "            title=\"Suggest charts\"\n",
              "            style=\"display:none;\">\n",
              "\n",
              "<svg xmlns=\"http://www.w3.org/2000/svg\" height=\"24px\"viewBox=\"0 0 24 24\"\n",
              "     width=\"24px\">\n",
              "    <g>\n",
              "        <path d=\"M19 3H5c-1.1 0-2 .9-2 2v14c0 1.1.9 2 2 2h14c1.1 0 2-.9 2-2V5c0-1.1-.9-2-2-2zM9 17H7v-7h2v7zm4 0h-2V7h2v10zm4 0h-2v-4h2v4z\"/>\n",
              "    </g>\n",
              "</svg>\n",
              "  </button>\n",
              "\n",
              "<style>\n",
              "  .colab-df-quickchart {\n",
              "      --bg-color: #E8F0FE;\n",
              "      --fill-color: #1967D2;\n",
              "      --hover-bg-color: #E2EBFA;\n",
              "      --hover-fill-color: #174EA6;\n",
              "      --disabled-fill-color: #AAA;\n",
              "      --disabled-bg-color: #DDD;\n",
              "  }\n",
              "\n",
              "  [theme=dark] .colab-df-quickchart {\n",
              "      --bg-color: #3B4455;\n",
              "      --fill-color: #D2E3FC;\n",
              "      --hover-bg-color: #434B5C;\n",
              "      --hover-fill-color: #FFFFFF;\n",
              "      --disabled-bg-color: #3B4455;\n",
              "      --disabled-fill-color: #666;\n",
              "  }\n",
              "\n",
              "  .colab-df-quickchart {\n",
              "    background-color: var(--bg-color);\n",
              "    border: none;\n",
              "    border-radius: 50%;\n",
              "    cursor: pointer;\n",
              "    display: none;\n",
              "    fill: var(--fill-color);\n",
              "    height: 32px;\n",
              "    padding: 0;\n",
              "    width: 32px;\n",
              "  }\n",
              "\n",
              "  .colab-df-quickchart:hover {\n",
              "    background-color: var(--hover-bg-color);\n",
              "    box-shadow: 0 1px 2px rgba(60, 64, 67, 0.3), 0 1px 3px 1px rgba(60, 64, 67, 0.15);\n",
              "    fill: var(--button-hover-fill-color);\n",
              "  }\n",
              "\n",
              "  .colab-df-quickchart-complete:disabled,\n",
              "  .colab-df-quickchart-complete:disabled:hover {\n",
              "    background-color: var(--disabled-bg-color);\n",
              "    fill: var(--disabled-fill-color);\n",
              "    box-shadow: none;\n",
              "  }\n",
              "\n",
              "  .colab-df-spinner {\n",
              "    border: 2px solid var(--fill-color);\n",
              "    border-color: transparent;\n",
              "    border-bottom-color: var(--fill-color);\n",
              "    animation:\n",
              "      spin 1s steps(1) infinite;\n",
              "  }\n",
              "\n",
              "  @keyframes spin {\n",
              "    0% {\n",
              "      border-color: transparent;\n",
              "      border-bottom-color: var(--fill-color);\n",
              "      border-left-color: var(--fill-color);\n",
              "    }\n",
              "    20% {\n",
              "      border-color: transparent;\n",
              "      border-left-color: var(--fill-color);\n",
              "      border-top-color: var(--fill-color);\n",
              "    }\n",
              "    30% {\n",
              "      border-color: transparent;\n",
              "      border-left-color: var(--fill-color);\n",
              "      border-top-color: var(--fill-color);\n",
              "      border-right-color: var(--fill-color);\n",
              "    }\n",
              "    40% {\n",
              "      border-color: transparent;\n",
              "      border-right-color: var(--fill-color);\n",
              "      border-top-color: var(--fill-color);\n",
              "    }\n",
              "    60% {\n",
              "      border-color: transparent;\n",
              "      border-right-color: var(--fill-color);\n",
              "    }\n",
              "    80% {\n",
              "      border-color: transparent;\n",
              "      border-right-color: var(--fill-color);\n",
              "      border-bottom-color: var(--fill-color);\n",
              "    }\n",
              "    90% {\n",
              "      border-color: transparent;\n",
              "      border-bottom-color: var(--fill-color);\n",
              "    }\n",
              "  }\n",
              "</style>\n",
              "\n",
              "  <script>\n",
              "    async function quickchart(key) {\n",
              "      const quickchartButtonEl =\n",
              "        document.querySelector('#' + key + ' button');\n",
              "      quickchartButtonEl.disabled = true;  // To prevent multiple clicks.\n",
              "      quickchartButtonEl.classList.add('colab-df-spinner');\n",
              "      try {\n",
              "        const charts = await google.colab.kernel.invokeFunction(\n",
              "            'suggestCharts', [key], {});\n",
              "      } catch (error) {\n",
              "        console.error('Error during call to suggestCharts:', error);\n",
              "      }\n",
              "      quickchartButtonEl.classList.remove('colab-df-spinner');\n",
              "      quickchartButtonEl.classList.add('colab-df-quickchart-complete');\n",
              "    }\n",
              "    (() => {\n",
              "      let quickchartButtonEl =\n",
              "        document.querySelector('#df-0067dfbf-52a6-445c-b99e-2310163a2511 button');\n",
              "      quickchartButtonEl.style.display =\n",
              "        google.colab.kernel.accessAllowed ? 'block' : 'none';\n",
              "    })();\n",
              "  </script>\n",
              "</div>\n",
              "\n",
              "  <div id=\"id_be584606-0e63-40bb-a266-574eb90c56c4\">\n",
              "    <style>\n",
              "      .colab-df-generate {\n",
              "        background-color: #E8F0FE;\n",
              "        border: none;\n",
              "        border-radius: 50%;\n",
              "        cursor: pointer;\n",
              "        display: none;\n",
              "        fill: #1967D2;\n",
              "        height: 32px;\n",
              "        padding: 0 0 0 0;\n",
              "        width: 32px;\n",
              "      }\n",
              "\n",
              "      .colab-df-generate:hover {\n",
              "        background-color: #E2EBFA;\n",
              "        box-shadow: 0px 1px 2px rgba(60, 64, 67, 0.3), 0px 1px 3px 1px rgba(60, 64, 67, 0.15);\n",
              "        fill: #174EA6;\n",
              "      }\n",
              "\n",
              "      [theme=dark] .colab-df-generate {\n",
              "        background-color: #3B4455;\n",
              "        fill: #D2E3FC;\n",
              "      }\n",
              "\n",
              "      [theme=dark] .colab-df-generate:hover {\n",
              "        background-color: #434B5C;\n",
              "        box-shadow: 0px 1px 3px 1px rgba(0, 0, 0, 0.15);\n",
              "        filter: drop-shadow(0px 1px 2px rgba(0, 0, 0, 0.3));\n",
              "        fill: #FFFFFF;\n",
              "      }\n",
              "    </style>\n",
              "    <button class=\"colab-df-generate\" onclick=\"generateWithVariable('insurance')\"\n",
              "            title=\"Generate code using this dataframe.\"\n",
              "            style=\"display:none;\">\n",
              "\n",
              "  <svg xmlns=\"http://www.w3.org/2000/svg\" height=\"24px\"viewBox=\"0 0 24 24\"\n",
              "       width=\"24px\">\n",
              "    <path d=\"M7,19H8.4L18.45,9,17,7.55,7,17.6ZM5,21V16.75L18.45,3.32a2,2,0,0,1,2.83,0l1.4,1.43a1.91,1.91,0,0,1,.58,1.4,1.91,1.91,0,0,1-.58,1.4L9.25,21ZM18.45,9,17,7.55Zm-12,3A5.31,5.31,0,0,0,4.9,8.1,5.31,5.31,0,0,0,1,6.5,5.31,5.31,0,0,0,4.9,4.9,5.31,5.31,0,0,0,6.5,1,5.31,5.31,0,0,0,8.1,4.9,5.31,5.31,0,0,0,12,6.5,5.46,5.46,0,0,0,6.5,12Z\"/>\n",
              "  </svg>\n",
              "    </button>\n",
              "    <script>\n",
              "      (() => {\n",
              "      const buttonEl =\n",
              "        document.querySelector('#id_be584606-0e63-40bb-a266-574eb90c56c4 button.colab-df-generate');\n",
              "      buttonEl.style.display =\n",
              "        google.colab.kernel.accessAllowed ? 'block' : 'none';\n",
              "\n",
              "      buttonEl.onclick = () => {\n",
              "        google.colab.notebook.generateWithVariable('insurance');\n",
              "      }\n",
              "      })();\n",
              "    </script>\n",
              "  </div>\n",
              "\n",
              "    </div>\n",
              "  </div>\n"
            ],
            "application/vnd.google.colaboratory.intrinsic+json": {
              "type": "dataframe",
              "variable_name": "insurance",
              "summary": "{\n  \"name\": \"insurance\",\n  \"rows\": 1338,\n  \"fields\": [\n    {\n      \"column\": \"age\",\n      \"properties\": {\n        \"dtype\": \"number\",\n        \"std\": 14,\n        \"min\": 18,\n        \"max\": 64,\n        \"num_unique_values\": 47,\n        \"samples\": [\n          21,\n          45,\n          36\n        ],\n        \"semantic_type\": \"\",\n        \"description\": \"\"\n      }\n    },\n    {\n      \"column\": \"sex\",\n      \"properties\": {\n        \"dtype\": \"category\",\n        \"num_unique_values\": 2,\n        \"samples\": [\n          \"male\",\n          \"female\"\n        ],\n        \"semantic_type\": \"\",\n        \"description\": \"\"\n      }\n    },\n    {\n      \"column\": \"bmi\",\n      \"properties\": {\n        \"dtype\": \"number\",\n        \"std\": 6.098186911679017,\n        \"min\": 15.96,\n        \"max\": 53.13,\n        \"num_unique_values\": 548,\n        \"samples\": [\n          23.18,\n          26.885\n        ],\n        \"semantic_type\": \"\",\n        \"description\": \"\"\n      }\n    },\n    {\n      \"column\": \"children\",\n      \"properties\": {\n        \"dtype\": \"number\",\n        \"std\": 1,\n        \"min\": 0,\n        \"max\": 5,\n        \"num_unique_values\": 6,\n        \"samples\": [\n          0,\n          1\n        ],\n        \"semantic_type\": \"\",\n        \"description\": \"\"\n      }\n    },\n    {\n      \"column\": \"smoker\",\n      \"properties\": {\n        \"dtype\": \"category\",\n        \"num_unique_values\": 2,\n        \"samples\": [\n          \"no\",\n          \"yes\"\n        ],\n        \"semantic_type\": \"\",\n        \"description\": \"\"\n      }\n    },\n    {\n      \"column\": \"region\",\n      \"properties\": {\n        \"dtype\": \"category\",\n        \"num_unique_values\": 4,\n        \"samples\": [\n          \"southeast\",\n          \"northeast\"\n        ],\n        \"semantic_type\": \"\",\n        \"description\": \"\"\n      }\n    },\n    {\n      \"column\": \"charges\",\n      \"properties\": {\n        \"dtype\": \"number\",\n        \"std\": 12110.011236693994,\n        \"min\": 1121.8739,\n        \"max\": 63770.42801,\n        \"num_unique_values\": 1337,\n        \"samples\": [\n          8688.85885,\n          5708.867\n        ],\n        \"semantic_type\": \"\",\n        \"description\": \"\"\n      }\n    }\n  ]\n}"
            }
          },
          "metadata": {},
          "execution_count": 72
        }
      ]
    },
    {
      "cell_type": "code",
      "metadata": {
        "colab": {
          "base_uri": "https://localhost:8080/",
          "height": 206
        },
        "id": "robZtd8l2y19",
        "outputId": "db0e6d17-2e83-4692-892d-75616d20e240"
      },
      "source": [
        "# Let's try one-hot encode our DataFrame so it's all numbers\n",
        "insurance_one_hot = pd.get_dummies(insurance, dtype = int)\n",
        "insurance_one_hot.head()"
      ],
      "execution_count": 73,
      "outputs": [
        {
          "output_type": "execute_result",
          "data": {
            "text/plain": [
              "   age     bmi  children      charges  sex_female  sex_male  smoker_no  \\\n",
              "0   19  27.900         0  16884.92400           1         0          0   \n",
              "1   18  33.770         1   1725.55230           0         1          1   \n",
              "2   28  33.000         3   4449.46200           0         1          1   \n",
              "3   33  22.705         0  21984.47061           0         1          1   \n",
              "4   32  28.880         0   3866.85520           0         1          1   \n",
              "\n",
              "   smoker_yes  region_northeast  region_northwest  region_southeast  \\\n",
              "0           1                 0                 0                 0   \n",
              "1           0                 0                 0                 1   \n",
              "2           0                 0                 0                 1   \n",
              "3           0                 0                 1                 0   \n",
              "4           0                 0                 1                 0   \n",
              "\n",
              "   region_southwest  \n",
              "0                 1  \n",
              "1                 0  \n",
              "2                 0  \n",
              "3                 0  \n",
              "4                 0  "
            ],
            "text/html": [
              "\n",
              "  <div id=\"df-b3dec08e-4aee-4536-b0c7-1f7c8c0cb0fa\" class=\"colab-df-container\">\n",
              "    <div>\n",
              "<style scoped>\n",
              "    .dataframe tbody tr th:only-of-type {\n",
              "        vertical-align: middle;\n",
              "    }\n",
              "\n",
              "    .dataframe tbody tr th {\n",
              "        vertical-align: top;\n",
              "    }\n",
              "\n",
              "    .dataframe thead th {\n",
              "        text-align: right;\n",
              "    }\n",
              "</style>\n",
              "<table border=\"1\" class=\"dataframe\">\n",
              "  <thead>\n",
              "    <tr style=\"text-align: right;\">\n",
              "      <th></th>\n",
              "      <th>age</th>\n",
              "      <th>bmi</th>\n",
              "      <th>children</th>\n",
              "      <th>charges</th>\n",
              "      <th>sex_female</th>\n",
              "      <th>sex_male</th>\n",
              "      <th>smoker_no</th>\n",
              "      <th>smoker_yes</th>\n",
              "      <th>region_northeast</th>\n",
              "      <th>region_northwest</th>\n",
              "      <th>region_southeast</th>\n",
              "      <th>region_southwest</th>\n",
              "    </tr>\n",
              "  </thead>\n",
              "  <tbody>\n",
              "    <tr>\n",
              "      <th>0</th>\n",
              "      <td>19</td>\n",
              "      <td>27.900</td>\n",
              "      <td>0</td>\n",
              "      <td>16884.92400</td>\n",
              "      <td>1</td>\n",
              "      <td>0</td>\n",
              "      <td>0</td>\n",
              "      <td>1</td>\n",
              "      <td>0</td>\n",
              "      <td>0</td>\n",
              "      <td>0</td>\n",
              "      <td>1</td>\n",
              "    </tr>\n",
              "    <tr>\n",
              "      <th>1</th>\n",
              "      <td>18</td>\n",
              "      <td>33.770</td>\n",
              "      <td>1</td>\n",
              "      <td>1725.55230</td>\n",
              "      <td>0</td>\n",
              "      <td>1</td>\n",
              "      <td>1</td>\n",
              "      <td>0</td>\n",
              "      <td>0</td>\n",
              "      <td>0</td>\n",
              "      <td>1</td>\n",
              "      <td>0</td>\n",
              "    </tr>\n",
              "    <tr>\n",
              "      <th>2</th>\n",
              "      <td>28</td>\n",
              "      <td>33.000</td>\n",
              "      <td>3</td>\n",
              "      <td>4449.46200</td>\n",
              "      <td>0</td>\n",
              "      <td>1</td>\n",
              "      <td>1</td>\n",
              "      <td>0</td>\n",
              "      <td>0</td>\n",
              "      <td>0</td>\n",
              "      <td>1</td>\n",
              "      <td>0</td>\n",
              "    </tr>\n",
              "    <tr>\n",
              "      <th>3</th>\n",
              "      <td>33</td>\n",
              "      <td>22.705</td>\n",
              "      <td>0</td>\n",
              "      <td>21984.47061</td>\n",
              "      <td>0</td>\n",
              "      <td>1</td>\n",
              "      <td>1</td>\n",
              "      <td>0</td>\n",
              "      <td>0</td>\n",
              "      <td>1</td>\n",
              "      <td>0</td>\n",
              "      <td>0</td>\n",
              "    </tr>\n",
              "    <tr>\n",
              "      <th>4</th>\n",
              "      <td>32</td>\n",
              "      <td>28.880</td>\n",
              "      <td>0</td>\n",
              "      <td>3866.85520</td>\n",
              "      <td>0</td>\n",
              "      <td>1</td>\n",
              "      <td>1</td>\n",
              "      <td>0</td>\n",
              "      <td>0</td>\n",
              "      <td>1</td>\n",
              "      <td>0</td>\n",
              "      <td>0</td>\n",
              "    </tr>\n",
              "  </tbody>\n",
              "</table>\n",
              "</div>\n",
              "    <div class=\"colab-df-buttons\">\n",
              "\n",
              "  <div class=\"colab-df-container\">\n",
              "    <button class=\"colab-df-convert\" onclick=\"convertToInteractive('df-b3dec08e-4aee-4536-b0c7-1f7c8c0cb0fa')\"\n",
              "            title=\"Convert this dataframe to an interactive table.\"\n",
              "            style=\"display:none;\">\n",
              "\n",
              "  <svg xmlns=\"http://www.w3.org/2000/svg\" height=\"24px\" viewBox=\"0 -960 960 960\">\n",
              "    <path d=\"M120-120v-720h720v720H120Zm60-500h600v-160H180v160Zm220 220h160v-160H400v160Zm0 220h160v-160H400v160ZM180-400h160v-160H180v160Zm440 0h160v-160H620v160ZM180-180h160v-160H180v160Zm440 0h160v-160H620v160Z\"/>\n",
              "  </svg>\n",
              "    </button>\n",
              "\n",
              "  <style>\n",
              "    .colab-df-container {\n",
              "      display:flex;\n",
              "      gap: 12px;\n",
              "    }\n",
              "\n",
              "    .colab-df-convert {\n",
              "      background-color: #E8F0FE;\n",
              "      border: none;\n",
              "      border-radius: 50%;\n",
              "      cursor: pointer;\n",
              "      display: none;\n",
              "      fill: #1967D2;\n",
              "      height: 32px;\n",
              "      padding: 0 0 0 0;\n",
              "      width: 32px;\n",
              "    }\n",
              "\n",
              "    .colab-df-convert:hover {\n",
              "      background-color: #E2EBFA;\n",
              "      box-shadow: 0px 1px 2px rgba(60, 64, 67, 0.3), 0px 1px 3px 1px rgba(60, 64, 67, 0.15);\n",
              "      fill: #174EA6;\n",
              "    }\n",
              "\n",
              "    .colab-df-buttons div {\n",
              "      margin-bottom: 4px;\n",
              "    }\n",
              "\n",
              "    [theme=dark] .colab-df-convert {\n",
              "      background-color: #3B4455;\n",
              "      fill: #D2E3FC;\n",
              "    }\n",
              "\n",
              "    [theme=dark] .colab-df-convert:hover {\n",
              "      background-color: #434B5C;\n",
              "      box-shadow: 0px 1px 3px 1px rgba(0, 0, 0, 0.15);\n",
              "      filter: drop-shadow(0px 1px 2px rgba(0, 0, 0, 0.3));\n",
              "      fill: #FFFFFF;\n",
              "    }\n",
              "  </style>\n",
              "\n",
              "    <script>\n",
              "      const buttonEl =\n",
              "        document.querySelector('#df-b3dec08e-4aee-4536-b0c7-1f7c8c0cb0fa button.colab-df-convert');\n",
              "      buttonEl.style.display =\n",
              "        google.colab.kernel.accessAllowed ? 'block' : 'none';\n",
              "\n",
              "      async function convertToInteractive(key) {\n",
              "        const element = document.querySelector('#df-b3dec08e-4aee-4536-b0c7-1f7c8c0cb0fa');\n",
              "        const dataTable =\n",
              "          await google.colab.kernel.invokeFunction('convertToInteractive',\n",
              "                                                    [key], {});\n",
              "        if (!dataTable) return;\n",
              "\n",
              "        const docLinkHtml = 'Like what you see? Visit the ' +\n",
              "          '<a target=\"_blank\" href=https://colab.research.google.com/notebooks/data_table.ipynb>data table notebook</a>'\n",
              "          + ' to learn more about interactive tables.';\n",
              "        element.innerHTML = '';\n",
              "        dataTable['output_type'] = 'display_data';\n",
              "        await google.colab.output.renderOutput(dataTable, element);\n",
              "        const docLink = document.createElement('div');\n",
              "        docLink.innerHTML = docLinkHtml;\n",
              "        element.appendChild(docLink);\n",
              "      }\n",
              "    </script>\n",
              "  </div>\n",
              "\n",
              "\n",
              "<div id=\"df-b049728f-526a-4290-8a80-ce9ee6d3eccf\">\n",
              "  <button class=\"colab-df-quickchart\" onclick=\"quickchart('df-b049728f-526a-4290-8a80-ce9ee6d3eccf')\"\n",
              "            title=\"Suggest charts\"\n",
              "            style=\"display:none;\">\n",
              "\n",
              "<svg xmlns=\"http://www.w3.org/2000/svg\" height=\"24px\"viewBox=\"0 0 24 24\"\n",
              "     width=\"24px\">\n",
              "    <g>\n",
              "        <path d=\"M19 3H5c-1.1 0-2 .9-2 2v14c0 1.1.9 2 2 2h14c1.1 0 2-.9 2-2V5c0-1.1-.9-2-2-2zM9 17H7v-7h2v7zm4 0h-2V7h2v10zm4 0h-2v-4h2v4z\"/>\n",
              "    </g>\n",
              "</svg>\n",
              "  </button>\n",
              "\n",
              "<style>\n",
              "  .colab-df-quickchart {\n",
              "      --bg-color: #E8F0FE;\n",
              "      --fill-color: #1967D2;\n",
              "      --hover-bg-color: #E2EBFA;\n",
              "      --hover-fill-color: #174EA6;\n",
              "      --disabled-fill-color: #AAA;\n",
              "      --disabled-bg-color: #DDD;\n",
              "  }\n",
              "\n",
              "  [theme=dark] .colab-df-quickchart {\n",
              "      --bg-color: #3B4455;\n",
              "      --fill-color: #D2E3FC;\n",
              "      --hover-bg-color: #434B5C;\n",
              "      --hover-fill-color: #FFFFFF;\n",
              "      --disabled-bg-color: #3B4455;\n",
              "      --disabled-fill-color: #666;\n",
              "  }\n",
              "\n",
              "  .colab-df-quickchart {\n",
              "    background-color: var(--bg-color);\n",
              "    border: none;\n",
              "    border-radius: 50%;\n",
              "    cursor: pointer;\n",
              "    display: none;\n",
              "    fill: var(--fill-color);\n",
              "    height: 32px;\n",
              "    padding: 0;\n",
              "    width: 32px;\n",
              "  }\n",
              "\n",
              "  .colab-df-quickchart:hover {\n",
              "    background-color: var(--hover-bg-color);\n",
              "    box-shadow: 0 1px 2px rgba(60, 64, 67, 0.3), 0 1px 3px 1px rgba(60, 64, 67, 0.15);\n",
              "    fill: var(--button-hover-fill-color);\n",
              "  }\n",
              "\n",
              "  .colab-df-quickchart-complete:disabled,\n",
              "  .colab-df-quickchart-complete:disabled:hover {\n",
              "    background-color: var(--disabled-bg-color);\n",
              "    fill: var(--disabled-fill-color);\n",
              "    box-shadow: none;\n",
              "  }\n",
              "\n",
              "  .colab-df-spinner {\n",
              "    border: 2px solid var(--fill-color);\n",
              "    border-color: transparent;\n",
              "    border-bottom-color: var(--fill-color);\n",
              "    animation:\n",
              "      spin 1s steps(1) infinite;\n",
              "  }\n",
              "\n",
              "  @keyframes spin {\n",
              "    0% {\n",
              "      border-color: transparent;\n",
              "      border-bottom-color: var(--fill-color);\n",
              "      border-left-color: var(--fill-color);\n",
              "    }\n",
              "    20% {\n",
              "      border-color: transparent;\n",
              "      border-left-color: var(--fill-color);\n",
              "      border-top-color: var(--fill-color);\n",
              "    }\n",
              "    30% {\n",
              "      border-color: transparent;\n",
              "      border-left-color: var(--fill-color);\n",
              "      border-top-color: var(--fill-color);\n",
              "      border-right-color: var(--fill-color);\n",
              "    }\n",
              "    40% {\n",
              "      border-color: transparent;\n",
              "      border-right-color: var(--fill-color);\n",
              "      border-top-color: var(--fill-color);\n",
              "    }\n",
              "    60% {\n",
              "      border-color: transparent;\n",
              "      border-right-color: var(--fill-color);\n",
              "    }\n",
              "    80% {\n",
              "      border-color: transparent;\n",
              "      border-right-color: var(--fill-color);\n",
              "      border-bottom-color: var(--fill-color);\n",
              "    }\n",
              "    90% {\n",
              "      border-color: transparent;\n",
              "      border-bottom-color: var(--fill-color);\n",
              "    }\n",
              "  }\n",
              "</style>\n",
              "\n",
              "  <script>\n",
              "    async function quickchart(key) {\n",
              "      const quickchartButtonEl =\n",
              "        document.querySelector('#' + key + ' button');\n",
              "      quickchartButtonEl.disabled = true;  // To prevent multiple clicks.\n",
              "      quickchartButtonEl.classList.add('colab-df-spinner');\n",
              "      try {\n",
              "        const charts = await google.colab.kernel.invokeFunction(\n",
              "            'suggestCharts', [key], {});\n",
              "      } catch (error) {\n",
              "        console.error('Error during call to suggestCharts:', error);\n",
              "      }\n",
              "      quickchartButtonEl.classList.remove('colab-df-spinner');\n",
              "      quickchartButtonEl.classList.add('colab-df-quickchart-complete');\n",
              "    }\n",
              "    (() => {\n",
              "      let quickchartButtonEl =\n",
              "        document.querySelector('#df-b049728f-526a-4290-8a80-ce9ee6d3eccf button');\n",
              "      quickchartButtonEl.style.display =\n",
              "        google.colab.kernel.accessAllowed ? 'block' : 'none';\n",
              "    })();\n",
              "  </script>\n",
              "</div>\n",
              "\n",
              "    </div>\n",
              "  </div>\n"
            ],
            "application/vnd.google.colaboratory.intrinsic+json": {
              "type": "dataframe",
              "variable_name": "insurance_one_hot",
              "summary": "{\n  \"name\": \"insurance_one_hot\",\n  \"rows\": 1338,\n  \"fields\": [\n    {\n      \"column\": \"age\",\n      \"properties\": {\n        \"dtype\": \"number\",\n        \"std\": 14,\n        \"min\": 18,\n        \"max\": 64,\n        \"num_unique_values\": 47,\n        \"samples\": [\n          21,\n          45,\n          36\n        ],\n        \"semantic_type\": \"\",\n        \"description\": \"\"\n      }\n    },\n    {\n      \"column\": \"bmi\",\n      \"properties\": {\n        \"dtype\": \"number\",\n        \"std\": 6.098186911679017,\n        \"min\": 15.96,\n        \"max\": 53.13,\n        \"num_unique_values\": 548,\n        \"samples\": [\n          23.18,\n          26.885,\n          29.26\n        ],\n        \"semantic_type\": \"\",\n        \"description\": \"\"\n      }\n    },\n    {\n      \"column\": \"children\",\n      \"properties\": {\n        \"dtype\": \"number\",\n        \"std\": 1,\n        \"min\": 0,\n        \"max\": 5,\n        \"num_unique_values\": 6,\n        \"samples\": [\n          0,\n          1,\n          4\n        ],\n        \"semantic_type\": \"\",\n        \"description\": \"\"\n      }\n    },\n    {\n      \"column\": \"charges\",\n      \"properties\": {\n        \"dtype\": \"number\",\n        \"std\": 12110.011236693994,\n        \"min\": 1121.8739,\n        \"max\": 63770.42801,\n        \"num_unique_values\": 1337,\n        \"samples\": [\n          8688.85885,\n          5708.867,\n          11436.73815\n        ],\n        \"semantic_type\": \"\",\n        \"description\": \"\"\n      }\n    },\n    {\n      \"column\": \"sex_female\",\n      \"properties\": {\n        \"dtype\": \"number\",\n        \"std\": 0,\n        \"min\": 0,\n        \"max\": 1,\n        \"num_unique_values\": 2,\n        \"samples\": [\n          0,\n          1\n        ],\n        \"semantic_type\": \"\",\n        \"description\": \"\"\n      }\n    },\n    {\n      \"column\": \"sex_male\",\n      \"properties\": {\n        \"dtype\": \"number\",\n        \"std\": 0,\n        \"min\": 0,\n        \"max\": 1,\n        \"num_unique_values\": 2,\n        \"samples\": [\n          1,\n          0\n        ],\n        \"semantic_type\": \"\",\n        \"description\": \"\"\n      }\n    },\n    {\n      \"column\": \"smoker_no\",\n      \"properties\": {\n        \"dtype\": \"number\",\n        \"std\": 0,\n        \"min\": 0,\n        \"max\": 1,\n        \"num_unique_values\": 2,\n        \"samples\": [\n          1,\n          0\n        ],\n        \"semantic_type\": \"\",\n        \"description\": \"\"\n      }\n    },\n    {\n      \"column\": \"smoker_yes\",\n      \"properties\": {\n        \"dtype\": \"number\",\n        \"std\": 0,\n        \"min\": 0,\n        \"max\": 1,\n        \"num_unique_values\": 2,\n        \"samples\": [\n          0,\n          1\n        ],\n        \"semantic_type\": \"\",\n        \"description\": \"\"\n      }\n    },\n    {\n      \"column\": \"region_northeast\",\n      \"properties\": {\n        \"dtype\": \"number\",\n        \"std\": 0,\n        \"min\": 0,\n        \"max\": 1,\n        \"num_unique_values\": 2,\n        \"samples\": [\n          1,\n          0\n        ],\n        \"semantic_type\": \"\",\n        \"description\": \"\"\n      }\n    },\n    {\n      \"column\": \"region_northwest\",\n      \"properties\": {\n        \"dtype\": \"number\",\n        \"std\": 0,\n        \"min\": 0,\n        \"max\": 1,\n        \"num_unique_values\": 2,\n        \"samples\": [\n          1,\n          0\n        ],\n        \"semantic_type\": \"\",\n        \"description\": \"\"\n      }\n    },\n    {\n      \"column\": \"region_southeast\",\n      \"properties\": {\n        \"dtype\": \"number\",\n        \"std\": 0,\n        \"min\": 0,\n        \"max\": 1,\n        \"num_unique_values\": 2,\n        \"samples\": [\n          1,\n          0\n        ],\n        \"semantic_type\": \"\",\n        \"description\": \"\"\n      }\n    },\n    {\n      \"column\": \"region_southwest\",\n      \"properties\": {\n        \"dtype\": \"number\",\n        \"std\": 0,\n        \"min\": 0,\n        \"max\": 1,\n        \"num_unique_values\": 2,\n        \"samples\": [\n          0,\n          1\n        ],\n        \"semantic_type\": \"\",\n        \"description\": \"\"\n      }\n    }\n  ]\n}"
            }
          },
          "metadata": {},
          "execution_count": 73
        }
      ]
    },
    {
      "cell_type": "code",
      "metadata": {
        "id": "jGU53qHw3yTQ"
      },
      "source": [
        "# Create X & y values (features and labels)\n",
        "X = insurance_one_hot.drop(\"charges\", axis=1)\n",
        "y = insurance_one_hot[\"charges\"]"
      ],
      "execution_count": 74,
      "outputs": []
    },
    {
      "cell_type": "code",
      "metadata": {
        "colab": {
          "base_uri": "https://localhost:8080/",
          "height": 206
        },
        "id": "879Oxm4Z5I9H",
        "outputId": "228153d5-2085-4697-ad63-ef77273a21b7"
      },
      "source": [
        "# View X\n",
        "X.head()"
      ],
      "execution_count": 75,
      "outputs": [
        {
          "output_type": "execute_result",
          "data": {
            "text/plain": [
              "   age     bmi  children  sex_female  sex_male  smoker_no  smoker_yes  \\\n",
              "0   19  27.900         0           1         0          0           1   \n",
              "1   18  33.770         1           0         1          1           0   \n",
              "2   28  33.000         3           0         1          1           0   \n",
              "3   33  22.705         0           0         1          1           0   \n",
              "4   32  28.880         0           0         1          1           0   \n",
              "\n",
              "   region_northeast  region_northwest  region_southeast  region_southwest  \n",
              "0                 0                 0                 0                 1  \n",
              "1                 0                 0                 1                 0  \n",
              "2                 0                 0                 1                 0  \n",
              "3                 0                 1                 0                 0  \n",
              "4                 0                 1                 0                 0  "
            ],
            "text/html": [
              "\n",
              "  <div id=\"df-f01cd76d-3e9b-43bd-acd3-5442671aca20\" class=\"colab-df-container\">\n",
              "    <div>\n",
              "<style scoped>\n",
              "    .dataframe tbody tr th:only-of-type {\n",
              "        vertical-align: middle;\n",
              "    }\n",
              "\n",
              "    .dataframe tbody tr th {\n",
              "        vertical-align: top;\n",
              "    }\n",
              "\n",
              "    .dataframe thead th {\n",
              "        text-align: right;\n",
              "    }\n",
              "</style>\n",
              "<table border=\"1\" class=\"dataframe\">\n",
              "  <thead>\n",
              "    <tr style=\"text-align: right;\">\n",
              "      <th></th>\n",
              "      <th>age</th>\n",
              "      <th>bmi</th>\n",
              "      <th>children</th>\n",
              "      <th>sex_female</th>\n",
              "      <th>sex_male</th>\n",
              "      <th>smoker_no</th>\n",
              "      <th>smoker_yes</th>\n",
              "      <th>region_northeast</th>\n",
              "      <th>region_northwest</th>\n",
              "      <th>region_southeast</th>\n",
              "      <th>region_southwest</th>\n",
              "    </tr>\n",
              "  </thead>\n",
              "  <tbody>\n",
              "    <tr>\n",
              "      <th>0</th>\n",
              "      <td>19</td>\n",
              "      <td>27.900</td>\n",
              "      <td>0</td>\n",
              "      <td>1</td>\n",
              "      <td>0</td>\n",
              "      <td>0</td>\n",
              "      <td>1</td>\n",
              "      <td>0</td>\n",
              "      <td>0</td>\n",
              "      <td>0</td>\n",
              "      <td>1</td>\n",
              "    </tr>\n",
              "    <tr>\n",
              "      <th>1</th>\n",
              "      <td>18</td>\n",
              "      <td>33.770</td>\n",
              "      <td>1</td>\n",
              "      <td>0</td>\n",
              "      <td>1</td>\n",
              "      <td>1</td>\n",
              "      <td>0</td>\n",
              "      <td>0</td>\n",
              "      <td>0</td>\n",
              "      <td>1</td>\n",
              "      <td>0</td>\n",
              "    </tr>\n",
              "    <tr>\n",
              "      <th>2</th>\n",
              "      <td>28</td>\n",
              "      <td>33.000</td>\n",
              "      <td>3</td>\n",
              "      <td>0</td>\n",
              "      <td>1</td>\n",
              "      <td>1</td>\n",
              "      <td>0</td>\n",
              "      <td>0</td>\n",
              "      <td>0</td>\n",
              "      <td>1</td>\n",
              "      <td>0</td>\n",
              "    </tr>\n",
              "    <tr>\n",
              "      <th>3</th>\n",
              "      <td>33</td>\n",
              "      <td>22.705</td>\n",
              "      <td>0</td>\n",
              "      <td>0</td>\n",
              "      <td>1</td>\n",
              "      <td>1</td>\n",
              "      <td>0</td>\n",
              "      <td>0</td>\n",
              "      <td>1</td>\n",
              "      <td>0</td>\n",
              "      <td>0</td>\n",
              "    </tr>\n",
              "    <tr>\n",
              "      <th>4</th>\n",
              "      <td>32</td>\n",
              "      <td>28.880</td>\n",
              "      <td>0</td>\n",
              "      <td>0</td>\n",
              "      <td>1</td>\n",
              "      <td>1</td>\n",
              "      <td>0</td>\n",
              "      <td>0</td>\n",
              "      <td>1</td>\n",
              "      <td>0</td>\n",
              "      <td>0</td>\n",
              "    </tr>\n",
              "  </tbody>\n",
              "</table>\n",
              "</div>\n",
              "    <div class=\"colab-df-buttons\">\n",
              "\n",
              "  <div class=\"colab-df-container\">\n",
              "    <button class=\"colab-df-convert\" onclick=\"convertToInteractive('df-f01cd76d-3e9b-43bd-acd3-5442671aca20')\"\n",
              "            title=\"Convert this dataframe to an interactive table.\"\n",
              "            style=\"display:none;\">\n",
              "\n",
              "  <svg xmlns=\"http://www.w3.org/2000/svg\" height=\"24px\" viewBox=\"0 -960 960 960\">\n",
              "    <path d=\"M120-120v-720h720v720H120Zm60-500h600v-160H180v160Zm220 220h160v-160H400v160Zm0 220h160v-160H400v160ZM180-400h160v-160H180v160Zm440 0h160v-160H620v160ZM180-180h160v-160H180v160Zm440 0h160v-160H620v160Z\"/>\n",
              "  </svg>\n",
              "    </button>\n",
              "\n",
              "  <style>\n",
              "    .colab-df-container {\n",
              "      display:flex;\n",
              "      gap: 12px;\n",
              "    }\n",
              "\n",
              "    .colab-df-convert {\n",
              "      background-color: #E8F0FE;\n",
              "      border: none;\n",
              "      border-radius: 50%;\n",
              "      cursor: pointer;\n",
              "      display: none;\n",
              "      fill: #1967D2;\n",
              "      height: 32px;\n",
              "      padding: 0 0 0 0;\n",
              "      width: 32px;\n",
              "    }\n",
              "\n",
              "    .colab-df-convert:hover {\n",
              "      background-color: #E2EBFA;\n",
              "      box-shadow: 0px 1px 2px rgba(60, 64, 67, 0.3), 0px 1px 3px 1px rgba(60, 64, 67, 0.15);\n",
              "      fill: #174EA6;\n",
              "    }\n",
              "\n",
              "    .colab-df-buttons div {\n",
              "      margin-bottom: 4px;\n",
              "    }\n",
              "\n",
              "    [theme=dark] .colab-df-convert {\n",
              "      background-color: #3B4455;\n",
              "      fill: #D2E3FC;\n",
              "    }\n",
              "\n",
              "    [theme=dark] .colab-df-convert:hover {\n",
              "      background-color: #434B5C;\n",
              "      box-shadow: 0px 1px 3px 1px rgba(0, 0, 0, 0.15);\n",
              "      filter: drop-shadow(0px 1px 2px rgba(0, 0, 0, 0.3));\n",
              "      fill: #FFFFFF;\n",
              "    }\n",
              "  </style>\n",
              "\n",
              "    <script>\n",
              "      const buttonEl =\n",
              "        document.querySelector('#df-f01cd76d-3e9b-43bd-acd3-5442671aca20 button.colab-df-convert');\n",
              "      buttonEl.style.display =\n",
              "        google.colab.kernel.accessAllowed ? 'block' : 'none';\n",
              "\n",
              "      async function convertToInteractive(key) {\n",
              "        const element = document.querySelector('#df-f01cd76d-3e9b-43bd-acd3-5442671aca20');\n",
              "        const dataTable =\n",
              "          await google.colab.kernel.invokeFunction('convertToInteractive',\n",
              "                                                    [key], {});\n",
              "        if (!dataTable) return;\n",
              "\n",
              "        const docLinkHtml = 'Like what you see? Visit the ' +\n",
              "          '<a target=\"_blank\" href=https://colab.research.google.com/notebooks/data_table.ipynb>data table notebook</a>'\n",
              "          + ' to learn more about interactive tables.';\n",
              "        element.innerHTML = '';\n",
              "        dataTable['output_type'] = 'display_data';\n",
              "        await google.colab.output.renderOutput(dataTable, element);\n",
              "        const docLink = document.createElement('div');\n",
              "        docLink.innerHTML = docLinkHtml;\n",
              "        element.appendChild(docLink);\n",
              "      }\n",
              "    </script>\n",
              "  </div>\n",
              "\n",
              "\n",
              "<div id=\"df-90d7c146-af55-499c-8bb2-e6c311f40850\">\n",
              "  <button class=\"colab-df-quickchart\" onclick=\"quickchart('df-90d7c146-af55-499c-8bb2-e6c311f40850')\"\n",
              "            title=\"Suggest charts\"\n",
              "            style=\"display:none;\">\n",
              "\n",
              "<svg xmlns=\"http://www.w3.org/2000/svg\" height=\"24px\"viewBox=\"0 0 24 24\"\n",
              "     width=\"24px\">\n",
              "    <g>\n",
              "        <path d=\"M19 3H5c-1.1 0-2 .9-2 2v14c0 1.1.9 2 2 2h14c1.1 0 2-.9 2-2V5c0-1.1-.9-2-2-2zM9 17H7v-7h2v7zm4 0h-2V7h2v10zm4 0h-2v-4h2v4z\"/>\n",
              "    </g>\n",
              "</svg>\n",
              "  </button>\n",
              "\n",
              "<style>\n",
              "  .colab-df-quickchart {\n",
              "      --bg-color: #E8F0FE;\n",
              "      --fill-color: #1967D2;\n",
              "      --hover-bg-color: #E2EBFA;\n",
              "      --hover-fill-color: #174EA6;\n",
              "      --disabled-fill-color: #AAA;\n",
              "      --disabled-bg-color: #DDD;\n",
              "  }\n",
              "\n",
              "  [theme=dark] .colab-df-quickchart {\n",
              "      --bg-color: #3B4455;\n",
              "      --fill-color: #D2E3FC;\n",
              "      --hover-bg-color: #434B5C;\n",
              "      --hover-fill-color: #FFFFFF;\n",
              "      --disabled-bg-color: #3B4455;\n",
              "      --disabled-fill-color: #666;\n",
              "  }\n",
              "\n",
              "  .colab-df-quickchart {\n",
              "    background-color: var(--bg-color);\n",
              "    border: none;\n",
              "    border-radius: 50%;\n",
              "    cursor: pointer;\n",
              "    display: none;\n",
              "    fill: var(--fill-color);\n",
              "    height: 32px;\n",
              "    padding: 0;\n",
              "    width: 32px;\n",
              "  }\n",
              "\n",
              "  .colab-df-quickchart:hover {\n",
              "    background-color: var(--hover-bg-color);\n",
              "    box-shadow: 0 1px 2px rgba(60, 64, 67, 0.3), 0 1px 3px 1px rgba(60, 64, 67, 0.15);\n",
              "    fill: var(--button-hover-fill-color);\n",
              "  }\n",
              "\n",
              "  .colab-df-quickchart-complete:disabled,\n",
              "  .colab-df-quickchart-complete:disabled:hover {\n",
              "    background-color: var(--disabled-bg-color);\n",
              "    fill: var(--disabled-fill-color);\n",
              "    box-shadow: none;\n",
              "  }\n",
              "\n",
              "  .colab-df-spinner {\n",
              "    border: 2px solid var(--fill-color);\n",
              "    border-color: transparent;\n",
              "    border-bottom-color: var(--fill-color);\n",
              "    animation:\n",
              "      spin 1s steps(1) infinite;\n",
              "  }\n",
              "\n",
              "  @keyframes spin {\n",
              "    0% {\n",
              "      border-color: transparent;\n",
              "      border-bottom-color: var(--fill-color);\n",
              "      border-left-color: var(--fill-color);\n",
              "    }\n",
              "    20% {\n",
              "      border-color: transparent;\n",
              "      border-left-color: var(--fill-color);\n",
              "      border-top-color: var(--fill-color);\n",
              "    }\n",
              "    30% {\n",
              "      border-color: transparent;\n",
              "      border-left-color: var(--fill-color);\n",
              "      border-top-color: var(--fill-color);\n",
              "      border-right-color: var(--fill-color);\n",
              "    }\n",
              "    40% {\n",
              "      border-color: transparent;\n",
              "      border-right-color: var(--fill-color);\n",
              "      border-top-color: var(--fill-color);\n",
              "    }\n",
              "    60% {\n",
              "      border-color: transparent;\n",
              "      border-right-color: var(--fill-color);\n",
              "    }\n",
              "    80% {\n",
              "      border-color: transparent;\n",
              "      border-right-color: var(--fill-color);\n",
              "      border-bottom-color: var(--fill-color);\n",
              "    }\n",
              "    90% {\n",
              "      border-color: transparent;\n",
              "      border-bottom-color: var(--fill-color);\n",
              "    }\n",
              "  }\n",
              "</style>\n",
              "\n",
              "  <script>\n",
              "    async function quickchart(key) {\n",
              "      const quickchartButtonEl =\n",
              "        document.querySelector('#' + key + ' button');\n",
              "      quickchartButtonEl.disabled = true;  // To prevent multiple clicks.\n",
              "      quickchartButtonEl.classList.add('colab-df-spinner');\n",
              "      try {\n",
              "        const charts = await google.colab.kernel.invokeFunction(\n",
              "            'suggestCharts', [key], {});\n",
              "      } catch (error) {\n",
              "        console.error('Error during call to suggestCharts:', error);\n",
              "      }\n",
              "      quickchartButtonEl.classList.remove('colab-df-spinner');\n",
              "      quickchartButtonEl.classList.add('colab-df-quickchart-complete');\n",
              "    }\n",
              "    (() => {\n",
              "      let quickchartButtonEl =\n",
              "        document.querySelector('#df-90d7c146-af55-499c-8bb2-e6c311f40850 button');\n",
              "      quickchartButtonEl.style.display =\n",
              "        google.colab.kernel.accessAllowed ? 'block' : 'none';\n",
              "    })();\n",
              "  </script>\n",
              "</div>\n",
              "\n",
              "    </div>\n",
              "  </div>\n"
            ],
            "application/vnd.google.colaboratory.intrinsic+json": {
              "type": "dataframe",
              "variable_name": "X",
              "summary": "{\n  \"name\": \"X\",\n  \"rows\": 1338,\n  \"fields\": [\n    {\n      \"column\": \"age\",\n      \"properties\": {\n        \"dtype\": \"number\",\n        \"std\": 14,\n        \"min\": 18,\n        \"max\": 64,\n        \"num_unique_values\": 47,\n        \"samples\": [\n          21,\n          45,\n          36\n        ],\n        \"semantic_type\": \"\",\n        \"description\": \"\"\n      }\n    },\n    {\n      \"column\": \"bmi\",\n      \"properties\": {\n        \"dtype\": \"number\",\n        \"std\": 6.098186911679017,\n        \"min\": 15.96,\n        \"max\": 53.13,\n        \"num_unique_values\": 548,\n        \"samples\": [\n          23.18,\n          26.885,\n          29.26\n        ],\n        \"semantic_type\": \"\",\n        \"description\": \"\"\n      }\n    },\n    {\n      \"column\": \"children\",\n      \"properties\": {\n        \"dtype\": \"number\",\n        \"std\": 1,\n        \"min\": 0,\n        \"max\": 5,\n        \"num_unique_values\": 6,\n        \"samples\": [\n          0,\n          1,\n          4\n        ],\n        \"semantic_type\": \"\",\n        \"description\": \"\"\n      }\n    },\n    {\n      \"column\": \"sex_female\",\n      \"properties\": {\n        \"dtype\": \"number\",\n        \"std\": 0,\n        \"min\": 0,\n        \"max\": 1,\n        \"num_unique_values\": 2,\n        \"samples\": [\n          0,\n          1\n        ],\n        \"semantic_type\": \"\",\n        \"description\": \"\"\n      }\n    },\n    {\n      \"column\": \"sex_male\",\n      \"properties\": {\n        \"dtype\": \"number\",\n        \"std\": 0,\n        \"min\": 0,\n        \"max\": 1,\n        \"num_unique_values\": 2,\n        \"samples\": [\n          1,\n          0\n        ],\n        \"semantic_type\": \"\",\n        \"description\": \"\"\n      }\n    },\n    {\n      \"column\": \"smoker_no\",\n      \"properties\": {\n        \"dtype\": \"number\",\n        \"std\": 0,\n        \"min\": 0,\n        \"max\": 1,\n        \"num_unique_values\": 2,\n        \"samples\": [\n          1,\n          0\n        ],\n        \"semantic_type\": \"\",\n        \"description\": \"\"\n      }\n    },\n    {\n      \"column\": \"smoker_yes\",\n      \"properties\": {\n        \"dtype\": \"number\",\n        \"std\": 0,\n        \"min\": 0,\n        \"max\": 1,\n        \"num_unique_values\": 2,\n        \"samples\": [\n          0,\n          1\n        ],\n        \"semantic_type\": \"\",\n        \"description\": \"\"\n      }\n    },\n    {\n      \"column\": \"region_northeast\",\n      \"properties\": {\n        \"dtype\": \"number\",\n        \"std\": 0,\n        \"min\": 0,\n        \"max\": 1,\n        \"num_unique_values\": 2,\n        \"samples\": [\n          1,\n          0\n        ],\n        \"semantic_type\": \"\",\n        \"description\": \"\"\n      }\n    },\n    {\n      \"column\": \"region_northwest\",\n      \"properties\": {\n        \"dtype\": \"number\",\n        \"std\": 0,\n        \"min\": 0,\n        \"max\": 1,\n        \"num_unique_values\": 2,\n        \"samples\": [\n          1,\n          0\n        ],\n        \"semantic_type\": \"\",\n        \"description\": \"\"\n      }\n    },\n    {\n      \"column\": \"region_southeast\",\n      \"properties\": {\n        \"dtype\": \"number\",\n        \"std\": 0,\n        \"min\": 0,\n        \"max\": 1,\n        \"num_unique_values\": 2,\n        \"samples\": [\n          1,\n          0\n        ],\n        \"semantic_type\": \"\",\n        \"description\": \"\"\n      }\n    },\n    {\n      \"column\": \"region_southwest\",\n      \"properties\": {\n        \"dtype\": \"number\",\n        \"std\": 0,\n        \"min\": 0,\n        \"max\": 1,\n        \"num_unique_values\": 2,\n        \"samples\": [\n          0,\n          1\n        ],\n        \"semantic_type\": \"\",\n        \"description\": \"\"\n      }\n    }\n  ]\n}"
            }
          },
          "metadata": {},
          "execution_count": 75
        }
      ]
    },
    {
      "cell_type": "code",
      "metadata": {
        "colab": {
          "base_uri": "https://localhost:8080/",
          "height": 241
        },
        "id": "tkDW7YGa5MNu",
        "outputId": "aff28dc7-9bd1-494b-b72b-d4139d5cd4aa"
      },
      "source": [
        "# View y\n",
        "y.head()"
      ],
      "execution_count": 76,
      "outputs": [
        {
          "output_type": "execute_result",
          "data": {
            "text/plain": [
              "0    16884.92400\n",
              "1     1725.55230\n",
              "2     4449.46200\n",
              "3    21984.47061\n",
              "4     3866.85520\n",
              "Name: charges, dtype: float64"
            ],
            "text/html": [
              "<div>\n",
              "<style scoped>\n",
              "    .dataframe tbody tr th:only-of-type {\n",
              "        vertical-align: middle;\n",
              "    }\n",
              "\n",
              "    .dataframe tbody tr th {\n",
              "        vertical-align: top;\n",
              "    }\n",
              "\n",
              "    .dataframe thead th {\n",
              "        text-align: right;\n",
              "    }\n",
              "</style>\n",
              "<table border=\"1\" class=\"dataframe\">\n",
              "  <thead>\n",
              "    <tr style=\"text-align: right;\">\n",
              "      <th></th>\n",
              "      <th>charges</th>\n",
              "    </tr>\n",
              "  </thead>\n",
              "  <tbody>\n",
              "    <tr>\n",
              "      <th>0</th>\n",
              "      <td>16884.92400</td>\n",
              "    </tr>\n",
              "    <tr>\n",
              "      <th>1</th>\n",
              "      <td>1725.55230</td>\n",
              "    </tr>\n",
              "    <tr>\n",
              "      <th>2</th>\n",
              "      <td>4449.46200</td>\n",
              "    </tr>\n",
              "    <tr>\n",
              "      <th>3</th>\n",
              "      <td>21984.47061</td>\n",
              "    </tr>\n",
              "    <tr>\n",
              "      <th>4</th>\n",
              "      <td>3866.85520</td>\n",
              "    </tr>\n",
              "  </tbody>\n",
              "</table>\n",
              "</div><br><label><b>dtype:</b> float64</label>"
            ]
          },
          "metadata": {},
          "execution_count": 76
        }
      ]
    },
    {
      "cell_type": "code",
      "metadata": {
        "colab": {
          "base_uri": "https://localhost:8080/"
        },
        "id": "5a1cIygD46Ng",
        "outputId": "ab0b14a8-35c4-4f94-e09d-721426614fef"
      },
      "source": [
        "# Create training and test sets\n",
        "from sklearn.model_selection import train_test_split\n",
        "X_train, X_test, y_train, y_test = train_test_split(X, y, test_size=0.2, random_state=42)\n",
        "len(X), len(X_train), len(X_test)"
      ],
      "execution_count": 77,
      "outputs": [
        {
          "output_type": "execute_result",
          "data": {
            "text/plain": [
              "(1338, 1070, 268)"
            ]
          },
          "metadata": {},
          "execution_count": 77
        }
      ]
    },
    {
      "cell_type": "code",
      "metadata": {
        "colab": {
          "base_uri": "https://localhost:8080/"
        },
        "id": "E6A8y4WT47s4",
        "outputId": "70969654-c2e9-4fe0-96bf-64a1938698c3"
      },
      "source": [
        "# Build a neural network (sort of like model_2 above)\n",
        "tf.random.set_seed(42)\n",
        "\n",
        "# 1. Create a model\n",
        "insurance_model = keras.Sequential([\n",
        "  keras.layers.Dense(10),\n",
        "  keras.layers.Dense(1)\n",
        "])\n",
        "\n",
        "# 2. Compile the model\n",
        "insurance_model.compile(loss=keras.losses.mae,\n",
        "                        optimizer=keras.optimizers.SGD(),\n",
        "                        metrics=[\"mae\"])\n",
        "\n",
        "# 3. Fit the model\n",
        "insurance_model.fit(X_train, y_train, epochs=100)"
      ],
      "execution_count": 78,
      "outputs": [
        {
          "output_type": "stream",
          "name": "stdout",
          "text": [
            "Epoch 1/100\n",
            "34/34 [==============================] - 1s 5ms/step - loss: 8567.0830 - mae: 8567.0830\n",
            "Epoch 2/100\n",
            "34/34 [==============================] - 0s 4ms/step - loss: 7884.7300 - mae: 7884.7300\n",
            "Epoch 3/100\n",
            "34/34 [==============================] - 0s 4ms/step - loss: 7596.8506 - mae: 7596.8506\n",
            "Epoch 4/100\n",
            "34/34 [==============================] - 0s 3ms/step - loss: 7671.1470 - mae: 7671.1470\n",
            "Epoch 5/100\n",
            "34/34 [==============================] - 0s 3ms/step - loss: 7674.2847 - mae: 7674.2847\n",
            "Epoch 6/100\n",
            "34/34 [==============================] - 0s 2ms/step - loss: 7616.2534 - mae: 7616.2534\n",
            "Epoch 7/100\n",
            "34/34 [==============================] - 0s 2ms/step - loss: 7584.3027 - mae: 7584.3027\n",
            "Epoch 8/100\n",
            "34/34 [==============================] - 0s 2ms/step - loss: 7786.2725 - mae: 7786.2725\n",
            "Epoch 9/100\n",
            "34/34 [==============================] - 0s 3ms/step - loss: 7554.5029 - mae: 7554.5029\n",
            "Epoch 10/100\n",
            "34/34 [==============================] - 0s 2ms/step - loss: 7691.4287 - mae: 7691.4287\n",
            "Epoch 11/100\n",
            "34/34 [==============================] - 0s 2ms/step - loss: 7559.1294 - mae: 7559.1294\n",
            "Epoch 12/100\n",
            "34/34 [==============================] - 0s 2ms/step - loss: 7693.1465 - mae: 7693.1465\n",
            "Epoch 13/100\n",
            "34/34 [==============================] - 0s 2ms/step - loss: 7680.7246 - mae: 7680.7246\n",
            "Epoch 14/100\n",
            "34/34 [==============================] - 0s 2ms/step - loss: 7706.6821 - mae: 7706.6821\n",
            "Epoch 15/100\n",
            "34/34 [==============================] - 0s 3ms/step - loss: 7565.3340 - mae: 7565.3340\n",
            "Epoch 16/100\n",
            "34/34 [==============================] - 0s 3ms/step - loss: 7735.9512 - mae: 7735.9512\n",
            "Epoch 17/100\n",
            "34/34 [==============================] - 0s 2ms/step - loss: 7612.5459 - mae: 7612.5459\n",
            "Epoch 18/100\n",
            "34/34 [==============================] - 0s 2ms/step - loss: 7733.1479 - mae: 7733.1479\n",
            "Epoch 19/100\n",
            "34/34 [==============================] - 0s 2ms/step - loss: 7497.2153 - mae: 7497.2153\n",
            "Epoch 20/100\n",
            "34/34 [==============================] - 0s 2ms/step - loss: 7906.2637 - mae: 7906.2637\n",
            "Epoch 21/100\n",
            "34/34 [==============================] - 0s 2ms/step - loss: 7366.4854 - mae: 7366.4854\n",
            "Epoch 22/100\n",
            "34/34 [==============================] - 0s 2ms/step - loss: 7931.2544 - mae: 7931.2544\n",
            "Epoch 23/100\n",
            "34/34 [==============================] - 0s 3ms/step - loss: 7578.6108 - mae: 7578.6108\n",
            "Epoch 24/100\n",
            "34/34 [==============================] - 0s 2ms/step - loss: 7608.6470 - mae: 7608.6470\n",
            "Epoch 25/100\n",
            "34/34 [==============================] - 0s 2ms/step - loss: 7557.8320 - mae: 7557.8320\n",
            "Epoch 26/100\n",
            "34/34 [==============================] - 0s 2ms/step - loss: 7684.2646 - mae: 7684.2646\n",
            "Epoch 27/100\n",
            "34/34 [==============================] - 0s 2ms/step - loss: 7703.7505 - mae: 7703.7505\n",
            "Epoch 28/100\n",
            "34/34 [==============================] - 0s 3ms/step - loss: 7435.9414 - mae: 7435.9414\n",
            "Epoch 29/100\n",
            "34/34 [==============================] - 0s 2ms/step - loss: 7602.6260 - mae: 7602.6260\n",
            "Epoch 30/100\n",
            "34/34 [==============================] - 0s 2ms/step - loss: 7646.4839 - mae: 7646.4839\n",
            "Epoch 31/100\n",
            "34/34 [==============================] - 0s 2ms/step - loss: 7692.3257 - mae: 7692.3257\n",
            "Epoch 32/100\n",
            "34/34 [==============================] - 0s 2ms/step - loss: 7234.8003 - mae: 7234.8003\n",
            "Epoch 33/100\n",
            "34/34 [==============================] - 0s 2ms/step - loss: 7499.8145 - mae: 7499.8145\n",
            "Epoch 34/100\n",
            "34/34 [==============================] - 0s 2ms/step - loss: 7458.0430 - mae: 7458.0430\n",
            "Epoch 35/100\n",
            "34/34 [==============================] - 0s 3ms/step - loss: 7564.2109 - mae: 7564.2109\n",
            "Epoch 36/100\n",
            "34/34 [==============================] - 0s 2ms/step - loss: 7605.4448 - mae: 7605.4448\n",
            "Epoch 37/100\n",
            "34/34 [==============================] - 0s 3ms/step - loss: 7635.5220 - mae: 7635.5220\n",
            "Epoch 38/100\n",
            "34/34 [==============================] - 0s 3ms/step - loss: 7527.8765 - mae: 7527.8765\n",
            "Epoch 39/100\n",
            "34/34 [==============================] - 0s 3ms/step - loss: 7596.0801 - mae: 7596.0801\n",
            "Epoch 40/100\n",
            "34/34 [==============================] - 0s 2ms/step - loss: 7574.8237 - mae: 7574.8237\n",
            "Epoch 41/100\n",
            "34/34 [==============================] - 0s 2ms/step - loss: 7681.6685 - mae: 7681.6685\n",
            "Epoch 42/100\n",
            "34/34 [==============================] - 0s 3ms/step - loss: 7282.9404 - mae: 7282.9404\n",
            "Epoch 43/100\n",
            "34/34 [==============================] - 0s 2ms/step - loss: 7604.5815 - mae: 7604.5815\n",
            "Epoch 44/100\n",
            "34/34 [==============================] - 0s 3ms/step - loss: 7402.1636 - mae: 7402.1636\n",
            "Epoch 45/100\n",
            "34/34 [==============================] - 0s 3ms/step - loss: 7460.3320 - mae: 7460.3320\n",
            "Epoch 46/100\n",
            "34/34 [==============================] - 0s 2ms/step - loss: 7375.6987 - mae: 7375.6987\n",
            "Epoch 47/100\n",
            "34/34 [==============================] - 0s 3ms/step - loss: 7511.3647 - mae: 7511.3647\n",
            "Epoch 48/100\n",
            "34/34 [==============================] - 0s 2ms/step - loss: 7507.4185 - mae: 7507.4185\n",
            "Epoch 49/100\n",
            "34/34 [==============================] - 0s 2ms/step - loss: 7547.4214 - mae: 7547.4214\n",
            "Epoch 50/100\n",
            "34/34 [==============================] - 0s 3ms/step - loss: 7489.3208 - mae: 7489.3208\n",
            "Epoch 51/100\n",
            "34/34 [==============================] - 0s 2ms/step - loss: 7441.0728 - mae: 7441.0728\n",
            "Epoch 52/100\n",
            "34/34 [==============================] - 0s 2ms/step - loss: 7498.5957 - mae: 7498.5957\n",
            "Epoch 53/100\n",
            "34/34 [==============================] - 0s 2ms/step - loss: 7657.8203 - mae: 7657.8203\n",
            "Epoch 54/100\n",
            "34/34 [==============================] - 0s 3ms/step - loss: 7163.4482 - mae: 7163.4482\n",
            "Epoch 55/100\n",
            "34/34 [==============================] - 0s 2ms/step - loss: 7179.6514 - mae: 7179.6514\n",
            "Epoch 56/100\n",
            "34/34 [==============================] - 0s 2ms/step - loss: 7383.7866 - mae: 7383.7866\n",
            "Epoch 57/100\n",
            "34/34 [==============================] - 0s 2ms/step - loss: 7430.9697 - mae: 7430.9697\n",
            "Epoch 58/100\n",
            "34/34 [==============================] - 0s 2ms/step - loss: 7573.9224 - mae: 7573.9224\n",
            "Epoch 59/100\n",
            "34/34 [==============================] - 0s 2ms/step - loss: 7639.9727 - mae: 7639.9727\n",
            "Epoch 60/100\n",
            "34/34 [==============================] - 0s 2ms/step - loss: 7317.1938 - mae: 7317.1938\n",
            "Epoch 61/100\n",
            "34/34 [==============================] - 0s 2ms/step - loss: 7474.4785 - mae: 7474.4785\n",
            "Epoch 62/100\n",
            "34/34 [==============================] - 0s 3ms/step - loss: 7381.1875 - mae: 7381.1875\n",
            "Epoch 63/100\n",
            "34/34 [==============================] - 0s 2ms/step - loss: 7377.4048 - mae: 7377.4048\n",
            "Epoch 64/100\n",
            "34/34 [==============================] - 0s 2ms/step - loss: 7314.5576 - mae: 7314.5576\n",
            "Epoch 65/100\n",
            "34/34 [==============================] - 0s 2ms/step - loss: 7369.8931 - mae: 7369.8931\n",
            "Epoch 66/100\n",
            "34/34 [==============================] - 0s 2ms/step - loss: 7251.3726 - mae: 7251.3726\n",
            "Epoch 67/100\n",
            "34/34 [==============================] - 0s 2ms/step - loss: 7410.5474 - mae: 7410.5474\n",
            "Epoch 68/100\n",
            "34/34 [==============================] - 0s 3ms/step - loss: 7491.2319 - mae: 7491.2319\n",
            "Epoch 69/100\n",
            "34/34 [==============================] - 0s 2ms/step - loss: 7613.1021 - mae: 7613.1021\n",
            "Epoch 70/100\n",
            "34/34 [==============================] - 0s 2ms/step - loss: 7443.5688 - mae: 7443.5688\n",
            "Epoch 71/100\n",
            "34/34 [==============================] - 0s 3ms/step - loss: 7239.5513 - mae: 7239.5513\n",
            "Epoch 72/100\n",
            "34/34 [==============================] - 0s 2ms/step - loss: 7387.6519 - mae: 7387.6519\n",
            "Epoch 73/100\n",
            "34/34 [==============================] - 0s 2ms/step - loss: 7186.4136 - mae: 7186.4136\n",
            "Epoch 74/100\n",
            "34/34 [==============================] - 0s 2ms/step - loss: 7488.0518 - mae: 7488.0518\n",
            "Epoch 75/100\n",
            "34/34 [==============================] - 0s 2ms/step - loss: 7240.4253 - mae: 7240.4253\n",
            "Epoch 76/100\n",
            "34/34 [==============================] - 0s 2ms/step - loss: 7149.0923 - mae: 7149.0923\n",
            "Epoch 77/100\n",
            "34/34 [==============================] - 0s 3ms/step - loss: 7403.7227 - mae: 7403.7227\n",
            "Epoch 78/100\n",
            "34/34 [==============================] - 0s 2ms/step - loss: 7139.9214 - mae: 7139.9214\n",
            "Epoch 79/100\n",
            "34/34 [==============================] - 0s 2ms/step - loss: 7490.3569 - mae: 7490.3569\n",
            "Epoch 80/100\n",
            "34/34 [==============================] - 0s 2ms/step - loss: 7449.2480 - mae: 7449.2480\n",
            "Epoch 81/100\n",
            "34/34 [==============================] - 0s 2ms/step - loss: 7145.9849 - mae: 7145.9849\n",
            "Epoch 82/100\n",
            "34/34 [==============================] - 0s 2ms/step - loss: 7374.4839 - mae: 7374.4839\n",
            "Epoch 83/100\n",
            "34/34 [==============================] - 0s 2ms/step - loss: 7352.5547 - mae: 7352.5547\n",
            "Epoch 84/100\n",
            "34/34 [==============================] - 0s 3ms/step - loss: 7334.5884 - mae: 7334.5884\n",
            "Epoch 85/100\n",
            "34/34 [==============================] - 0s 3ms/step - loss: 7430.3423 - mae: 7430.3423\n",
            "Epoch 86/100\n",
            "34/34 [==============================] - 0s 2ms/step - loss: 7421.1626 - mae: 7421.1626\n",
            "Epoch 87/100\n",
            "34/34 [==============================] - 0s 2ms/step - loss: 7315.8843 - mae: 7315.8843\n",
            "Epoch 88/100\n",
            "34/34 [==============================] - 0s 2ms/step - loss: 7270.2871 - mae: 7270.2871\n",
            "Epoch 89/100\n",
            "34/34 [==============================] - 0s 2ms/step - loss: 7393.6714 - mae: 7393.6714\n",
            "Epoch 90/100\n",
            "34/34 [==============================] - 0s 3ms/step - loss: 7082.2598 - mae: 7082.2598\n",
            "Epoch 91/100\n",
            "34/34 [==============================] - 0s 3ms/step - loss: 7078.9976 - mae: 7078.9976\n",
            "Epoch 92/100\n",
            "34/34 [==============================] - 0s 2ms/step - loss: 7259.3569 - mae: 7259.3569\n",
            "Epoch 93/100\n",
            "34/34 [==============================] - 0s 2ms/step - loss: 7438.2134 - mae: 7438.2134\n",
            "Epoch 94/100\n",
            "34/34 [==============================] - 0s 3ms/step - loss: 7126.4946 - mae: 7126.4946\n",
            "Epoch 95/100\n",
            "34/34 [==============================] - 0s 2ms/step - loss: 7289.9854 - mae: 7289.9854\n",
            "Epoch 96/100\n",
            "34/34 [==============================] - 0s 3ms/step - loss: 7199.5273 - mae: 7199.5273\n",
            "Epoch 97/100\n",
            "34/34 [==============================] - 0s 2ms/step - loss: 7196.2720 - mae: 7196.2720\n",
            "Epoch 98/100\n",
            "34/34 [==============================] - 0s 2ms/step - loss: 7395.7407 - mae: 7395.7407\n",
            "Epoch 99/100\n",
            "34/34 [==============================] - 0s 2ms/step - loss: 7401.3960 - mae: 7401.3960\n",
            "Epoch 100/100\n",
            "34/34 [==============================] - 0s 2ms/step - loss: 7428.5288 - mae: 7428.5288\n"
          ]
        },
        {
          "output_type": "execute_result",
          "data": {
            "text/plain": [
              "<tf_keras.src.callbacks.History at 0x787039f3f3d0>"
            ]
          },
          "metadata": {},
          "execution_count": 78
        }
      ]
    },
    {
      "cell_type": "code",
      "metadata": {
        "colab": {
          "base_uri": "https://localhost:8080/"
        },
        "id": "PmRjvYMu6Yeu",
        "outputId": "0692d282-be27-4dea-b06e-bde7c93295cf"
      },
      "source": [
        "# Check the results of the insurance model on the test data\n",
        "insurance_model.evaluate(X_test, y_test)"
      ],
      "execution_count": 79,
      "outputs": [
        {
          "output_type": "stream",
          "name": "stdout",
          "text": [
            "9/9 [==============================] - 0s 3ms/step - loss: 8802.3535 - mae: 8802.3535\n"
          ]
        },
        {
          "output_type": "execute_result",
          "data": {
            "text/plain": [
              "[8802.353515625, 8802.353515625]"
            ]
          },
          "metadata": {},
          "execution_count": 79
        }
      ]
    },
    {
      "cell_type": "code",
      "metadata": {
        "colab": {
          "base_uri": "https://localhost:8080/"
        },
        "id": "0u1tPVZu7bx9",
        "outputId": "2599b9e8-3b3b-4194-dce6-d3a0c6071733"
      },
      "source": [
        "y_train.median(), y_train.mean()"
      ],
      "execution_count": 80,
      "outputs": [
        {
          "output_type": "execute_result",
          "data": {
            "text/plain": [
              "(9575.4421, 13346.089736364485)"
            ]
          },
          "metadata": {},
          "execution_count": 80
        }
      ]
    },
    {
      "cell_type": "markdown",
      "metadata": {
        "id": "OEMaHr1m7j9n"
      },
      "source": [
        "Right now it looks like our model isn't performing too well... let's try and improve it!\n",
        "\n",
        "To (try) improve our model, we'll run 2 experiments:\n",
        "1. Add an extra layer with more hidden units and use the Adam optimizer\n",
        "2. Same as above but train for longer (200 epochs)\n",
        "3. (insert your own experiment here)"
      ]
    },
    {
      "cell_type": "code",
      "metadata": {
        "colab": {
          "base_uri": "https://localhost:8080/"
        },
        "id": "2PV6yAHm9dR0",
        "outputId": "fb00f9fa-05de-4aee-8114-67ffe68a150b"
      },
      "source": [
        "X_train, y_train"
      ],
      "execution_count": 81,
      "outputs": [
        {
          "output_type": "execute_result",
          "data": {
            "text/plain": [
              "(      age     bmi  children  sex_female  sex_male  smoker_no  smoker_yes  \\\n",
              " 560    46  19.950         2           1         0          1           0   \n",
              " 1285   47  24.320         0           1         0          1           0   \n",
              " 1142   52  24.860         0           1         0          1           0   \n",
              " 969    39  34.320         5           1         0          1           0   \n",
              " 486    54  21.470         3           1         0          1           0   \n",
              " ...   ...     ...       ...         ...       ...        ...         ...   \n",
              " 1095   18  31.350         4           1         0          1           0   \n",
              " 1130   39  23.870         5           1         0          1           0   \n",
              " 1294   58  25.175         0           0         1          1           0   \n",
              " 860    37  47.600         2           1         0          0           1   \n",
              " 1126   55  29.900         0           0         1          1           0   \n",
              " \n",
              "       region_northeast  region_northwest  region_southeast  region_southwest  \n",
              " 560                  0                 1                 0                 0  \n",
              " 1285                 1                 0                 0                 0  \n",
              " 1142                 0                 0                 1                 0  \n",
              " 969                  0                 0                 1                 0  \n",
              " 486                  0                 1                 0                 0  \n",
              " ...                ...               ...               ...               ...  \n",
              " 1095                 1                 0                 0                 0  \n",
              " 1130                 0                 0                 1                 0  \n",
              " 1294                 1                 0                 0                 0  \n",
              " 860                  0                 0                 0                 1  \n",
              " 1126                 0                 0                 0                 1  \n",
              " \n",
              " [1070 rows x 11 columns],\n",
              " 560      9193.83850\n",
              " 1285     8534.67180\n",
              " 1142    27117.99378\n",
              " 969      8596.82780\n",
              " 486     12475.35130\n",
              "            ...     \n",
              " 1095     4561.18850\n",
              " 1130     8582.30230\n",
              " 1294    11931.12525\n",
              " 860     46113.51100\n",
              " 1126    10214.63600\n",
              " Name: charges, Length: 1070, dtype: float64)"
            ]
          },
          "metadata": {},
          "execution_count": 81
        }
      ]
    },
    {
      "cell_type": "code",
      "metadata": {
        "colab": {
          "base_uri": "https://localhost:8080/"
        },
        "id": "2437V9zH758n",
        "outputId": "7835f345-1d6e-4a31-c7e3-2eb619c5ea2e"
      },
      "source": [
        "# Set random seed\n",
        "tf.random.set_seed(42)\n",
        "\n",
        "# 1. Create the model\n",
        "insurance_model_2 = keras.Sequential([\n",
        "  keras.layers.Dense(100),\n",
        "  keras.layers.Dense(10),\n",
        "  keras.layers.Dense(1)\n",
        "])\n",
        "\n",
        "# 2. Compile the model\n",
        "insurance_model_2.compile(loss=keras.losses.mae,\n",
        "                          optimizer=keras.optimizers.Adam(),\n",
        "                          metrics=[\"mae\"])\n",
        "\n",
        "# 3. Fit the model\n",
        "insurance_model_2.fit(X_train, y_train, epochs=100, verbose=1)"
      ],
      "execution_count": 82,
      "outputs": [
        {
          "output_type": "stream",
          "name": "stdout",
          "text": [
            "Epoch 1/100\n",
            "34/34 [==============================] - 1s 4ms/step - loss: 13307.4277 - mae: 13307.4277\n",
            "Epoch 2/100\n",
            "34/34 [==============================] - 0s 4ms/step - loss: 13170.1631 - mae: 13170.1631\n",
            "Epoch 3/100\n",
            "34/34 [==============================] - 0s 4ms/step - loss: 12864.8828 - mae: 12864.8828\n",
            "Epoch 4/100\n",
            "34/34 [==============================] - 0s 4ms/step - loss: 12241.4775 - mae: 12241.4775\n",
            "Epoch 5/100\n",
            "34/34 [==============================] - 0s 5ms/step - loss: 11161.3496 - mae: 11161.3496\n",
            "Epoch 6/100\n",
            "34/34 [==============================] - 0s 3ms/step - loss: 9717.9619 - mae: 9717.9619\n",
            "Epoch 7/100\n",
            "34/34 [==============================] - 0s 4ms/step - loss: 8329.2520 - mae: 8329.2520\n",
            "Epoch 8/100\n",
            "34/34 [==============================] - 0s 5ms/step - loss: 7590.9663 - mae: 7590.9663\n",
            "Epoch 9/100\n",
            "34/34 [==============================] - 0s 4ms/step - loss: 7447.2314 - mae: 7447.2314\n",
            "Epoch 10/100\n",
            "34/34 [==============================] - 0s 4ms/step - loss: 7424.4556 - mae: 7424.4556\n",
            "Epoch 11/100\n",
            "34/34 [==============================] - 0s 5ms/step - loss: 7405.5239 - mae: 7405.5239\n",
            "Epoch 12/100\n",
            "34/34 [==============================] - 0s 4ms/step - loss: 7383.6665 - mae: 7383.6665\n",
            "Epoch 13/100\n",
            "34/34 [==============================] - 0s 4ms/step - loss: 7363.0410 - mae: 7363.0410\n",
            "Epoch 14/100\n",
            "34/34 [==============================] - 0s 4ms/step - loss: 7340.6250 - mae: 7340.6250\n",
            "Epoch 15/100\n",
            "34/34 [==============================] - 0s 4ms/step - loss: 7321.4106 - mae: 7321.4106\n",
            "Epoch 16/100\n",
            "34/34 [==============================] - 0s 4ms/step - loss: 7298.6978 - mae: 7298.6978\n",
            "Epoch 17/100\n",
            "34/34 [==============================] - 0s 3ms/step - loss: 7278.9580 - mae: 7278.9580\n",
            "Epoch 18/100\n",
            "34/34 [==============================] - 0s 4ms/step - loss: 7255.0688 - mae: 7255.0688\n",
            "Epoch 19/100\n",
            "34/34 [==============================] - 0s 4ms/step - loss: 7233.2388 - mae: 7233.2388\n",
            "Epoch 20/100\n",
            "34/34 [==============================] - 0s 4ms/step - loss: 7210.1021 - mae: 7210.1021\n",
            "Epoch 21/100\n",
            "34/34 [==============================] - 0s 3ms/step - loss: 7190.9399 - mae: 7190.9399\n",
            "Epoch 22/100\n",
            "34/34 [==============================] - 0s 2ms/step - loss: 7163.7949 - mae: 7163.7949\n",
            "Epoch 23/100\n",
            "34/34 [==============================] - 0s 2ms/step - loss: 7139.3076 - mae: 7139.3076\n",
            "Epoch 24/100\n",
            "34/34 [==============================] - 0s 2ms/step - loss: 7114.7734 - mae: 7114.7734\n",
            "Epoch 25/100\n",
            "34/34 [==============================] - 0s 2ms/step - loss: 7096.1089 - mae: 7096.1089\n",
            "Epoch 26/100\n",
            "34/34 [==============================] - 0s 2ms/step - loss: 7066.0068 - mae: 7066.0068\n",
            "Epoch 27/100\n",
            "34/34 [==============================] - 0s 2ms/step - loss: 7037.4370 - mae: 7037.4370\n",
            "Epoch 28/100\n",
            "34/34 [==============================] - 0s 2ms/step - loss: 7009.7988 - mae: 7009.7988\n",
            "Epoch 29/100\n",
            "34/34 [==============================] - 0s 2ms/step - loss: 6982.2979 - mae: 6982.2979\n",
            "Epoch 30/100\n",
            "34/34 [==============================] - 0s 2ms/step - loss: 6955.6562 - mae: 6955.6562\n",
            "Epoch 31/100\n",
            "34/34 [==============================] - 0s 2ms/step - loss: 6925.1284 - mae: 6925.1284\n",
            "Epoch 32/100\n",
            "34/34 [==============================] - 0s 2ms/step - loss: 6897.7861 - mae: 6897.7861\n",
            "Epoch 33/100\n",
            "34/34 [==============================] - 0s 2ms/step - loss: 6867.2075 - mae: 6867.2075\n",
            "Epoch 34/100\n",
            "34/34 [==============================] - 0s 2ms/step - loss: 6835.7744 - mae: 6835.7744\n",
            "Epoch 35/100\n",
            "34/34 [==============================] - 0s 2ms/step - loss: 6803.7217 - mae: 6803.7217\n",
            "Epoch 36/100\n",
            "34/34 [==============================] - 0s 3ms/step - loss: 6770.6240 - mae: 6770.6240\n",
            "Epoch 37/100\n",
            "34/34 [==============================] - 0s 3ms/step - loss: 6735.6118 - mae: 6735.6118\n",
            "Epoch 38/100\n",
            "34/34 [==============================] - 0s 3ms/step - loss: 6704.7573 - mae: 6704.7573\n",
            "Epoch 39/100\n",
            "34/34 [==============================] - 0s 2ms/step - loss: 6666.7446 - mae: 6666.7446\n",
            "Epoch 40/100\n",
            "34/34 [==============================] - 0s 2ms/step - loss: 6632.4341 - mae: 6632.4341\n",
            "Epoch 41/100\n",
            "34/34 [==============================] - 0s 2ms/step - loss: 6599.6934 - mae: 6599.6934\n",
            "Epoch 42/100\n",
            "34/34 [==============================] - 0s 2ms/step - loss: 6570.2568 - mae: 6570.2568\n",
            "Epoch 43/100\n",
            "34/34 [==============================] - 0s 2ms/step - loss: 6540.7261 - mae: 6540.7261\n",
            "Epoch 44/100\n",
            "34/34 [==============================] - 0s 2ms/step - loss: 6516.0361 - mae: 6516.0361\n",
            "Epoch 45/100\n",
            "34/34 [==============================] - 0s 2ms/step - loss: 6501.0361 - mae: 6501.0361\n",
            "Epoch 46/100\n",
            "34/34 [==============================] - 0s 2ms/step - loss: 6480.6289 - mae: 6480.6289\n",
            "Epoch 47/100\n",
            "34/34 [==============================] - 0s 3ms/step - loss: 6465.5488 - mae: 6465.5488\n",
            "Epoch 48/100\n",
            "34/34 [==============================] - 0s 3ms/step - loss: 6450.4922 - mae: 6450.4922\n",
            "Epoch 49/100\n",
            "34/34 [==============================] - 0s 2ms/step - loss: 6437.1851 - mae: 6437.1851\n",
            "Epoch 50/100\n",
            "34/34 [==============================] - 0s 2ms/step - loss: 6423.4424 - mae: 6423.4424\n",
            "Epoch 51/100\n",
            "34/34 [==============================] - 0s 2ms/step - loss: 6409.6738 - mae: 6409.6738\n",
            "Epoch 52/100\n",
            "34/34 [==============================] - 0s 2ms/step - loss: 6398.4658 - mae: 6398.4658\n",
            "Epoch 53/100\n",
            "34/34 [==============================] - 0s 2ms/step - loss: 6384.5483 - mae: 6384.5483\n",
            "Epoch 54/100\n",
            "34/34 [==============================] - 0s 2ms/step - loss: 6371.1211 - mae: 6371.1211\n",
            "Epoch 55/100\n",
            "34/34 [==============================] - 0s 2ms/step - loss: 6357.6382 - mae: 6357.6382\n",
            "Epoch 56/100\n",
            "34/34 [==============================] - 0s 2ms/step - loss: 6343.9624 - mae: 6343.9624\n",
            "Epoch 57/100\n",
            "34/34 [==============================] - 0s 2ms/step - loss: 6331.4150 - mae: 6331.4150\n",
            "Epoch 58/100\n",
            "34/34 [==============================] - 0s 2ms/step - loss: 6316.7148 - mae: 6316.7148\n",
            "Epoch 59/100\n",
            "34/34 [==============================] - 0s 3ms/step - loss: 6302.2114 - mae: 6302.2114\n",
            "Epoch 60/100\n",
            "34/34 [==============================] - 0s 3ms/step - loss: 6291.8848 - mae: 6291.8848\n",
            "Epoch 61/100\n",
            "34/34 [==============================] - 0s 3ms/step - loss: 6271.8960 - mae: 6271.8960\n",
            "Epoch 62/100\n",
            "34/34 [==============================] - 0s 2ms/step - loss: 6260.5269 - mae: 6260.5269\n",
            "Epoch 63/100\n",
            "34/34 [==============================] - 0s 2ms/step - loss: 6241.8892 - mae: 6241.8892\n",
            "Epoch 64/100\n",
            "34/34 [==============================] - 0s 2ms/step - loss: 6226.4907 - mae: 6226.4907\n",
            "Epoch 65/100\n",
            "34/34 [==============================] - 0s 2ms/step - loss: 6209.0977 - mae: 6209.0977\n",
            "Epoch 66/100\n",
            "34/34 [==============================] - 0s 2ms/step - loss: 6192.1592 - mae: 6192.1592\n",
            "Epoch 67/100\n",
            "34/34 [==============================] - 0s 2ms/step - loss: 6180.0781 - mae: 6180.0781\n",
            "Epoch 68/100\n",
            "34/34 [==============================] - 0s 2ms/step - loss: 6158.2261 - mae: 6158.2261\n",
            "Epoch 69/100\n",
            "34/34 [==============================] - 0s 2ms/step - loss: 6141.5415 - mae: 6141.5415\n",
            "Epoch 70/100\n",
            "34/34 [==============================] - 0s 2ms/step - loss: 6121.7114 - mae: 6121.7114\n",
            "Epoch 71/100\n",
            "34/34 [==============================] - 0s 2ms/step - loss: 6102.0796 - mae: 6102.0796\n",
            "Epoch 72/100\n",
            "34/34 [==============================] - 0s 3ms/step - loss: 6083.8677 - mae: 6083.8677\n",
            "Epoch 73/100\n",
            "34/34 [==============================] - 0s 3ms/step - loss: 6068.5688 - mae: 6068.5688\n",
            "Epoch 74/100\n",
            "34/34 [==============================] - 0s 2ms/step - loss: 6042.4673 - mae: 6042.4673\n",
            "Epoch 75/100\n",
            "34/34 [==============================] - 0s 2ms/step - loss: 6020.6128 - mae: 6020.6128\n",
            "Epoch 76/100\n",
            "34/34 [==============================] - 0s 2ms/step - loss: 6008.5796 - mae: 6008.5796\n",
            "Epoch 77/100\n",
            "34/34 [==============================] - 0s 2ms/step - loss: 5974.4106 - mae: 5974.4106\n",
            "Epoch 78/100\n",
            "34/34 [==============================] - 0s 2ms/step - loss: 5952.4736 - mae: 5952.4736\n",
            "Epoch 79/100\n",
            "34/34 [==============================] - 0s 2ms/step - loss: 5928.4712 - mae: 5928.4712\n",
            "Epoch 80/100\n",
            "34/34 [==============================] - 0s 2ms/step - loss: 5901.6978 - mae: 5901.6978\n",
            "Epoch 81/100\n",
            "34/34 [==============================] - 0s 2ms/step - loss: 5875.9985 - mae: 5875.9985\n",
            "Epoch 82/100\n",
            "34/34 [==============================] - 0s 2ms/step - loss: 5848.9585 - mae: 5848.9585\n",
            "Epoch 83/100\n",
            "34/34 [==============================] - 0s 3ms/step - loss: 5819.8584 - mae: 5819.8584\n",
            "Epoch 84/100\n",
            "34/34 [==============================] - 0s 3ms/step - loss: 5788.6226 - mae: 5788.6226\n",
            "Epoch 85/100\n",
            "34/34 [==============================] - 0s 3ms/step - loss: 5760.7515 - mae: 5760.7515\n",
            "Epoch 86/100\n",
            "34/34 [==============================] - 0s 2ms/step - loss: 5727.4380 - mae: 5727.4380\n",
            "Epoch 87/100\n",
            "34/34 [==============================] - 0s 2ms/step - loss: 5692.2373 - mae: 5692.2373\n",
            "Epoch 88/100\n",
            "34/34 [==============================] - 0s 2ms/step - loss: 5658.6045 - mae: 5658.6045\n",
            "Epoch 89/100\n",
            "34/34 [==============================] - 0s 2ms/step - loss: 5619.9565 - mae: 5619.9565\n",
            "Epoch 90/100\n",
            "34/34 [==============================] - 0s 2ms/step - loss: 5579.6685 - mae: 5579.6685\n",
            "Epoch 91/100\n",
            "34/34 [==============================] - 0s 2ms/step - loss: 5546.9648 - mae: 5546.9648\n",
            "Epoch 92/100\n",
            "34/34 [==============================] - 0s 2ms/step - loss: 5496.2036 - mae: 5496.2036\n",
            "Epoch 93/100\n",
            "34/34 [==============================] - 0s 2ms/step - loss: 5456.1982 - mae: 5456.1982\n",
            "Epoch 94/100\n",
            "34/34 [==============================] - 0s 2ms/step - loss: 5410.9512 - mae: 5410.9512\n",
            "Epoch 95/100\n",
            "34/34 [==============================] - 0s 3ms/step - loss: 5360.3579 - mae: 5360.3579\n",
            "Epoch 96/100\n",
            "34/34 [==============================] - 0s 3ms/step - loss: 5316.1382 - mae: 5316.1382\n",
            "Epoch 97/100\n",
            "34/34 [==============================] - 0s 2ms/step - loss: 5262.6870 - mae: 5262.6870\n",
            "Epoch 98/100\n",
            "34/34 [==============================] - 0s 2ms/step - loss: 5202.4941 - mae: 5202.4941\n",
            "Epoch 99/100\n",
            "34/34 [==============================] - 0s 2ms/step - loss: 5144.7466 - mae: 5144.7466\n",
            "Epoch 100/100\n",
            "34/34 [==============================] - 0s 2ms/step - loss: 5088.9570 - mae: 5088.9570\n"
          ]
        },
        {
          "output_type": "execute_result",
          "data": {
            "text/plain": [
              "<tf_keras.src.callbacks.History at 0x78703818da50>"
            ]
          },
          "metadata": {},
          "execution_count": 82
        }
      ]
    },
    {
      "cell_type": "code",
      "metadata": {
        "colab": {
          "base_uri": "https://localhost:8080/"
        },
        "id": "TRqPnfiW9KDy",
        "outputId": "a2583ca5-7d89-402b-9d42-7a011bb58a49"
      },
      "source": [
        "# Evaluate the larger model\n",
        "insurance_model_2.evaluate(X_test, y_test)"
      ],
      "execution_count": 83,
      "outputs": [
        {
          "output_type": "stream",
          "name": "stdout",
          "text": [
            "9/9 [==============================] - 0s 3ms/step - loss: 4957.1792 - mae: 4957.1792\n"
          ]
        },
        {
          "output_type": "execute_result",
          "data": {
            "text/plain": [
              "[4957.17919921875, 4957.17919921875]"
            ]
          },
          "metadata": {},
          "execution_count": 83
        }
      ]
    },
    {
      "cell_type": "code",
      "metadata": {
        "colab": {
          "base_uri": "https://localhost:8080/"
        },
        "id": "WnV2Vsn79Wj1",
        "outputId": "162daad6-8fd8-4184-d09c-319f2ccdcd0c"
      },
      "source": [
        "insurance_model.evaluate(X_test, y_test)"
      ],
      "execution_count": 84,
      "outputs": [
        {
          "output_type": "stream",
          "name": "stdout",
          "text": [
            "9/9 [==============================] - 0s 2ms/step - loss: 8802.3535 - mae: 8802.3535\n"
          ]
        },
        {
          "output_type": "execute_result",
          "data": {
            "text/plain": [
              "[8802.353515625, 8802.353515625]"
            ]
          },
          "metadata": {},
          "execution_count": 84
        }
      ]
    },
    {
      "cell_type": "code",
      "metadata": {
        "colab": {
          "base_uri": "https://localhost:8080/"
        },
        "id": "cKl1-Eir98Si",
        "outputId": "a1445bb3-c802-43b9-cada-741daa3552e0"
      },
      "source": [
        "# Set random set\n",
        "tf.random.set_seed(42)\n",
        "\n",
        "# 1. Create the model (same as above)\n",
        "insurance_model_3 = keras.Sequential([\n",
        "  keras.layers.Dense(100),\n",
        "  keras.layers.Dense(10),\n",
        "  keras.layers.Dense(1)\n",
        "])\n",
        "\n",
        "# 2. Compile the model\n",
        "insurance_model_3.compile(loss=keras.losses.mae,\n",
        "                          optimizer=keras.optimizers.Adam(),\n",
        "                          metrics=[\"mae\"])\n",
        "\n",
        "# 3. Fit the model\n",
        "history = insurance_model_3.fit(X_train, y_train, epochs=200)"
      ],
      "execution_count": 85,
      "outputs": [
        {
          "output_type": "stream",
          "name": "stdout",
          "text": [
            "Epoch 1/200\n",
            "34/34 [==============================] - 1s 2ms/step - loss: 13262.6777 - mae: 13262.6777\n",
            "Epoch 2/200\n",
            "34/34 [==============================] - 0s 2ms/step - loss: 13073.5137 - mae: 13073.5137\n",
            "Epoch 3/200\n",
            "34/34 [==============================] - 0s 2ms/step - loss: 12688.8496 - mae: 12688.8496\n",
            "Epoch 4/200\n",
            "34/34 [==============================] - 0s 2ms/step - loss: 11958.4033 - mae: 11958.4033\n",
            "Epoch 5/200\n",
            "34/34 [==============================] - 0s 2ms/step - loss: 10780.2939 - mae: 10780.2939\n",
            "Epoch 6/200\n",
            "34/34 [==============================] - 0s 2ms/step - loss: 9340.8643 - mae: 9340.8643\n",
            "Epoch 7/200\n",
            "34/34 [==============================] - 0s 3ms/step - loss: 8073.5459 - mae: 8073.5459\n",
            "Epoch 8/200\n",
            "34/34 [==============================] - 0s 2ms/step - loss: 7516.7822 - mae: 7516.7822\n",
            "Epoch 9/200\n",
            "34/34 [==============================] - 0s 2ms/step - loss: 7431.9224 - mae: 7431.9224\n",
            "Epoch 10/200\n",
            "34/34 [==============================] - 0s 2ms/step - loss: 7413.0117 - mae: 7413.0117\n",
            "Epoch 11/200\n",
            "34/34 [==============================] - 0s 2ms/step - loss: 7394.9141 - mae: 7394.9141\n",
            "Epoch 12/200\n",
            "34/34 [==============================] - 0s 3ms/step - loss: 7373.4438 - mae: 7373.4438\n",
            "Epoch 13/200\n",
            "34/34 [==============================] - 0s 2ms/step - loss: 7353.6816 - mae: 7353.6816\n",
            "Epoch 14/200\n",
            "34/34 [==============================] - 0s 2ms/step - loss: 7332.0269 - mae: 7332.0269\n",
            "Epoch 15/200\n",
            "34/34 [==============================] - 0s 2ms/step - loss: 7313.4087 - mae: 7313.4087\n",
            "Epoch 16/200\n",
            "34/34 [==============================] - 0s 2ms/step - loss: 7291.8374 - mae: 7291.8374\n",
            "Epoch 17/200\n",
            "34/34 [==============================] - 0s 2ms/step - loss: 7272.2388 - mae: 7272.2388\n",
            "Epoch 18/200\n",
            "34/34 [==============================] - 0s 4ms/step - loss: 7249.2163 - mae: 7249.2163\n",
            "Epoch 19/200\n",
            "34/34 [==============================] - 0s 4ms/step - loss: 7227.3730 - mae: 7227.3730\n",
            "Epoch 20/200\n",
            "34/34 [==============================] - 0s 5ms/step - loss: 7204.7314 - mae: 7204.7314\n",
            "Epoch 21/200\n",
            "34/34 [==============================] - 0s 4ms/step - loss: 7186.0273 - mae: 7186.0273\n",
            "Epoch 22/200\n",
            "34/34 [==============================] - 0s 3ms/step - loss: 7159.0898 - mae: 7159.0898\n",
            "Epoch 23/200\n",
            "34/34 [==============================] - 0s 3ms/step - loss: 7134.9028 - mae: 7134.9028\n",
            "Epoch 24/200\n",
            "34/34 [==============================] - 0s 3ms/step - loss: 7110.6206 - mae: 7110.6206\n",
            "Epoch 25/200\n",
            "34/34 [==============================] - 0s 3ms/step - loss: 7092.3887 - mae: 7092.3887\n",
            "Epoch 26/200\n",
            "34/34 [==============================] - 0s 4ms/step - loss: 7061.9282 - mae: 7061.9282\n",
            "Epoch 27/200\n",
            "34/34 [==============================] - 0s 3ms/step - loss: 7033.6011 - mae: 7033.6011\n",
            "Epoch 28/200\n",
            "34/34 [==============================] - 0s 3ms/step - loss: 7006.1401 - mae: 7006.1401\n",
            "Epoch 29/200\n",
            "34/34 [==============================] - 0s 3ms/step - loss: 6978.4390 - mae: 6978.4390\n",
            "Epoch 30/200\n",
            "34/34 [==============================] - 0s 4ms/step - loss: 6952.1128 - mae: 6952.1128\n",
            "Epoch 31/200\n",
            "34/34 [==============================] - 0s 3ms/step - loss: 6920.9263 - mae: 6920.9263\n",
            "Epoch 32/200\n",
            "34/34 [==============================] - 0s 3ms/step - loss: 6893.2153 - mae: 6893.2153\n",
            "Epoch 33/200\n",
            "34/34 [==============================] - 0s 3ms/step - loss: 6863.1948 - mae: 6863.1948\n",
            "Epoch 34/200\n",
            "34/34 [==============================] - 0s 3ms/step - loss: 6831.6035 - mae: 6831.6035\n",
            "Epoch 35/200\n",
            "34/34 [==============================] - 0s 5ms/step - loss: 6799.2163 - mae: 6799.2163\n",
            "Epoch 36/200\n",
            "34/34 [==============================] - 0s 4ms/step - loss: 6765.7495 - mae: 6765.7495\n",
            "Epoch 37/200\n",
            "34/34 [==============================] - 0s 4ms/step - loss: 6730.3438 - mae: 6730.3438\n",
            "Epoch 38/200\n",
            "34/34 [==============================] - 0s 4ms/step - loss: 6699.0503 - mae: 6699.0503\n",
            "Epoch 39/200\n",
            "34/34 [==============================] - 0s 3ms/step - loss: 6661.2476 - mae: 6661.2476\n",
            "Epoch 40/200\n",
            "34/34 [==============================] - 0s 4ms/step - loss: 6626.8765 - mae: 6626.8765\n",
            "Epoch 41/200\n",
            "34/34 [==============================] - 0s 3ms/step - loss: 6593.6597 - mae: 6593.6597\n",
            "Epoch 42/200\n",
            "34/34 [==============================] - 0s 4ms/step - loss: 6566.0059 - mae: 6566.0059\n",
            "Epoch 43/200\n",
            "34/34 [==============================] - 0s 3ms/step - loss: 6536.2676 - mae: 6536.2676\n",
            "Epoch 44/200\n",
            "34/34 [==============================] - 0s 2ms/step - loss: 6512.1055 - mae: 6512.1055\n",
            "Epoch 45/200\n",
            "34/34 [==============================] - 0s 2ms/step - loss: 6495.8579 - mae: 6495.8579\n",
            "Epoch 46/200\n",
            "34/34 [==============================] - 0s 2ms/step - loss: 6479.6025 - mae: 6479.6025\n",
            "Epoch 47/200\n",
            "34/34 [==============================] - 0s 2ms/step - loss: 6462.2749 - mae: 6462.2749\n",
            "Epoch 48/200\n",
            "34/34 [==============================] - 0s 2ms/step - loss: 6447.5664 - mae: 6447.5664\n",
            "Epoch 49/200\n",
            "34/34 [==============================] - 0s 2ms/step - loss: 6434.3296 - mae: 6434.3296\n",
            "Epoch 50/200\n",
            "34/34 [==============================] - 0s 2ms/step - loss: 6420.6060 - mae: 6420.6060\n",
            "Epoch 51/200\n",
            "34/34 [==============================] - 0s 2ms/step - loss: 6407.0508 - mae: 6407.0508\n",
            "Epoch 52/200\n",
            "34/34 [==============================] - 0s 2ms/step - loss: 6396.5454 - mae: 6396.5454\n",
            "Epoch 53/200\n",
            "34/34 [==============================] - 0s 3ms/step - loss: 6382.3540 - mae: 6382.3540\n",
            "Epoch 54/200\n",
            "34/34 [==============================] - 0s 3ms/step - loss: 6368.9565 - mae: 6368.9565\n",
            "Epoch 55/200\n",
            "34/34 [==============================] - 0s 3ms/step - loss: 6355.8809 - mae: 6355.8809\n",
            "Epoch 56/200\n",
            "34/34 [==============================] - 0s 2ms/step - loss: 6341.9634 - mae: 6341.9634\n",
            "Epoch 57/200\n",
            "34/34 [==============================] - 0s 2ms/step - loss: 6329.3989 - mae: 6329.3989\n",
            "Epoch 58/200\n",
            "34/34 [==============================] - 0s 2ms/step - loss: 6315.6875 - mae: 6315.6875\n",
            "Epoch 59/200\n",
            "34/34 [==============================] - 0s 2ms/step - loss: 6301.1719 - mae: 6301.1719\n",
            "Epoch 60/200\n",
            "34/34 [==============================] - 0s 3ms/step - loss: 6290.8701 - mae: 6290.8701\n",
            "Epoch 61/200\n",
            "34/34 [==============================] - 0s 2ms/step - loss: 6272.1167 - mae: 6272.1167\n",
            "Epoch 62/200\n",
            "34/34 [==============================] - 0s 2ms/step - loss: 6260.0596 - mae: 6260.0596\n",
            "Epoch 63/200\n",
            "34/34 [==============================] - 0s 2ms/step - loss: 6242.7422 - mae: 6242.7422\n",
            "Epoch 64/200\n",
            "34/34 [==============================] - 0s 3ms/step - loss: 6225.8110 - mae: 6225.8110\n",
            "Epoch 65/200\n",
            "34/34 [==============================] - 0s 3ms/step - loss: 6209.8799 - mae: 6209.8799\n",
            "Epoch 66/200\n",
            "34/34 [==============================] - 0s 3ms/step - loss: 6193.3696 - mae: 6193.3696\n",
            "Epoch 67/200\n",
            "34/34 [==============================] - 0s 2ms/step - loss: 6181.5767 - mae: 6181.5767\n",
            "Epoch 68/200\n",
            "34/34 [==============================] - 0s 2ms/step - loss: 6159.6055 - mae: 6159.6055\n",
            "Epoch 69/200\n",
            "34/34 [==============================] - 0s 2ms/step - loss: 6143.9062 - mae: 6143.9062\n",
            "Epoch 70/200\n",
            "34/34 [==============================] - 0s 2ms/step - loss: 6124.0767 - mae: 6124.0767\n",
            "Epoch 71/200\n",
            "34/34 [==============================] - 0s 2ms/step - loss: 6105.6333 - mae: 6105.6333\n",
            "Epoch 72/200\n",
            "34/34 [==============================] - 0s 3ms/step - loss: 6087.2764 - mae: 6087.2764\n",
            "Epoch 73/200\n",
            "34/34 [==============================] - 0s 2ms/step - loss: 6073.5835 - mae: 6073.5835\n",
            "Epoch 74/200\n",
            "34/34 [==============================] - 0s 2ms/step - loss: 6047.4966 - mae: 6047.4966\n",
            "Epoch 75/200\n",
            "34/34 [==============================] - 0s 3ms/step - loss: 6028.1128 - mae: 6028.1128\n",
            "Epoch 76/200\n",
            "34/34 [==============================] - 0s 3ms/step - loss: 6014.3032 - mae: 6014.3032\n",
            "Epoch 77/200\n",
            "34/34 [==============================] - 0s 3ms/step - loss: 5981.8418 - mae: 5981.8418\n",
            "Epoch 78/200\n",
            "34/34 [==============================] - 0s 2ms/step - loss: 5960.4297 - mae: 5960.4297\n",
            "Epoch 79/200\n",
            "34/34 [==============================] - 0s 2ms/step - loss: 5937.5635 - mae: 5937.5635\n",
            "Epoch 80/200\n",
            "34/34 [==============================] - 0s 2ms/step - loss: 5911.6235 - mae: 5911.6235\n",
            "Epoch 81/200\n",
            "34/34 [==============================] - 0s 2ms/step - loss: 5886.7539 - mae: 5886.7539\n",
            "Epoch 82/200\n",
            "34/34 [==============================] - 0s 2ms/step - loss: 5860.4980 - mae: 5860.4980\n",
            "Epoch 83/200\n",
            "34/34 [==============================] - 0s 2ms/step - loss: 5833.7202 - mae: 5833.7202\n",
            "Epoch 84/200\n",
            "34/34 [==============================] - 0s 2ms/step - loss: 5801.7422 - mae: 5801.7422\n",
            "Epoch 85/200\n",
            "34/34 [==============================] - 0s 2ms/step - loss: 5776.6040 - mae: 5776.6040\n",
            "Epoch 86/200\n",
            "34/34 [==============================] - 0s 2ms/step - loss: 5744.5781 - mae: 5744.5781\n",
            "Epoch 87/200\n",
            "34/34 [==============================] - 0s 3ms/step - loss: 5710.4087 - mae: 5710.4087\n",
            "Epoch 88/200\n",
            "34/34 [==============================] - 0s 3ms/step - loss: 5678.8149 - mae: 5678.8149\n",
            "Epoch 89/200\n",
            "34/34 [==============================] - 0s 2ms/step - loss: 5641.6577 - mae: 5641.6577\n",
            "Epoch 90/200\n",
            "34/34 [==============================] - 0s 2ms/step - loss: 5603.4272 - mae: 5603.4272\n",
            "Epoch 91/200\n",
            "34/34 [==============================] - 0s 2ms/step - loss: 5571.1040 - mae: 5571.1040\n",
            "Epoch 92/200\n",
            "34/34 [==============================] - 0s 2ms/step - loss: 5524.2397 - mae: 5524.2397\n",
            "Epoch 93/200\n",
            "34/34 [==============================] - 0s 2ms/step - loss: 5486.2349 - mae: 5486.2349\n",
            "Epoch 94/200\n",
            "34/34 [==============================] - 0s 2ms/step - loss: 5443.9736 - mae: 5443.9736\n",
            "Epoch 95/200\n",
            "34/34 [==============================] - 0s 3ms/step - loss: 5394.1699 - mae: 5394.1699\n",
            "Epoch 96/200\n",
            "34/34 [==============================] - 0s 2ms/step - loss: 5353.9194 - mae: 5353.9194\n",
            "Epoch 97/200\n",
            "34/34 [==============================] - 0s 2ms/step - loss: 5303.1675 - mae: 5303.1675\n",
            "Epoch 98/200\n",
            "34/34 [==============================] - 0s 3ms/step - loss: 5246.2617 - mae: 5246.2617\n",
            "Epoch 99/200\n",
            "34/34 [==============================] - 0s 3ms/step - loss: 5191.4570 - mae: 5191.4570\n",
            "Epoch 100/200\n",
            "34/34 [==============================] - 0s 3ms/step - loss: 5136.8169 - mae: 5136.8169\n",
            "Epoch 101/200\n",
            "34/34 [==============================] - 0s 2ms/step - loss: 5072.1421 - mae: 5072.1421\n",
            "Epoch 102/200\n",
            "34/34 [==============================] - 0s 2ms/step - loss: 5008.3091 - mae: 5008.3091\n",
            "Epoch 103/200\n",
            "34/34 [==============================] - 0s 2ms/step - loss: 4945.2236 - mae: 4945.2236\n",
            "Epoch 104/200\n",
            "34/34 [==============================] - 0s 2ms/step - loss: 4871.4756 - mae: 4871.4756\n",
            "Epoch 105/200\n",
            "34/34 [==============================] - 0s 2ms/step - loss: 4794.7739 - mae: 4794.7739\n",
            "Epoch 106/200\n",
            "34/34 [==============================] - 0s 2ms/step - loss: 4716.5449 - mae: 4716.5449\n",
            "Epoch 107/200\n",
            "34/34 [==============================] - 0s 3ms/step - loss: 4636.1582 - mae: 4636.1582\n",
            "Epoch 108/200\n",
            "34/34 [==============================] - 0s 2ms/step - loss: 4549.5288 - mae: 4549.5288\n",
            "Epoch 109/200\n",
            "34/34 [==============================] - 0s 2ms/step - loss: 4463.0562 - mae: 4463.0562\n",
            "Epoch 110/200\n",
            "34/34 [==============================] - 0s 3ms/step - loss: 4378.4268 - mae: 4378.4268\n",
            "Epoch 111/200\n",
            "34/34 [==============================] - 0s 3ms/step - loss: 4293.8936 - mae: 4293.8936\n",
            "Epoch 112/200\n",
            "34/34 [==============================] - 0s 2ms/step - loss: 4219.0049 - mae: 4219.0049\n",
            "Epoch 113/200\n",
            "34/34 [==============================] - 0s 2ms/step - loss: 4137.5898 - mae: 4137.5898\n",
            "Epoch 114/200\n",
            "34/34 [==============================] - 0s 2ms/step - loss: 4066.5461 - mae: 4066.5461\n",
            "Epoch 115/200\n",
            "34/34 [==============================] - 0s 2ms/step - loss: 4001.0000 - mae: 4001.0000\n",
            "Epoch 116/200\n",
            "34/34 [==============================] - 0s 2ms/step - loss: 3969.5701 - mae: 3969.5701\n",
            "Epoch 117/200\n",
            "34/34 [==============================] - 0s 2ms/step - loss: 3941.8630 - mae: 3941.8630\n",
            "Epoch 118/200\n",
            "34/34 [==============================] - 0s 2ms/step - loss: 3913.9888 - mae: 3913.9888\n",
            "Epoch 119/200\n",
            "34/34 [==============================] - 0s 2ms/step - loss: 3882.6755 - mae: 3882.6755\n",
            "Epoch 120/200\n",
            "34/34 [==============================] - 0s 2ms/step - loss: 3856.7903 - mae: 3856.7903\n",
            "Epoch 121/200\n",
            "34/34 [==============================] - 0s 3ms/step - loss: 3847.1074 - mae: 3847.1074\n",
            "Epoch 122/200\n",
            "34/34 [==============================] - 0s 3ms/step - loss: 3838.8083 - mae: 3838.8083\n",
            "Epoch 123/200\n",
            "34/34 [==============================] - 0s 3ms/step - loss: 3830.7466 - mae: 3830.7466\n",
            "Epoch 124/200\n",
            "34/34 [==============================] - 0s 2ms/step - loss: 3819.4880 - mae: 3819.4880\n",
            "Epoch 125/200\n",
            "34/34 [==============================] - 0s 2ms/step - loss: 3807.3469 - mae: 3807.3469\n",
            "Epoch 126/200\n",
            "34/34 [==============================] - 0s 2ms/step - loss: 3819.1152 - mae: 3819.1152\n",
            "Epoch 127/200\n",
            "34/34 [==============================] - 0s 2ms/step - loss: 3805.2930 - mae: 3805.2930\n",
            "Epoch 128/200\n",
            "34/34 [==============================] - 0s 2ms/step - loss: 3800.7393 - mae: 3800.7393\n",
            "Epoch 129/200\n",
            "34/34 [==============================] - 0s 2ms/step - loss: 3808.8191 - mae: 3808.8191\n",
            "Epoch 130/200\n",
            "34/34 [==============================] - 0s 3ms/step - loss: 3794.4890 - mae: 3794.4890\n",
            "Epoch 131/200\n",
            "34/34 [==============================] - 0s 2ms/step - loss: 3788.2993 - mae: 3788.2993\n",
            "Epoch 132/200\n",
            "34/34 [==============================] - 0s 3ms/step - loss: 3781.9697 - mae: 3781.9697\n",
            "Epoch 133/200\n",
            "34/34 [==============================] - 0s 3ms/step - loss: 3777.4631 - mae: 3777.4631\n",
            "Epoch 134/200\n",
            "34/34 [==============================] - 0s 2ms/step - loss: 3777.0808 - mae: 3777.0808\n",
            "Epoch 135/200\n",
            "34/34 [==============================] - 0s 2ms/step - loss: 3773.3662 - mae: 3773.3662\n",
            "Epoch 136/200\n",
            "34/34 [==============================] - 0s 2ms/step - loss: 3771.9026 - mae: 3771.9026\n",
            "Epoch 137/200\n",
            "34/34 [==============================] - 0s 2ms/step - loss: 3781.0508 - mae: 3781.0508\n",
            "Epoch 138/200\n",
            "34/34 [==============================] - 0s 2ms/step - loss: 3784.0994 - mae: 3784.0994\n",
            "Epoch 139/200\n",
            "34/34 [==============================] - 0s 2ms/step - loss: 3767.3296 - mae: 3767.3296\n",
            "Epoch 140/200\n",
            "34/34 [==============================] - 0s 2ms/step - loss: 3766.5476 - mae: 3766.5476\n",
            "Epoch 141/200\n",
            "34/34 [==============================] - 0s 2ms/step - loss: 3768.7947 - mae: 3768.7947\n",
            "Epoch 142/200\n",
            "34/34 [==============================] - 0s 2ms/step - loss: 3768.3555 - mae: 3768.3555\n",
            "Epoch 143/200\n",
            "34/34 [==============================] - 0s 3ms/step - loss: 3760.4016 - mae: 3760.4016\n",
            "Epoch 144/200\n",
            "34/34 [==============================] - 0s 3ms/step - loss: 3755.8789 - mae: 3755.8789\n",
            "Epoch 145/200\n",
            "34/34 [==============================] - 0s 3ms/step - loss: 3756.2078 - mae: 3756.2078\n",
            "Epoch 146/200\n",
            "34/34 [==============================] - 0s 2ms/step - loss: 3760.1628 - mae: 3760.1628\n",
            "Epoch 147/200\n",
            "34/34 [==============================] - 0s 2ms/step - loss: 3757.5947 - mae: 3757.5947\n",
            "Epoch 148/200\n",
            "34/34 [==============================] - 0s 2ms/step - loss: 3762.0151 - mae: 3762.0151\n",
            "Epoch 149/200\n",
            "34/34 [==============================] - 0s 2ms/step - loss: 3748.9709 - mae: 3748.9709\n",
            "Epoch 150/200\n",
            "34/34 [==============================] - 0s 2ms/step - loss: 3743.2861 - mae: 3743.2861\n",
            "Epoch 151/200\n",
            "34/34 [==============================] - 0s 2ms/step - loss: 3745.9719 - mae: 3745.9719\n",
            "Epoch 152/200\n",
            "34/34 [==============================] - 0s 2ms/step - loss: 3748.3506 - mae: 3748.3506\n",
            "Epoch 153/200\n",
            "34/34 [==============================] - 0s 3ms/step - loss: 3748.7163 - mae: 3748.7163\n",
            "Epoch 154/200\n",
            "34/34 [==============================] - 0s 2ms/step - loss: 3742.0635 - mae: 3742.0635\n",
            "Epoch 155/200\n",
            "34/34 [==============================] - 0s 3ms/step - loss: 3745.1106 - mae: 3745.1106\n",
            "Epoch 156/200\n",
            "34/34 [==============================] - 0s 4ms/step - loss: 3740.7058 - mae: 3740.7058\n",
            "Epoch 157/200\n",
            "34/34 [==============================] - 0s 4ms/step - loss: 3738.3142 - mae: 3738.3142\n",
            "Epoch 158/200\n",
            "34/34 [==============================] - 0s 3ms/step - loss: 3734.5693 - mae: 3734.5693\n",
            "Epoch 159/200\n",
            "34/34 [==============================] - 0s 3ms/step - loss: 3732.6829 - mae: 3732.6829\n",
            "Epoch 160/200\n",
            "34/34 [==============================] - 0s 3ms/step - loss: 3737.9563 - mae: 3737.9563\n",
            "Epoch 161/200\n",
            "34/34 [==============================] - 0s 3ms/step - loss: 3733.8794 - mae: 3733.8794\n",
            "Epoch 162/200\n",
            "34/34 [==============================] - 0s 4ms/step - loss: 3728.2075 - mae: 3728.2075\n",
            "Epoch 163/200\n",
            "34/34 [==============================] - 0s 5ms/step - loss: 3727.3972 - mae: 3727.3972\n",
            "Epoch 164/200\n",
            "34/34 [==============================] - 0s 4ms/step - loss: 3731.5298 - mae: 3731.5298\n",
            "Epoch 165/200\n",
            "34/34 [==============================] - 0s 4ms/step - loss: 3724.1401 - mae: 3724.1401\n",
            "Epoch 166/200\n",
            "34/34 [==============================] - 0s 3ms/step - loss: 3726.1746 - mae: 3726.1746\n",
            "Epoch 167/200\n",
            "34/34 [==============================] - 0s 4ms/step - loss: 3724.6809 - mae: 3724.6809\n",
            "Epoch 168/200\n",
            "34/34 [==============================] - 0s 4ms/step - loss: 3721.2661 - mae: 3721.2661\n",
            "Epoch 169/200\n",
            "34/34 [==============================] - 0s 4ms/step - loss: 3719.4756 - mae: 3719.4756\n",
            "Epoch 170/200\n",
            "34/34 [==============================] - 0s 5ms/step - loss: 3712.9758 - mae: 3712.9758\n",
            "Epoch 171/200\n",
            "34/34 [==============================] - 0s 4ms/step - loss: 3712.9141 - mae: 3712.9141\n",
            "Epoch 172/200\n",
            "34/34 [==============================] - 0s 4ms/step - loss: 3713.6572 - mae: 3713.6572\n",
            "Epoch 173/200\n",
            "34/34 [==============================] - 0s 3ms/step - loss: 3710.9014 - mae: 3710.9014\n",
            "Epoch 174/200\n",
            "34/34 [==============================] - 0s 4ms/step - loss: 3713.9238 - mae: 3713.9238\n",
            "Epoch 175/200\n",
            "34/34 [==============================] - 0s 3ms/step - loss: 3715.0171 - mae: 3715.0171\n",
            "Epoch 176/200\n",
            "34/34 [==============================] - 0s 4ms/step - loss: 3711.1658 - mae: 3711.1658\n",
            "Epoch 177/200\n",
            "34/34 [==============================] - 0s 4ms/step - loss: 3705.2185 - mae: 3705.2185\n",
            "Epoch 178/200\n",
            "34/34 [==============================] - 0s 4ms/step - loss: 3700.8552 - mae: 3700.8552\n",
            "Epoch 179/200\n",
            "34/34 [==============================] - 0s 4ms/step - loss: 3710.2581 - mae: 3710.2581\n",
            "Epoch 180/200\n",
            "34/34 [==============================] - 0s 4ms/step - loss: 3714.7412 - mae: 3714.7412\n",
            "Epoch 181/200\n",
            "34/34 [==============================] - 0s 2ms/step - loss: 3701.3376 - mae: 3701.3376\n",
            "Epoch 182/200\n",
            "34/34 [==============================] - 0s 2ms/step - loss: 3699.4534 - mae: 3699.4534\n",
            "Epoch 183/200\n",
            "34/34 [==============================] - 0s 2ms/step - loss: 3697.0793 - mae: 3697.0793\n",
            "Epoch 184/200\n",
            "34/34 [==============================] - 0s 2ms/step - loss: 3701.9507 - mae: 3701.9507\n",
            "Epoch 185/200\n",
            "34/34 [==============================] - 0s 3ms/step - loss: 3697.7522 - mae: 3697.7522\n",
            "Epoch 186/200\n",
            "34/34 [==============================] - 0s 3ms/step - loss: 3700.2832 - mae: 3700.2832\n",
            "Epoch 187/200\n",
            "34/34 [==============================] - 0s 3ms/step - loss: 3693.4094 - mae: 3693.4094\n",
            "Epoch 188/200\n",
            "34/34 [==============================] - 0s 2ms/step - loss: 3698.9109 - mae: 3698.9109\n",
            "Epoch 189/200\n",
            "34/34 [==============================] - 0s 2ms/step - loss: 3689.1565 - mae: 3689.1565\n",
            "Epoch 190/200\n",
            "34/34 [==============================] - 0s 2ms/step - loss: 3689.0137 - mae: 3689.0137\n",
            "Epoch 191/200\n",
            "34/34 [==============================] - 0s 2ms/step - loss: 3706.6304 - mae: 3706.6304\n",
            "Epoch 192/200\n",
            "34/34 [==============================] - 0s 2ms/step - loss: 3690.2307 - mae: 3690.2307\n",
            "Epoch 193/200\n",
            "34/34 [==============================] - 0s 2ms/step - loss: 3679.6060 - mae: 3679.6060\n",
            "Epoch 194/200\n",
            "34/34 [==============================] - 0s 2ms/step - loss: 3680.2419 - mae: 3680.2419\n",
            "Epoch 195/200\n",
            "34/34 [==============================] - 0s 2ms/step - loss: 3678.1077 - mae: 3678.1077\n",
            "Epoch 196/200\n",
            "34/34 [==============================] - 0s 3ms/step - loss: 3686.0977 - mae: 3686.0977\n",
            "Epoch 197/200\n",
            "34/34 [==============================] - 0s 3ms/step - loss: 3671.2205 - mae: 3671.2205\n",
            "Epoch 198/200\n",
            "34/34 [==============================] - 0s 3ms/step - loss: 3676.8655 - mae: 3676.8655\n",
            "Epoch 199/200\n",
            "34/34 [==============================] - 0s 2ms/step - loss: 3684.7029 - mae: 3684.7029\n",
            "Epoch 200/200\n",
            "34/34 [==============================] - 0s 2ms/step - loss: 3671.9019 - mae: 3671.9019\n"
          ]
        }
      ]
    },
    {
      "cell_type": "code",
      "metadata": {
        "colab": {
          "base_uri": "https://localhost:8080/"
        },
        "id": "DX918PcL-n8s",
        "outputId": "8b7a9410-a7a0-4c7e-a67b-0c86e87777a2"
      },
      "source": [
        "# Evaluate our third model\n",
        "insurance_model_3.evaluate(X_test, y_test)"
      ],
      "execution_count": 86,
      "outputs": [
        {
          "output_type": "stream",
          "name": "stdout",
          "text": [
            "9/9 [==============================] - 0s 2ms/step - loss: 3500.0059 - mae: 3500.0059\n"
          ]
        },
        {
          "output_type": "execute_result",
          "data": {
            "text/plain": [
              "[3500.005859375, 3500.005859375]"
            ]
          },
          "metadata": {},
          "execution_count": 86
        }
      ]
    },
    {
      "cell_type": "code",
      "metadata": {
        "colab": {
          "base_uri": "https://localhost:8080/"
        },
        "id": "ImGrhOUu-w8J",
        "outputId": "3894beff-acd2-4f3c-c87b-8d09468106cb"
      },
      "source": [
        "insurance_model.evaluate(X_test, y_test)"
      ],
      "execution_count": 87,
      "outputs": [
        {
          "output_type": "stream",
          "name": "stdout",
          "text": [
            "9/9 [==============================] - 0s 2ms/step - loss: 8802.3535 - mae: 8802.3535\n"
          ]
        },
        {
          "output_type": "execute_result",
          "data": {
            "text/plain": [
              "[8802.353515625, 8802.353515625]"
            ]
          },
          "metadata": {},
          "execution_count": 87
        }
      ]
    },
    {
      "cell_type": "code",
      "metadata": {
        "colab": {
          "base_uri": "https://localhost:8080/",
          "height": 466
        },
        "id": "5obI_2qh-3Yl",
        "outputId": "277bf2ed-e5b2-47e4-ce90-8b0508369de3"
      },
      "source": [
        "# Plot history (also known as a loss curve or a training curve)\n",
        "pd.DataFrame(history.history).plot()\n",
        "plt.ylabel(\"loss\")\n",
        "plt.xlabel(\"epochs\")"
      ],
      "execution_count": 88,
      "outputs": [
        {
          "output_type": "execute_result",
          "data": {
            "text/plain": [
              "Text(0.5, 0, 'epochs')"
            ]
          },
          "metadata": {},
          "execution_count": 88
        },
        {
          "output_type": "display_data",
          "data": {
            "text/plain": [
              "<Figure size 640x480 with 1 Axes>"
            ],
            "image/png": "[encoded data removed]"
          },
          "metadata": {}
        }
      ]
    },
    {
      "cell_type": "markdown",
      "metadata": {
        "id": "ifIrgZbp_JBA"
      },
      "source": [
        "> 🤔 **Question:** How long should you train for?\n",
        "\n",
        "It depends. Really... it depends on the problem you're working on. However, many people have asked this question before... so TensorFlow has a solution! It's called the [EarlyStopping Callback](https://www.tensorflow.org/api_docs/python/tf/keras/callbacks/EarlyStopping), which is a TensorFlow component you can add to your model to stop training once it stops improving a certain metric."
      ]
    },
    {
      "cell_type": "markdown",
      "metadata": {
        "id": "19mmj6JTACaR"
      },
      "source": [
        "## Preprocessing data (normalization and standardization)\n",
        "\n",
        "In terms of scaling values, neural networks tend to prefer normalization.\n",
        "\n",
        "If you're not sure on which to use, you could try both and see which performs better."
      ]
    },
    {
      "cell_type": "code",
      "metadata": {
        "colab": {
          "base_uri": "https://localhost:8080/",
          "height": 423
        },
        "id": "A9EZSNF_3MaY",
        "outputId": "23c0aeb1-0c36-48a4-887c-6b70911fba4e"
      },
      "source": [
        "import pandas as pd\n",
        "import matplotlib.pyplot as plt\n",
        "import tensorflow as tf\n",
        "\n",
        "# Read in the insurance dataframe\n",
        "insurance = pd.read_csv(\"https://raw.githubusercontent.com/stedy/Machine-Learning-with-R-datasets/master/insurance.csv\")\n",
        "insurance"
      ],
      "execution_count": 89,
      "outputs": [
        {
          "output_type": "execute_result",
          "data": {
            "text/plain": [
              "      age     sex     bmi  children smoker     region      charges\n",
              "0      19  female  27.900         0    yes  southwest  16884.92400\n",
              "1      18    male  33.770         1     no  southeast   1725.55230\n",
              "2      28    male  33.000         3     no  southeast   4449.46200\n",
              "3      33    male  22.705         0     no  northwest  21984.47061\n",
              "4      32    male  28.880         0     no  northwest   3866.85520\n",
              "...   ...     ...     ...       ...    ...        ...          ...\n",
              "1333   50    male  30.970         3     no  northwest  10600.54830\n",
              "1334   18  female  31.920         0     no  northeast   2205.98080\n",
              "1335   18  female  36.850         0     no  southeast   1629.83350\n",
              "1336   21  female  25.800         0     no  southwest   2007.94500\n",
              "1337   61  female  29.070         0    yes  northwest  29141.36030\n",
              "\n",
              "[1338 rows x 7 columns]"
            ],
            "text/html": [
              "\n",
              "  <div id=\"df-1dc679e1-bdef-4bff-8212-688ed4164fe9\" class=\"colab-df-container\">\n",
              "    <div>\n",
              "<style scoped>\n",
              "    .dataframe tbody tr th:only-of-type {\n",
              "        vertical-align: middle;\n",
              "    }\n",
              "\n",
              "    .dataframe tbody tr th {\n",
              "        vertical-align: top;\n",
              "    }\n",
              "\n",
              "    .dataframe thead th {\n",
              "        text-align: right;\n",
              "    }\n",
              "</style>\n",
              "<table border=\"1\" class=\"dataframe\">\n",
              "  <thead>\n",
              "    <tr style=\"text-align: right;\">\n",
              "      <th></th>\n",
              "      <th>age</th>\n",
              "      <th>sex</th>\n",
              "      <th>bmi</th>\n",
              "      <th>children</th>\n",
              "      <th>smoker</th>\n",
              "      <th>region</th>\n",
              "      <th>charges</th>\n",
              "    </tr>\n",
              "  </thead>\n",
              "  <tbody>\n",
              "    <tr>\n",
              "      <th>0</th>\n",
              "      <td>19</td>\n",
              "      <td>female</td>\n",
              "      <td>27.900</td>\n",
              "      <td>0</td>\n",
              "      <td>yes</td>\n",
              "      <td>southwest</td>\n",
              "      <td>16884.92400</td>\n",
              "    </tr>\n",
              "    <tr>\n",
              "      <th>1</th>\n",
              "      <td>18</td>\n",
              "      <td>male</td>\n",
              "      <td>33.770</td>\n",
              "      <td>1</td>\n",
              "      <td>no</td>\n",
              "      <td>southeast</td>\n",
              "      <td>1725.55230</td>\n",
              "    </tr>\n",
              "    <tr>\n",
              "      <th>2</th>\n",
              "      <td>28</td>\n",
              "      <td>male</td>\n",
              "      <td>33.000</td>\n",
              "      <td>3</td>\n",
              "      <td>no</td>\n",
              "      <td>southeast</td>\n",
              "      <td>4449.46200</td>\n",
              "    </tr>\n",
              "    <tr>\n",
              "      <th>3</th>\n",
              "      <td>33</td>\n",
              "      <td>male</td>\n",
              "      <td>22.705</td>\n",
              "      <td>0</td>\n",
              "      <td>no</td>\n",
              "      <td>northwest</td>\n",
              "      <td>21984.47061</td>\n",
              "    </tr>\n",
              "    <tr>\n",
              "      <th>4</th>\n",
              "      <td>32</td>\n",
              "      <td>male</td>\n",
              "      <td>28.880</td>\n",
              "      <td>0</td>\n",
              "      <td>no</td>\n",
              "      <td>northwest</td>\n",
              "      <td>3866.85520</td>\n",
              "    </tr>\n",
              "    <tr>\n",
              "      <th>...</th>\n",
              "      <td>...</td>\n",
              "      <td>...</td>\n",
              "      <td>...</td>\n",
              "      <td>...</td>\n",
              "      <td>...</td>\n",
              "      <td>...</td>\n",
              "      <td>...</td>\n",
              "    </tr>\n",
              "    <tr>\n",
              "      <th>1333</th>\n",
              "      <td>50</td>\n",
              "      <td>male</td>\n",
              "      <td>30.970</td>\n",
              "      <td>3</td>\n",
              "      <td>no</td>\n",
              "      <td>northwest</td>\n",
              "      <td>10600.54830</td>\n",
              "    </tr>\n",
              "    <tr>\n",
              "      <th>1334</th>\n",
              "      <td>18</td>\n",
              "      <td>female</td>\n",
              "      <td>31.920</td>\n",
              "      <td>0</td>\n",
              "      <td>no</td>\n",
              "      <td>northeast</td>\n",
              "      <td>2205.98080</td>\n",
              "    </tr>\n",
              "    <tr>\n",
              "      <th>1335</th>\n",
              "      <td>18</td>\n",
              "      <td>female</td>\n",
              "      <td>36.850</td>\n",
              "      <td>0</td>\n",
              "      <td>no</td>\n",
              "      <td>southeast</td>\n",
              "      <td>1629.83350</td>\n",
              "    </tr>\n",
              "    <tr>\n",
              "      <th>1336</th>\n",
              "      <td>21</td>\n",
              "      <td>female</td>\n",
              "      <td>25.800</td>\n",
              "      <td>0</td>\n",
              "      <td>no</td>\n",
              "      <td>southwest</td>\n",
              "      <td>2007.94500</td>\n",
              "    </tr>\n",
              "    <tr>\n",
              "      <th>1337</th>\n",
              "      <td>61</td>\n",
              "      <td>female</td>\n",
              "      <td>29.070</td>\n",
              "      <td>0</td>\n",
              "      <td>yes</td>\n",
              "      <td>northwest</td>\n",
              "      <td>29141.36030</td>\n",
              "    </tr>\n",
              "  </tbody>\n",
              "</table>\n",
              "<p>1338 rows × 7 columns</p>\n",
              "</div>\n",
              "    <div class=\"colab-df-buttons\">\n",
              "\n",
              "  <div class=\"colab-df-container\">\n",
              "    <button class=\"colab-df-convert\" onclick=\"convertToInteractive('df-1dc679e1-bdef-4bff-8212-688ed4164fe9')\"\n",
              "            title=\"Convert this dataframe to an interactive table.\"\n",
              "            style=\"display:none;\">\n",
              "\n",
              "  <svg xmlns=\"http://www.w3.org/2000/svg\" height=\"24px\" viewBox=\"0 -960 960 960\">\n",
              "    <path d=\"M120-120v-720h720v720H120Zm60-500h600v-160H180v160Zm220 220h160v-160H400v160Zm0 220h160v-160H400v160ZM180-400h160v-160H180v160Zm440 0h160v-160H620v160ZM180-180h160v-160H180v160Zm440 0h160v-160H620v160Z\"/>\n",
              "  </svg>\n",
              "    </button>\n",
              "\n",
              "  <style>\n",
              "    .colab-df-container {\n",
              "      display:flex;\n",
              "      gap: 12px;\n",
              "    }\n",
              "\n",
              "    .colab-df-convert {\n",
              "      background-color: #E8F0FE;\n",
              "      border: none;\n",
              "      border-radius: 50%;\n",
              "      cursor: pointer;\n",
              "      display: none;\n",
              "      fill: #1967D2;\n",
              "      height: 32px;\n",
              "      padding: 0 0 0 0;\n",
              "      width: 32px;\n",
              "    }\n",
              "\n",
              "    .colab-df-convert:hover {\n",
              "      background-color: #E2EBFA;\n",
              "      box-shadow: 0px 1px 2px rgba(60, 64, 67, 0.3), 0px 1px 3px 1px rgba(60, 64, 67, 0.15);\n",
              "      fill: #174EA6;\n",
              "    }\n",
              "\n",
              "    .colab-df-buttons div {\n",
              "      margin-bottom: 4px;\n",
              "    }\n",
              "\n",
              "    [theme=dark] .colab-df-convert {\n",
              "      background-color: #3B4455;\n",
              "      fill: #D2E3FC;\n",
              "    }\n",
              "\n",
              "    [theme=dark] .colab-df-convert:hover {\n",
              "      background-color: #434B5C;\n",
              "      box-shadow: 0px 1px 3px 1px rgba(0, 0, 0, 0.15);\n",
              "      filter: drop-shadow(0px 1px 2px rgba(0, 0, 0, 0.3));\n",
              "      fill: #FFFFFF;\n",
              "    }\n",
              "  </style>\n",
              "\n",
              "    <script>\n",
              "      const buttonEl =\n",
              "        document.querySelector('#df-1dc679e1-bdef-4bff-8212-688ed4164fe9 button.colab-df-convert');\n",
              "      buttonEl.style.display =\n",
              "        google.colab.kernel.accessAllowed ? 'block' : 'none';\n",
              "\n",
              "      async function convertToInteractive(key) {\n",
              "        const element = document.querySelector('#df-1dc679e1-bdef-4bff-8212-688ed4164fe9');\n",
              "        const dataTable =\n",
              "          await google.colab.kernel.invokeFunction('convertToInteractive',\n",
              "                                                    [key], {});\n",
              "        if (!dataTable) return;\n",
              "\n",
              "        const docLinkHtml = 'Like what you see? Visit the ' +\n",
              "          '<a target=\"_blank\" href=https://colab.research.google.com/notebooks/data_table.ipynb>data table notebook</a>'\n",
              "          + ' to learn more about interactive tables.';\n",
              "        element.innerHTML = '';\n",
              "        dataTable['output_type'] = 'display_data';\n",
              "        await google.colab.output.renderOutput(dataTable, element);\n",
              "        const docLink = document.createElement('div');\n",
              "        docLink.innerHTML = docLinkHtml;\n",
              "        element.appendChild(docLink);\n",
              "      }\n",
              "    </script>\n",
              "  </div>\n",
              "\n",
              "\n",
              "<div id=\"df-16c35bf5-e06e-40e2-81ff-309ca672db9a\">\n",
              "  <button class=\"colab-df-quickchart\" onclick=\"quickchart('df-16c35bf5-e06e-40e2-81ff-309ca672db9a')\"\n",
              "            title=\"Suggest charts\"\n",
              "            style=\"display:none;\">\n",
              "\n",
              "<svg xmlns=\"http://www.w3.org/2000/svg\" height=\"24px\"viewBox=\"0 0 24 24\"\n",
              "     width=\"24px\">\n",
              "    <g>\n",
              "        <path d=\"M19 3H5c-1.1 0-2 .9-2 2v14c0 1.1.9 2 2 2h14c1.1 0 2-.9 2-2V5c0-1.1-.9-2-2-2zM9 17H7v-7h2v7zm4 0h-2V7h2v10zm4 0h-2v-4h2v4z\"/>\n",
              "    </g>\n",
              "</svg>\n",
              "  </button>\n",
              "\n",
              "<style>\n",
              "  .colab-df-quickchart {\n",
              "      --bg-color: #E8F0FE;\n",
              "      --fill-color: #1967D2;\n",
              "      --hover-bg-color: #E2EBFA;\n",
              "      --hover-fill-color: #174EA6;\n",
              "      --disabled-fill-color: #AAA;\n",
              "      --disabled-bg-color: #DDD;\n",
              "  }\n",
              "\n",
              "  [theme=dark] .colab-df-quickchart {\n",
              "      --bg-color: #3B4455;\n",
              "      --fill-color: #D2E3FC;\n",
              "      --hover-bg-color: #434B5C;\n",
              "      --hover-fill-color: #FFFFFF;\n",
              "      --disabled-bg-color: #3B4455;\n",
              "      --disabled-fill-color: #666;\n",
              "  }\n",
              "\n",
              "  .colab-df-quickchart {\n",
              "    background-color: var(--bg-color);\n",
              "    border: none;\n",
              "    border-radius: 50%;\n",
              "    cursor: pointer;\n",
              "    display: none;\n",
              "    fill: var(--fill-color);\n",
              "    height: 32px;\n",
              "    padding: 0;\n",
              "    width: 32px;\n",
              "  }\n",
              "\n",
              "  .colab-df-quickchart:hover {\n",
              "    background-color: var(--hover-bg-color);\n",
              "    box-shadow: 0 1px 2px rgba(60, 64, 67, 0.3), 0 1px 3px 1px rgba(60, 64, 67, 0.15);\n",
              "    fill: var(--button-hover-fill-color);\n",
              "  }\n",
              "\n",
              "  .colab-df-quickchart-complete:disabled,\n",
              "  .colab-df-quickchart-complete:disabled:hover {\n",
              "    background-color: var(--disabled-bg-color);\n",
              "    fill: var(--disabled-fill-color);\n",
              "    box-shadow: none;\n",
              "  }\n",
              "\n",
              "  .colab-df-spinner {\n",
              "    border: 2px solid var(--fill-color);\n",
              "    border-color: transparent;\n",
              "    border-bottom-color: var(--fill-color);\n",
              "    animation:\n",
              "      spin 1s steps(1) infinite;\n",
              "  }\n",
              "\n",
              "  @keyframes spin {\n",
              "    0% {\n",
              "      border-color: transparent;\n",
              "      border-bottom-color: var(--fill-color);\n",
              "      border-left-color: var(--fill-color);\n",
              "    }\n",
              "    20% {\n",
              "      border-color: transparent;\n",
              "      border-left-color: var(--fill-color);\n",
              "      border-top-color: var(--fill-color);\n",
              "    }\n",
              "    30% {\n",
              "      border-color: transparent;\n",
              "      border-left-color: var(--fill-color);\n",
              "      border-top-color: var(--fill-color);\n",
              "      border-right-color: var(--fill-color);\n",
              "    }\n",
              "    40% {\n",
              "      border-color: transparent;\n",
              "      border-right-color: var(--fill-color);\n",
              "      border-top-color: var(--fill-color);\n",
              "    }\n",
              "    60% {\n",
              "      border-color: transparent;\n",
              "      border-right-color: var(--fill-color);\n",
              "    }\n",
              "    80% {\n",
              "      border-color: transparent;\n",
              "      border-right-color: var(--fill-color);\n",
              "      border-bottom-color: var(--fill-color);\n",
              "    }\n",
              "    90% {\n",
              "      border-color: transparent;\n",
              "      border-bottom-color: var(--fill-color);\n",
              "    }\n",
              "  }\n",
              "</style>\n",
              "\n",
              "  <script>\n",
              "    async function quickchart(key) {\n",
              "      const quickchartButtonEl =\n",
              "        document.querySelector('#' + key + ' button');\n",
              "      quickchartButtonEl.disabled = true;  // To prevent multiple clicks.\n",
              "      quickchartButtonEl.classList.add('colab-df-spinner');\n",
              "      try {\n",
              "        const charts = await google.colab.kernel.invokeFunction(\n",
              "            'suggestCharts', [key], {});\n",
              "      } catch (error) {\n",
              "        console.error('Error during call to suggestCharts:', error);\n",
              "      }\n",
              "      quickchartButtonEl.classList.remove('colab-df-spinner');\n",
              "      quickchartButtonEl.classList.add('colab-df-quickchart-complete');\n",
              "    }\n",
              "    (() => {\n",
              "      let quickchartButtonEl =\n",
              "        document.querySelector('#df-16c35bf5-e06e-40e2-81ff-309ca672db9a button');\n",
              "      quickchartButtonEl.style.display =\n",
              "        google.colab.kernel.accessAllowed ? 'block' : 'none';\n",
              "    })();\n",
              "  </script>\n",
              "</div>\n",
              "\n",
              "  <div id=\"id_bf51dba8-8e41-4b9e-8e01-3607d07fe5b2\">\n",
              "    <style>\n",
              "      .colab-df-generate {\n",
              "        background-color: #E8F0FE;\n",
              "        border: none;\n",
              "        border-radius: 50%;\n",
              "        cursor: pointer;\n",
              "        display: none;\n",
              "        fill: #1967D2;\n",
              "        height: 32px;\n",
              "        padding: 0 0 0 0;\n",
              "        width: 32px;\n",
              "      }\n",
              "\n",
              "      .colab-df-generate:hover {\n",
              "        background-color: #E2EBFA;\n",
              "        box-shadow: 0px 1px 2px rgba(60, 64, 67, 0.3), 0px 1px 3px 1px rgba(60, 64, 67, 0.15);\n",
              "        fill: #174EA6;\n",
              "      }\n",
              "\n",
              "      [theme=dark] .colab-df-generate {\n",
              "        background-color: #3B4455;\n",
              "        fill: #D2E3FC;\n",
              "      }\n",
              "\n",
              "      [theme=dark] .colab-df-generate:hover {\n",
              "        background-color: #434B5C;\n",
              "        box-shadow: 0px 1px 3px 1px rgba(0, 0, 0, 0.15);\n",
              "        filter: drop-shadow(0px 1px 2px rgba(0, 0, 0, 0.3));\n",
              "        fill: #FFFFFF;\n",
              "      }\n",
              "    </style>\n",
              "    <button class=\"colab-df-generate\" onclick=\"generateWithVariable('insurance')\"\n",
              "            title=\"Generate code using this dataframe.\"\n",
              "            style=\"display:none;\">\n",
              "\n",
              "  <svg xmlns=\"http://www.w3.org/2000/svg\" height=\"24px\"viewBox=\"0 0 24 24\"\n",
              "       width=\"24px\">\n",
              "    <path d=\"M7,19H8.4L18.45,9,17,7.55,7,17.6ZM5,21V16.75L18.45,3.32a2,2,0,0,1,2.83,0l1.4,1.43a1.91,1.91,0,0,1,.58,1.4,1.91,1.91,0,0,1-.58,1.4L9.25,21ZM18.45,9,17,7.55Zm-12,3A5.31,5.31,0,0,0,4.9,8.1,5.31,5.31,0,0,0,1,6.5,5.31,5.31,0,0,0,4.9,4.9,5.31,5.31,0,0,0,6.5,1,5.31,5.31,0,0,0,8.1,4.9,5.31,5.31,0,0,0,12,6.5,5.46,5.46,0,0,0,6.5,12Z\"/>\n",
              "  </svg>\n",
              "    </button>\n",
              "    <script>\n",
              "      (() => {\n",
              "      const buttonEl =\n",
              "        document.querySelector('#id_bf51dba8-8e41-4b9e-8e01-3607d07fe5b2 button.colab-df-generate');\n",
              "      buttonEl.style.display =\n",
              "        google.colab.kernel.accessAllowed ? 'block' : 'none';\n",
              "\n",
              "      buttonEl.onclick = () => {\n",
              "        google.colab.notebook.generateWithVariable('insurance');\n",
              "      }\n",
              "      })();\n",
              "    </script>\n",
              "  </div>\n",
              "\n",
              "    </div>\n",
              "  </div>\n"
            ],
            "application/vnd.google.colaboratory.intrinsic+json": {
              "type": "dataframe",
              "variable_name": "insurance",
              "summary": "{\n  \"name\": \"insurance\",\n  \"rows\": 1338,\n  \"fields\": [\n    {\n      \"column\": \"age\",\n      \"properties\": {\n        \"dtype\": \"number\",\n        \"std\": 14,\n        \"min\": 18,\n        \"max\": 64,\n        \"num_unique_values\": 47,\n        \"samples\": [\n          21,\n          45,\n          36\n        ],\n        \"semantic_type\": \"\",\n        \"description\": \"\"\n      }\n    },\n    {\n      \"column\": \"sex\",\n      \"properties\": {\n        \"dtype\": \"category\",\n        \"num_unique_values\": 2,\n        \"samples\": [\n          \"male\",\n          \"female\"\n        ],\n        \"semantic_type\": \"\",\n        \"description\": \"\"\n      }\n    },\n    {\n      \"column\": \"bmi\",\n      \"properties\": {\n        \"dtype\": \"number\",\n        \"std\": 6.098186911679017,\n        \"min\": 15.96,\n        \"max\": 53.13,\n        \"num_unique_values\": 548,\n        \"samples\": [\n          23.18,\n          26.885\n        ],\n        \"semantic_type\": \"\",\n        \"description\": \"\"\n      }\n    },\n    {\n      \"column\": \"children\",\n      \"properties\": {\n        \"dtype\": \"number\",\n        \"std\": 1,\n        \"min\": 0,\n        \"max\": 5,\n        \"num_unique_values\": 6,\n        \"samples\": [\n          0,\n          1\n        ],\n        \"semantic_type\": \"\",\n        \"description\": \"\"\n      }\n    },\n    {\n      \"column\": \"smoker\",\n      \"properties\": {\n        \"dtype\": \"category\",\n        \"num_unique_values\": 2,\n        \"samples\": [\n          \"no\",\n          \"yes\"\n        ],\n        \"semantic_type\": \"\",\n        \"description\": \"\"\n      }\n    },\n    {\n      \"column\": \"region\",\n      \"properties\": {\n        \"dtype\": \"category\",\n        \"num_unique_values\": 4,\n        \"samples\": [\n          \"southeast\",\n          \"northeast\"\n        ],\n        \"semantic_type\": \"\",\n        \"description\": \"\"\n      }\n    },\n    {\n      \"column\": \"charges\",\n      \"properties\": {\n        \"dtype\": \"number\",\n        \"std\": 12110.011236693994,\n        \"min\": 1121.8739,\n        \"max\": 63770.42801,\n        \"num_unique_values\": 1337,\n        \"samples\": [\n          8688.85885,\n          5708.867\n        ],\n        \"semantic_type\": \"\",\n        \"description\": \"\"\n      }\n    }\n  ]\n}"
            }
          },
          "metadata": {},
          "execution_count": 89
        }
      ]
    },
    {
      "cell_type": "markdown",
      "metadata": {
        "id": "x8VN6GfP4Dsn"
      },
      "source": [
        "To prepare our data, we can borrow a few classes from Scikit-Learn."
      ]
    },
    {
      "cell_type": "code",
      "metadata": {
        "id": "XR8i1bHZAV6o"
      },
      "source": [
        "from sklearn.compose import make_column_transformer\n",
        "from sklearn.preprocessing import MinMaxScaler, OneHotEncoder\n",
        "from sklearn.model_selection import train_test_split\n",
        "\n",
        "# Create a column transformer\n",
        "ct = make_column_transformer(\n",
        "    (MinMaxScaler(), [\"age\", \"bmi\", \"children\"]), # turn all values in these columns between 0 and 1\n",
        "    (OneHotEncoder(handle_unknown=\"ignore\"), [\"sex\", \"smoker\", \"region\"])\n",
        ")\n",
        "\n",
        "# Create X & y\n",
        "X = insurance.drop(\"charges\", axis=1)\n",
        "y = insurance[\"charges\"]\n",
        "\n",
        "# Build our train and test sets\n",
        "X_train, X_test, y_train, y_test = train_test_split(X, y, test_size=0.2, random_state=42)\n",
        "\n",
        "# Fit the column transformer to our training data\n",
        "ct.fit(X_train)\n",
        "\n",
        "# Transform training and test data with normalization (MinMaxScaler) and OneHotEncoder\n",
        "X_train_normal = ct.transform(X_train)\n",
        "X_test_normal = ct.transform(X_test)"
      ],
      "execution_count": 90,
      "outputs": []
    },
    {
      "cell_type": "code",
      "metadata": {
        "colab": {
          "base_uri": "https://localhost:8080/",
          "height": 272
        },
        "id": "IGD73N7651a3",
        "outputId": "17fa12a3-ec5e-4016-fa57-7d264ba4a247"
      },
      "source": [
        "# What does our data look like now?\n",
        "X_train.loc[0]"
      ],
      "execution_count": 91,
      "outputs": [
        {
          "output_type": "execute_result",
          "data": {
            "text/plain": [
              "age                19\n",
              "sex            female\n",
              "bmi              27.9\n",
              "children            0\n",
              "smoker            yes\n",
              "region      southwest\n",
              "Name: 0, dtype: object"
            ],
            "text/html": [
              "<div>\n",
              "<style scoped>\n",
              "    .dataframe tbody tr th:only-of-type {\n",
              "        vertical-align: middle;\n",
              "    }\n",
              "\n",
              "    .dataframe tbody tr th {\n",
              "        vertical-align: top;\n",
              "    }\n",
              "\n",
              "    .dataframe thead th {\n",
              "        text-align: right;\n",
              "    }\n",
              "</style>\n",
              "<table border=\"1\" class=\"dataframe\">\n",
              "  <thead>\n",
              "    <tr style=\"text-align: right;\">\n",
              "      <th></th>\n",
              "      <th>0</th>\n",
              "    </tr>\n",
              "  </thead>\n",
              "  <tbody>\n",
              "    <tr>\n",
              "      <th>age</th>\n",
              "      <td>19</td>\n",
              "    </tr>\n",
              "    <tr>\n",
              "      <th>sex</th>\n",
              "      <td>female</td>\n",
              "    </tr>\n",
              "    <tr>\n",
              "      <th>bmi</th>\n",
              "      <td>27.9</td>\n",
              "    </tr>\n",
              "    <tr>\n",
              "      <th>children</th>\n",
              "      <td>0</td>\n",
              "    </tr>\n",
              "    <tr>\n",
              "      <th>smoker</th>\n",
              "      <td>yes</td>\n",
              "    </tr>\n",
              "    <tr>\n",
              "      <th>region</th>\n",
              "      <td>southwest</td>\n",
              "    </tr>\n",
              "  </tbody>\n",
              "</table>\n",
              "</div><br><label><b>dtype:</b> object</label>"
            ]
          },
          "metadata": {},
          "execution_count": 91
        }
      ]
    },
    {
      "cell_type": "code",
      "metadata": {
        "colab": {
          "base_uri": "https://localhost:8080/"
        },
        "id": "SQsT3lTJ55qS",
        "outputId": "0fa9e022-9afc-4af4-b57a-92881a2390c0"
      },
      "source": [
        "X_train_normal[0]"
      ],
      "execution_count": 92,
      "outputs": [
        {
          "output_type": "execute_result",
          "data": {
            "text/plain": [
              "array([0.60869565, 0.10734463, 0.4       , 1.        , 0.        ,\n",
              "       1.        , 0.        , 0.        , 1.        , 0.        ,\n",
              "       0.        ])"
            ]
          },
          "metadata": {},
          "execution_count": 92
        }
      ]
    },
    {
      "cell_type": "code",
      "metadata": {
        "colab": {
          "base_uri": "https://localhost:8080/"
        },
        "id": "_tiE2Dj86M6g",
        "outputId": "3c02c115-7010-43ec-aeab-a81f6726a042"
      },
      "source": [
        "X_train.shape, X_train_normal.shape"
      ],
      "execution_count": 93,
      "outputs": [
        {
          "output_type": "execute_result",
          "data": {
            "text/plain": [
              "((1070, 6), (1070, 11))"
            ]
          },
          "metadata": {},
          "execution_count": 93
        }
      ]
    },
    {
      "cell_type": "markdown",
      "metadata": {
        "id": "g7o1A7kL6Yrm"
      },
      "source": [
        "Beautiful! Our data has been normalized and one hot encoded. Now let's build a neural network model on it and see how it goes."
      ]
    },
    {
      "cell_type": "code",
      "metadata": {
        "colab": {
          "base_uri": "https://localhost:8080/"
        },
        "id": "KDF9TU0_6W2r",
        "outputId": "c2d4196d-c160-4426-b8ff-93386ff3cd34"
      },
      "source": [
        "# Build a neural network model to fit on our normalized data\n",
        "tf.random.set_seed(42)\n",
        "\n",
        "# 1. Create the model\n",
        "insurance_model_4 = keras.Sequential([\n",
        "  keras.layers.Dense(100),\n",
        "  keras.layers.Dense(10),\n",
        "  keras.layers.Dense(1)\n",
        "])\n",
        "\n",
        "# 2. Compile the model\n",
        "insurance_model_4.compile(loss=keras.losses.mae,\n",
        "                          optimizer=keras.optimizers.Adam(),\n",
        "                          metrics=[\"mae\"])\n",
        "\n",
        "# 3. Fit the model\n",
        "insurance_model_4.fit(X_train_normal, y_train, epochs=100)"
      ],
      "execution_count": 94,
      "outputs": [
        {
          "output_type": "stream",
          "name": "stdout",
          "text": [
            "Epoch 1/100\n",
            "34/34 [==============================] - 1s 2ms/step - loss: 13343.5010 - mae: 13343.5010\n",
            "Epoch 2/100\n",
            "34/34 [==============================] - 0s 2ms/step - loss: 13334.4873 - mae: 13334.4873\n",
            "Epoch 3/100\n",
            "34/34 [==============================] - 0s 2ms/step - loss: 13312.2461 - mae: 13312.2461\n",
            "Epoch 4/100\n",
            "34/34 [==============================] - 0s 2ms/step - loss: 13265.9014 - mae: 13265.9014\n",
            "Epoch 5/100\n",
            "34/34 [==============================] - 0s 2ms/step - loss: 13184.1299 - mae: 13184.1299\n",
            "Epoch 6/100\n",
            "34/34 [==============================] - 0s 2ms/step - loss: 13055.9160 - mae: 13055.9160\n",
            "Epoch 7/100\n",
            "34/34 [==============================] - 0s 2ms/step - loss: 12871.1816 - mae: 12871.1816\n",
            "Epoch 8/100\n",
            "34/34 [==============================] - 0s 2ms/step - loss: 12619.9609 - mae: 12619.9609\n",
            "Epoch 9/100\n",
            "34/34 [==============================] - 0s 2ms/step - loss: 12292.1475 - mae: 12292.1475\n",
            "Epoch 10/100\n",
            "34/34 [==============================] - 0s 2ms/step - loss: 11884.8955 - mae: 11884.8955\n",
            "Epoch 11/100\n",
            "34/34 [==============================] - 0s 4ms/step - loss: 11409.8115 - mae: 11409.8115\n",
            "Epoch 12/100\n",
            "34/34 [==============================] - 0s 3ms/step - loss: 10906.4062 - mae: 10906.4062\n",
            "Epoch 13/100\n",
            "34/34 [==============================] - 0s 3ms/step - loss: 10407.4277 - mae: 10407.4277\n",
            "Epoch 14/100\n",
            "34/34 [==============================] - 0s 2ms/step - loss: 9917.9541 - mae: 9917.9541\n",
            "Epoch 15/100\n",
            "34/34 [==============================] - 0s 2ms/step - loss: 9455.3818 - mae: 9455.3818\n",
            "Epoch 16/100\n",
            "34/34 [==============================] - 0s 2ms/step - loss: 9045.0986 - mae: 9045.0986\n",
            "Epoch 17/100\n",
            "34/34 [==============================] - 0s 2ms/step - loss: 8708.2295 - mae: 8708.2295\n",
            "Epoch 18/100\n",
            "34/34 [==============================] - 0s 2ms/step - loss: 8433.2559 - mae: 8433.2559\n",
            "Epoch 19/100\n",
            "34/34 [==============================] - 0s 2ms/step - loss: 8228.1572 - mae: 8228.1572\n",
            "Epoch 20/100\n",
            "34/34 [==============================] - 0s 2ms/step - loss: 8087.1382 - mae: 8087.1382\n",
            "Epoch 21/100\n",
            "34/34 [==============================] - 0s 3ms/step - loss: 7981.2241 - mae: 7981.2241\n",
            "Epoch 22/100\n",
            "34/34 [==============================] - 0s 3ms/step - loss: 7907.5796 - mae: 7907.5796\n",
            "Epoch 23/100\n",
            "34/34 [==============================] - 0s 2ms/step - loss: 7849.9185 - mae: 7849.9185\n",
            "Epoch 24/100\n",
            "34/34 [==============================] - 0s 2ms/step - loss: 7798.0967 - mae: 7798.0967\n",
            "Epoch 25/100\n",
            "34/34 [==============================] - 0s 2ms/step - loss: 7759.7578 - mae: 7759.7578\n",
            "Epoch 26/100\n",
            "34/34 [==============================] - 0s 2ms/step - loss: 7708.1616 - mae: 7708.1616\n",
            "Epoch 27/100\n",
            "34/34 [==============================] - 0s 2ms/step - loss: 7665.9438 - mae: 7665.9438\n",
            "Epoch 28/100\n",
            "34/34 [==============================] - 0s 2ms/step - loss: 7623.5366 - mae: 7623.5366\n",
            "Epoch 29/100\n",
            "34/34 [==============================] - 0s 2ms/step - loss: 7581.1396 - mae: 7581.1396\n",
            "Epoch 30/100\n",
            "34/34 [==============================] - 0s 2ms/step - loss: 7537.6562 - mae: 7537.6562\n",
            "Epoch 31/100\n",
            "34/34 [==============================] - 0s 2ms/step - loss: 7493.6641 - mae: 7493.6641\n",
            "Epoch 32/100\n",
            "34/34 [==============================] - 0s 2ms/step - loss: 7449.5132 - mae: 7449.5132\n",
            "Epoch 33/100\n",
            "34/34 [==============================] - 0s 3ms/step - loss: 7405.1216 - mae: 7405.1216\n",
            "Epoch 34/100\n",
            "34/34 [==============================] - 0s 3ms/step - loss: 7356.8350 - mae: 7356.8350\n",
            "Epoch 35/100\n",
            "34/34 [==============================] - 0s 3ms/step - loss: 7309.9780 - mae: 7309.9780\n",
            "Epoch 36/100\n",
            "34/34 [==============================] - 0s 2ms/step - loss: 7259.6011 - mae: 7259.6011\n",
            "Epoch 37/100\n",
            "34/34 [==============================] - 0s 2ms/step - loss: 7209.1758 - mae: 7209.1758\n",
            "Epoch 38/100\n",
            "34/34 [==============================] - 0s 2ms/step - loss: 7158.0020 - mae: 7158.0020\n",
            "Epoch 39/100\n",
            "34/34 [==============================] - 0s 2ms/step - loss: 7103.0474 - mae: 7103.0474\n",
            "Epoch 40/100\n",
            "34/34 [==============================] - 0s 2ms/step - loss: 7047.4355 - mae: 7047.4355\n",
            "Epoch 41/100\n",
            "34/34 [==============================] - 0s 2ms/step - loss: 6990.8203 - mae: 6990.8203\n",
            "Epoch 42/100\n",
            "34/34 [==============================] - 0s 2ms/step - loss: 6931.7964 - mae: 6931.7964\n",
            "Epoch 43/100\n",
            "34/34 [==============================] - 0s 2ms/step - loss: 6869.0181 - mae: 6869.0181\n",
            "Epoch 44/100\n",
            "34/34 [==============================] - 0s 2ms/step - loss: 6802.5972 - mae: 6802.5972\n",
            "Epoch 45/100\n",
            "34/34 [==============================] - 0s 3ms/step - loss: 6735.1924 - mae: 6735.1924\n",
            "Epoch 46/100\n",
            "34/34 [==============================] - 0s 3ms/step - loss: 6666.0146 - mae: 6666.0146\n",
            "Epoch 47/100\n",
            "34/34 [==============================] - 0s 2ms/step - loss: 6594.7354 - mae: 6594.7354\n",
            "Epoch 48/100\n",
            "34/34 [==============================] - 0s 2ms/step - loss: 6515.5718 - mae: 6515.5718\n",
            "Epoch 49/100\n",
            "34/34 [==============================] - 0s 2ms/step - loss: 6436.6533 - mae: 6436.6533\n",
            "Epoch 50/100\n",
            "34/34 [==============================] - 0s 2ms/step - loss: 6350.5659 - mae: 6350.5659\n",
            "Epoch 51/100\n",
            "34/34 [==============================] - 0s 2ms/step - loss: 6265.8066 - mae: 6265.8066\n",
            "Epoch 52/100\n",
            "34/34 [==============================] - 0s 2ms/step - loss: 6173.1299 - mae: 6173.1299\n",
            "Epoch 53/100\n",
            "34/34 [==============================] - 0s 2ms/step - loss: 6077.1343 - mae: 6077.1343\n",
            "Epoch 54/100\n",
            "34/34 [==============================] - 0s 2ms/step - loss: 5978.3770 - mae: 5978.3770\n",
            "Epoch 55/100\n",
            "34/34 [==============================] - 0s 2ms/step - loss: 5871.0474 - mae: 5871.0474\n",
            "Epoch 56/100\n",
            "34/34 [==============================] - 0s 3ms/step - loss: 5762.6689 - mae: 5762.6689\n",
            "Epoch 57/100\n",
            "34/34 [==============================] - 0s 3ms/step - loss: 5647.3735 - mae: 5647.3735\n",
            "Epoch 58/100\n",
            "34/34 [==============================] - 0s 2ms/step - loss: 5530.5874 - mae: 5530.5874\n",
            "Epoch 59/100\n",
            "34/34 [==============================] - 0s 2ms/step - loss: 5412.1436 - mae: 5412.1436\n",
            "Epoch 60/100\n",
            "34/34 [==============================] - 0s 2ms/step - loss: 5288.8628 - mae: 5288.8628\n",
            "Epoch 61/100\n",
            "34/34 [==============================] - 0s 2ms/step - loss: 5162.3228 - mae: 5162.3228\n",
            "Epoch 62/100\n",
            "34/34 [==============================] - 0s 2ms/step - loss: 5031.6733 - mae: 5031.6733\n",
            "Epoch 63/100\n",
            "34/34 [==============================] - 0s 3ms/step - loss: 4902.7183 - mae: 4902.7183\n",
            "Epoch 64/100\n",
            "34/34 [==============================] - 0s 3ms/step - loss: 4770.5640 - mae: 4770.5640\n",
            "Epoch 65/100\n",
            "34/34 [==============================] - 0s 3ms/step - loss: 4644.5903 - mae: 4644.5903\n",
            "Epoch 66/100\n",
            "34/34 [==============================] - 0s 4ms/step - loss: 4520.5864 - mae: 4520.5864\n",
            "Epoch 67/100\n",
            "34/34 [==============================] - 0s 4ms/step - loss: 4412.3369 - mae: 4412.3369\n",
            "Epoch 68/100\n",
            "34/34 [==============================] - 0s 6ms/step - loss: 4306.5137 - mae: 4306.5137\n",
            "Epoch 69/100\n",
            "34/34 [==============================] - 0s 4ms/step - loss: 4205.1021 - mae: 4205.1021\n",
            "Epoch 70/100\n",
            "34/34 [==============================] - 0s 3ms/step - loss: 4111.7803 - mae: 4111.7803\n",
            "Epoch 71/100\n",
            "34/34 [==============================] - 0s 3ms/step - loss: 4024.5364 - mae: 4024.5364\n",
            "Epoch 72/100\n",
            "34/34 [==============================] - 0s 3ms/step - loss: 3948.6140 - mae: 3948.6140\n",
            "Epoch 73/100\n",
            "34/34 [==============================] - 0s 5ms/step - loss: 3883.3618 - mae: 3883.3618\n",
            "Epoch 74/100\n",
            "34/34 [==============================] - 0s 3ms/step - loss: 3829.2957 - mae: 3829.2957\n",
            "Epoch 75/100\n",
            "34/34 [==============================] - 0s 3ms/step - loss: 3786.1941 - mae: 3786.1941\n",
            "Epoch 76/100\n",
            "34/34 [==============================] - 0s 3ms/step - loss: 3752.8899 - mae: 3752.8899\n",
            "Epoch 77/100\n",
            "34/34 [==============================] - 0s 3ms/step - loss: 3726.3770 - mae: 3726.3770\n",
            "Epoch 78/100\n",
            "34/34 [==============================] - 0s 4ms/step - loss: 3707.7358 - mae: 3707.7358\n",
            "Epoch 79/100\n",
            "34/34 [==============================] - 0s 3ms/step - loss: 3693.8325 - mae: 3693.8325\n",
            "Epoch 80/100\n",
            "34/34 [==============================] - 0s 3ms/step - loss: 3684.3779 - mae: 3684.3779\n",
            "Epoch 81/100\n",
            "34/34 [==============================] - 0s 5ms/step - loss: 3677.0408 - mae: 3677.0408\n",
            "Epoch 82/100\n",
            "34/34 [==============================] - 0s 4ms/step - loss: 3673.1838 - mae: 3673.1838\n",
            "Epoch 83/100\n",
            "34/34 [==============================] - 0s 4ms/step - loss: 3666.4912 - mae: 3666.4912\n",
            "Epoch 84/100\n",
            "34/34 [==============================] - 0s 3ms/step - loss: 3663.6169 - mae: 3663.6169\n",
            "Epoch 85/100\n",
            "34/34 [==============================] - 0s 4ms/step - loss: 3661.6873 - mae: 3661.6873\n",
            "Epoch 86/100\n",
            "34/34 [==============================] - 0s 3ms/step - loss: 3659.3899 - mae: 3659.3899\n",
            "Epoch 87/100\n",
            "34/34 [==============================] - 0s 2ms/step - loss: 3656.2693 - mae: 3656.2693\n",
            "Epoch 88/100\n",
            "34/34 [==============================] - 0s 2ms/step - loss: 3653.7012 - mae: 3653.7012\n",
            "Epoch 89/100\n",
            "34/34 [==============================] - 0s 3ms/step - loss: 3651.9609 - mae: 3651.9609\n",
            "Epoch 90/100\n",
            "34/34 [==============================] - 0s 3ms/step - loss: 3650.4604 - mae: 3650.4604\n",
            "Epoch 91/100\n",
            "34/34 [==============================] - 0s 3ms/step - loss: 3647.3064 - mae: 3647.3064\n",
            "Epoch 92/100\n",
            "34/34 [==============================] - 0s 2ms/step - loss: 3646.5686 - mae: 3646.5686\n",
            "Epoch 93/100\n",
            "34/34 [==============================] - 0s 3ms/step - loss: 3644.3262 - mae: 3644.3262\n",
            "Epoch 94/100\n",
            "34/34 [==============================] - 0s 2ms/step - loss: 3642.6201 - mae: 3642.6201\n",
            "Epoch 95/100\n",
            "34/34 [==============================] - 0s 2ms/step - loss: 3643.6003 - mae: 3643.6003\n",
            "Epoch 96/100\n",
            "34/34 [==============================] - 0s 2ms/step - loss: 3640.4734 - mae: 3640.4734\n",
            "Epoch 97/100\n",
            "34/34 [==============================] - 0s 3ms/step - loss: 3638.0215 - mae: 3638.0215\n",
            "Epoch 98/100\n",
            "34/34 [==============================] - 0s 2ms/step - loss: 3636.0598 - mae: 3636.0598\n",
            "Epoch 99/100\n",
            "34/34 [==============================] - 0s 2ms/step - loss: 3635.5039 - mae: 3635.5039\n",
            "Epoch 100/100\n",
            "34/34 [==============================] - 0s 3ms/step - loss: 3633.8208 - mae: 3633.8208\n"
          ]
        },
        {
          "output_type": "execute_result",
          "data": {
            "text/plain": [
              "<tf_keras.src.callbacks.History at 0x78703b0c4e50>"
            ]
          },
          "metadata": {},
          "execution_count": 94
        }
      ]
    },
    {
      "cell_type": "code",
      "metadata": {
        "colab": {
          "base_uri": "https://localhost:8080/"
        },
        "id": "wt84g6C790Y0",
        "outputId": "61c448be-03f5-4d61-e59d-933f3880790a"
      },
      "source": [
        "# Evalaute our insurance model trained on normalized data\n",
        "insurance_model_4.evaluate(X_test_normal, y_test)"
      ],
      "execution_count": 95,
      "outputs": [
        {
          "output_type": "stream",
          "name": "stdout",
          "text": [
            "9/9 [==============================] - 0s 2ms/step - loss: 3436.3672 - mae: 3436.3672\n"
          ]
        },
        {
          "output_type": "execute_result",
          "data": {
            "text/plain": [
              "[3436.3671875, 3436.3671875]"
            ]
          },
          "metadata": {},
          "execution_count": 95
        }
      ]
    },
    {
      "cell_type": "code",
      "metadata": {
        "id": "EDJuv8gB-IJ0"
      },
      "source": [
        "# Insurance model 2 results\n",
        "# 9/9 [==============================] - 0s 1ms/step - loss: 4924.3477 - mae: 4924.3477"
      ],
      "execution_count": 96,
      "outputs": []
    },
    {
      "cell_type": "markdown",
      "metadata": {
        "id": "dZZQN7Z5_N46"
      },
      "source": [
        "Our model (`insurance_model_4`) fit on normalized data achieved a ~30% better score compared to the same model (`insurnace_model_2`) fit on non-normalized data!"
      ]
    },
    {
      "cell_type": "code",
      "metadata": {
        "colab": {
          "base_uri": "https://localhost:8080/"
        },
        "id": "Ck80C5Im9Qo8",
        "outputId": "5501eae6-3ed0-4c9c-972e-ce5b24ab4482"
      },
      "source": [
        "insurance_model_2.summary()"
      ],
      "execution_count": 97,
      "outputs": [
        {
          "output_type": "stream",
          "name": "stdout",
          "text": [
            "Model: \"sequential_8\"\n",
            "_________________________________________________________________\n",
            " Layer (type)                Output Shape              Param #   \n",
            "=================================================================\n",
            " dense_12 (Dense)            (None, 100)               1200      \n",
            "                                                                 \n",
            " dense_13 (Dense)            (None, 10)                1010      \n",
            "                                                                 \n",
            " dense_14 (Dense)            (None, 1)                 11        \n",
            "                                                                 \n",
            "=================================================================\n",
            "Total params: 2221 (8.68 KB)\n",
            "Trainable params: 2221 (8.68 KB)\n",
            "Non-trainable params: 0 (0.00 Byte)\n",
            "_________________________________________________________________\n"
          ]
        }
      ]
    }
  ]
}